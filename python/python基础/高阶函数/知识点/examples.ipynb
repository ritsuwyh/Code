{
 "cells": [
  {
   "cell_type": "code",
   "execution_count": 13,
   "metadata": {},
   "outputs": [
    {
     "name": "stdout",
     "output_type": "stream",
     "text": [
      "2726236875056 2726236875088 2726236875120\n",
      "2726236875056 2726236875088 2726236875120\n"
     ]
    }
   ],
   "source": [
    "num = [1, 2, 3] *3\n",
    "num\n",
    "print(id(num[0]), id(num[1]), id(num[2]))\n",
    "print(id(num[3]), id(num[4]), id(num[5]))"
   ]
  },
  {
   "cell_type": "code",
   "execution_count": 14,
   "metadata": {},
   "outputs": [
    {
     "name": "stdout",
     "output_type": "stream",
     "text": [
      "Help on built-in function id in module builtins:\n",
      "\n",
      "id(obj, /)\n",
      "    Return the identity of an object.\n",
      "    \n",
      "    This is guaranteed to be unique among simultaneously existing objects.\n",
      "    (CPython uses the object's memory address.)\n",
      "\n"
     ]
    }
   ],
   "source": [
    "help(id)"
   ]
  },
  {
   "cell_type": "code",
   "execution_count": 15,
   "metadata": {},
   "outputs": [
    {
     "name": "stdout",
     "output_type": "stream",
     "text": [
      "[1, 2, 3, 4, 2, 3, 1, 2, 3]\n"
     ]
    }
   ],
   "source": [
    "num[3] = 4\n",
    "print(num)"
   ]
  },
  {
   "cell_type": "code",
   "execution_count": 16,
   "metadata": {},
   "outputs": [
    {
     "name": "stdout",
     "output_type": "stream",
     "text": [
      "[[1, 2, 3], [1, 2, 3]]\n",
      "[[0, 2, 3], [0, 2, 3]]\n",
      "[[4, 2, 3], [4, 2, 3]]\n"
     ]
    }
   ],
   "source": [
    "num = [[1, 2, 3]] * 2\n",
    "print(num)\n",
    "num[0][0] = 0 # 这里直接更改了两个位置的元素 \n",
    "print(num)\n",
    "num[1][0] = 4\n",
    "print(num)\n"
   ]
  },
  {
   "cell_type": "code",
   "execution_count": 17,
   "metadata": {},
   "outputs": [
    {
     "name": "stdout",
     "output_type": "stream",
     "text": [
      "[('Tomatoes', 4.8), ('Potatoes', 3.7), ('Cucumber', 4.7), ('Carrots', 3.0), ('Leek', 4.1), ('Eggs', 5.79), ('Chicken', 10.8), ('Pork', 16.6), ('Beef', 48.8), ('Lamb', 39.1), ('Orange', 7.5), ('Watermelon', 5.9), ('Pear', 5.2), ('Banana', 4.3)]\n"
     ]
    }
   ],
   "source": [
    "prices = [('Tomatoes', 4.8), ('Potatoes', 3.7), ('Cucumber', 4.7),\n",
    "          ('Carrots', 3.0), ('Leek', 4.1), ('Eggs', 5.79), ('Chicken', 10.8), \n",
    "          ('Pork', 16.6), ('Beef', 48.8), ('Lamb', 39.1), ('Orange', 7.5), \n",
    "          ('Watermelon', 5.9), ('Pear', 5.2), ('Banana', 4.3)]\n",
    "print(prices)"
   ]
  },
  {
   "cell_type": "code",
   "execution_count": 18,
   "metadata": {},
   "outputs": [
    {
     "ename": "TypeError",
     "evalue": "'tuple' object does not support item assignment",
     "output_type": "error",
     "traceback": [
      "\u001b[1;31m---------------------------------------------------------------------------\u001b[0m",
      "\u001b[1;31mTypeError\u001b[0m                                 Traceback (most recent call last)",
      "Cell \u001b[1;32mIn[18], line 1\u001b[0m\n\u001b[1;32m----> 1\u001b[0m prices[\u001b[39m0\u001b[39;49m][\u001b[39m1\u001b[39;49m] \u001b[39m=\u001b[39m \u001b[39m4.6\u001b[39m\n",
      "\u001b[1;31mTypeError\u001b[0m: 'tuple' object does not support item assignment"
     ]
    }
   ],
   "source": [
    "prices[0][1] = 4.6"
   ]
  },
  {
   "cell_type": "code",
   "execution_count": 19,
   "metadata": {},
   "outputs": [
    {
     "name": "stdout",
     "output_type": "stream",
     "text": [
      "['element1', 'element2', 'element3'] \t\t\t 2726339664064\n",
      "['element1', 'element2', 'element3', 'element_4'] \t 2726339664064\n",
      "\n",
      "{'key_1': 1, 'key_2': 2, 'key_3': 3} \t\t\t 2726315842240\n",
      "{'key_1': 1, 'key_2': 2, 'key_3': 3, 'element_4': 4} \t 2726315842240\n",
      "\n",
      "{'element1', 'element3', 'element2'} \t\t\t 2726339177824\n",
      "{'element1', 'element3', 'element2', 'element_4'} \t 2726339177824\n"
     ]
    }
   ],
   "source": [
    "eg_list = ['element1', 'element2', 'element3'] \n",
    "print(eg_list, '\\t\\t\\t', id(eg_list))\n",
    "eg_list.append('element_4')\n",
    "print(eg_list, '\\t', id(eg_list))\n",
    "print()\n",
    "\n",
    "eg_dict = {'key_1': 1, 'key_2': 2, 'key_3': 3}\n",
    "print(eg_dict, '\\t\\t\\t', id(eg_dict))\n",
    "eg_dict['element_4'] = 4\n",
    "print(eg_dict, '\\t', id(eg_dict))\n",
    "print()\n",
    "\n",
    "eg_set  = {'element1', 'element2', 'element3'}\n",
    "print(eg_set , '\\t\\t\\t', id(eg_set ))\n",
    "eg_set.add('element_4')\n",
    "print(eg_set , '\\t', id(eg_set ))"
   ]
  },
  {
   "cell_type": "code",
   "execution_count": 20,
   "metadata": {},
   "outputs": [
    {
     "name": "stdout",
     "output_type": "stream",
     "text": [
      "10 2726236875344\n",
      "12 2726236875408\n",
      "\n",
      "(1, 3, 5, 7) \t\t 2726339497152\n",
      "(1, 3, 5, 7, 9, 11) \t 2726339521792\n"
     ]
    }
   ],
   "source": [
    "eg_int = 10\n",
    "print(eg_int, id(eg_int))\n",
    "eg_int += 2\n",
    "print(eg_int, id(eg_int))\n",
    "print()\n",
    "\n",
    "eg_tuple = (1, 3, 5, 7)\n",
    "print(eg_tuple, '\\t\\t', id(eg_tuple))\n",
    "eg_tuple += (9, 11)\n",
    "print(eg_tuple, '\\t', id(eg_tuple))"
   ]
  },
  {
   "cell_type": "code",
   "execution_count": 21,
   "metadata": {},
   "outputs": [
    {
     "name": "stdout",
     "output_type": "stream",
     "text": [
      "['a', 'c', 'a', 'c']\n",
      "['a', 'c', 'a', 'c']\n",
      "['a', 'c', 'a', 'c']\n",
      "['a', 'c', 'a', 'c']\n"
     ]
    }
   ],
   "source": [
    "ch_list = ['a','c','a','c']\n",
    "print(ch_list)\n",
    "\n",
    "ch_list = list('acac')\n",
    "print(ch_list)\n",
    "\n",
    "ch_list = a = [i for i in 'abcabc' if i != 'b']\n",
    "print(ch_list)\n",
    "\n",
    "ch_list = []\n",
    "for ch in 'abcabc':\n",
    "    if ch != 'b':\n",
    "        ch_list.append(ch)\n",
    "print(ch_list)"
   ]
  },
  {
   "cell_type": "code",
   "execution_count": 22,
   "metadata": {},
   "outputs": [
    {
     "name": "stdout",
     "output_type": "stream",
     "text": [
      "('a', 'c', 'a', 'c')\n",
      "('a', 'c', 'a', 'c')\n",
      "('a', 'c', 'a', 'c')\n",
      "('a', 'c', 'a', 'c')\n"
     ]
    }
   ],
   "source": [
    "ch_tuple = ('a', 'c', 'a', 'c')\n",
    "print(ch_tuple)\n",
    "\n",
    "ch_tuple = 'a', 'c', 'a', 'c'\n",
    "print(ch_tuple)\n",
    "\n",
    "ch_tuple = tuple('acac')\n",
    "print(ch_tuple)\n",
    "\n",
    "ch_tuple = tuple(['a', 'c', 'a', 'c'])\n",
    "print(ch_tuple)"
   ]
  },
  {
   "cell_type": "code",
   "execution_count": 23,
   "metadata": {},
   "outputs": [
    {
     "name": "stdout",
     "output_type": "stream",
     "text": [
      "<generator object <genexpr> at 0x0000027AC67DB200>\n"
     ]
    }
   ],
   "source": [
    "ch_generator = (i for i in 'abcabc' if i != 'b')\n",
    "print(ch_generator)"
   ]
  },
  {
   "cell_type": "code",
   "execution_count": 24,
   "metadata": {},
   "outputs": [
    {
     "name": "stdout",
     "output_type": "stream",
     "text": [
      "\u001b[32mlv[ 0] =\u001b[0m Excellent\n",
      "\u001b[32mlv[ 1] =\u001b[0m Good     \n",
      "\u001b[32mlv[ 2] =\u001b[0m Medium   \n",
      "\u001b[32mlv[ 3] =\u001b[0m Pass     \n",
      "\u001b[32mlv[ 4] =\u001b[0m Fail     \n",
      "\n",
      "\u001b[32mlv[-1] =\u001b[0m Fail     \n",
      "\u001b[32mlv[-2] =\u001b[0m Pass     \n",
      "\u001b[32mlv[-3] =\u001b[0m Medium   \n",
      "\u001b[32mlv[-4] =\u001b[0m Good     \n",
      "\u001b[32mlv[-5] =\u001b[0m Excellent\n"
     ]
    }
   ],
   "source": [
    "lv = ['Excellent', 'Good     ', 'Medium   ', 'Pass     ', 'Fail     ']\n",
    "print('\\033[32mlv[ 0] =\\033[0m', lv[0])\n",
    "print('\\033[32mlv[ 1] =\\033[0m', lv[1])\n",
    "print('\\033[32mlv[ 2] =\\033[0m', lv[2])\n",
    "print('\\033[32mlv[ 3] =\\033[0m', lv[3])\n",
    "print('\\033[32mlv[ 4] =\\033[0m', lv[4])\n",
    "print()\n",
    "\n",
    "print('\\033[32mlv[-1] =\\033[0m', lv[-1])\n",
    "print('\\033[32mlv[-2] =\\033[0m', lv[-2])\n",
    "print('\\033[32mlv[-3] =\\033[0m', lv[-3])\n",
    "print('\\033[32mlv[-4] =\\033[0m', lv[-4])\n",
    "print('\\033[32mlv[-5] =\\033[0m', lv[-5])"
   ]
  },
  {
   "cell_type": "code",
   "execution_count": 25,
   "metadata": {},
   "outputs": [
    {
     "name": "stdout",
     "output_type": "stream",
     "text": [
      "\u001b[32mlv[  : 3]    =\u001b[0m ['Excellent', 'Good     ', 'Medium   ']\n",
      "\u001b[32mlv[-3:  ]    =\u001b[0m ['Medium   ', 'Pass     ', 'Fail     ']\n",
      "\u001b[32mlv[ 1: 4]    =\u001b[0m ['Good     ', 'Medium   ', 'Pass     ']\n",
      "\u001b[32mlv[ 1:-1]    =\u001b[0m ['Good     ', 'Medium   ', 'Pass     ']\n",
      "\u001b[32mlv[  :  ]    =\u001b[0m ['Excellent', 'Good     ', 'Medium   ', 'Pass     ', 'Fail     ']\n",
      "\n",
      "\u001b[32mlv[  :  : 2] =\u001b[0m ['Excellent', 'Medium   ', 'Fail     ']\n",
      "\u001b[32mlv[ 1:  : 2] =\u001b[0m ['Good     ', 'Pass     ']\n",
      "\u001b[32mlv[  :  :-1] =\u001b[0m ['Fail     ', 'Pass     ', 'Medium   ', 'Good     ', 'Excellent']\n",
      "\u001b[32mlv[ 3: 0:-1] =\u001b[0m ['Pass     ', 'Medium   ', 'Good     ']\n",
      "\n"
     ]
    }
   ],
   "source": [
    "lv = ['Excellent', 'Good     ', 'Medium   ', 'Pass     ', 'Fail     ']\n",
    "print('\\033[32mlv[  : 3]    =\\033[0m', lv[:3])\n",
    "print('\\033[32mlv[-3:  ]    =\\033[0m', lv[-3:])\n",
    "print('\\033[32mlv[ 1: 4]    =\\033[0m', lv[1:4])\n",
    "print('\\033[32mlv[ 1:-1]    =\\033[0m', lv[1:-1])\n",
    "print('\\033[32mlv[  :  ]    =\\033[0m', lv[:])\n",
    "print()\n",
    "\n",
    "print('\\033[32mlv[  :  : 2] =\\033[0m', lv[::2])\n",
    "print('\\033[32mlv[ 1:  : 2] =\\033[0m', lv[1::2])\n",
    "print('\\033[32mlv[  :  :-1] =\\033[0m', lv[::-1])\n",
    "print('\\033[32mlv[ 3: 0:-1] =\\033[0m', lv[3:0:-1])\n",
    "print()"
   ]
  },
  {
   "cell_type": "code",
   "execution_count": 27,
   "metadata": {},
   "outputs": [
    {
     "ename": "IndexError",
     "evalue": "list index out of range",
     "output_type": "error",
     "traceback": [
      "\u001b[1;31m---------------------------------------------------------------------------\u001b[0m",
      "\u001b[1;31mIndexError\u001b[0m                                Traceback (most recent call last)",
      "Cell \u001b[1;32mIn[27], line 2\u001b[0m\n\u001b[0;32m      1\u001b[0m lv \u001b[39m=\u001b[39m [\u001b[39m'\u001b[39m\u001b[39mExcellent\u001b[39m\u001b[39m'\u001b[39m, \u001b[39m'\u001b[39m\u001b[39mGood     \u001b[39m\u001b[39m'\u001b[39m, \u001b[39m'\u001b[39m\u001b[39mMedium   \u001b[39m\u001b[39m'\u001b[39m, \u001b[39m'\u001b[39m\u001b[39mPass     \u001b[39m\u001b[39m'\u001b[39m, \u001b[39m'\u001b[39m\u001b[39mFail     \u001b[39m\u001b[39m'\u001b[39m]\n\u001b[1;32m----> 2\u001b[0m \u001b[39mprint\u001b[39m(\u001b[39m'\u001b[39m\u001b[39m\\033\u001b[39;00m\u001b[39m[32mlv[ 9]    =\u001b[39m\u001b[39m\\033\u001b[39;00m\u001b[39m[0m\u001b[39m\u001b[39m'\u001b[39m, lv[\u001b[39m9\u001b[39;49m])\n",
      "\u001b[1;31mIndexError\u001b[0m: list index out of range"
     ]
    }
   ],
   "source": [
    "lv = ['Excellent', 'Good     ', 'Medium   ', 'Pass     ', 'Fail     ']\n",
    "print('\\033[32mlv[ 9]    =\\033[0m', lv[9])"
   ]
  },
  {
   "cell_type": "code",
   "execution_count": 28,
   "metadata": {},
   "outputs": [
    {
     "name": "stdout",
     "output_type": "stream",
     "text": [
      "\u001b[32mlv[ 2: 9]    =\u001b[0m ['Medium   ', 'Pass     ', 'Fail     ']\n",
      "\u001b[32mlv[-9:-2]    =\u001b[0m ['Excellent', 'Good     ', 'Medium   ']\n",
      "\u001b[32mlv[ 3: 2]    =\u001b[0m []\n",
      "\u001b[32mlv[ 9:  :-1] =\u001b[0m ['Fail     ', 'Pass     ', 'Medium   ', 'Good     ', 'Excellent']\n"
     ]
    }
   ],
   "source": [
    "lv = ['Excellent', 'Good     ', 'Medium   ', 'Pass     ', 'Fail     ']\n",
    "print('\\033[32mlv[ 2: 9]    =\\033[0m', lv[2:9])\n",
    "print('\\033[32mlv[-9:-2]    =\\033[0m', lv[-9:-2])\n",
    "print('\\033[32mlv[ 3: 2]    =\\033[0m', lv[3:2])\n",
    "print('\\033[32mlv[ 9:  :-1] =\\033[0m', lv[9::-1])"
   ]
  },
  {
   "cell_type": "code",
   "execution_count": 29,
   "metadata": {},
   "outputs": [
    {
     "name": "stdout",
     "output_type": "stream",
     "text": [
      "1 2 3\n",
      "3 1 2\n"
     ]
    }
   ],
   "source": [
    "a, b, c = 1, 2, 3\n",
    "print(a, b, c)\n",
    "a, b, c = c, a, b\n",
    "print(a, b, c)"
   ]
  },
  {
   "cell_type": "code",
   "execution_count": 30,
   "metadata": {},
   "outputs": [
    {
     "name": "stdout",
     "output_type": "stream",
     "text": [
      "['P', 't', 'h', 'o', 'n']\n",
      "['P', 'y', 't', 'h', 'o', 'n']\n"
     ]
    }
   ],
   "source": [
    "s = list('Pthon')\n",
    "print(s) \n",
    "s.insert(1, 'y')\n",
    "print(s)"
   ]
  },
  {
   "cell_type": "code",
   "execution_count": 31,
   "metadata": {},
   "outputs": [
    {
     "name": "stdout",
     "output_type": "stream",
     "text": [
      "['P', 't', 'h', 'o', 'n']\n",
      "['P', 'y', 't', 'h', 'o', 'n']\n"
     ]
    }
   ],
   "source": [
    "s = list('Pthon')\n",
    "args = (1, 'y')\n",
    "print(s) \n",
    "s.insert(*args)\n",
    "print(s)"
   ]
  },
  {
   "cell_type": "code",
   "execution_count": 32,
   "metadata": {},
   "outputs": [
    {
     "name": "stdout",
     "output_type": "stream",
     "text": [
      "(1, 2, 4)\n",
      "(2, 4)\n"
     ]
    }
   ],
   "source": [
    "a, b = 4, 5 \n",
    "eg_tuple = 1, 3 if a > b else 2, 4\n",
    "print(eg_tuple)\n",
    "eg_tuple = (1, 3) if a > b else (2, 4)\n",
    "print(eg_tuple)"
   ]
  },
  {
   "cell_type": "code",
   "execution_count": 4,
   "metadata": {},
   "outputs": [
    {
     "name": "stdout",
     "output_type": "stream",
     "text": [
      "[1, 2, 3, 4, 5]\n",
      "[1, 2, 3, 4, 5, 6]\n",
      "[1, 2, 3, 4, 5, 6, 7, 8]\n",
      "[1, 2, 3, 4, 5, 6, 7, 8, [1, 2]]\n",
      "[1, 2, 3, 4, 5, 6, 7, 8, [1, 2], 9, 10, 11]\n",
      "[1, 0, 2, 3, 4, 5, 6, 7, 8, [1, 2], 9, 10, 11]\n"
     ]
    }
   ],
   "source": [
    "num = [1, 2, 3, 4, 5]\n",
    "print(num)\n",
    "num.append(6)\n",
    "print(num)\n",
    "num.extend([7, 8])\n",
    "print(num)\n",
    "num.append([1, 2])\n",
    "print(num)\n",
    "num += range(9, 12)\n",
    "print(num)\n",
    "num.insert(1, 0)\n",
    "print(num)"
   ]
  },
  {
   "cell_type": "code",
   "execution_count": 34,
   "metadata": {},
   "outputs": [
    {
     "name": "stdout",
     "output_type": "stream",
     "text": [
      "[1, 2, 3, 4, 5, 4, 3, 2, 1]\n",
      "[1, 3, 4, 5, 4, 3, 2, 1]\n",
      "[1, 3, 4, 5, 4, 3, 2]\n",
      "[]\n"
     ]
    }
   ],
   "source": [
    "num = [1, 2, 3, 4, 5, 4, 3, 2, 1]\n",
    "print(num)\n",
    "num.remove(2)\n",
    "print(num)\n",
    "num.pop()\n",
    "print(num)\n",
    "num.clear()\n",
    "print(num)"
   ]
  },
  {
   "cell_type": "code",
   "execution_count": 35,
   "metadata": {},
   "outputs": [
    {
     "name": "stdout",
     "output_type": "stream",
     "text": [
      "[31, 12, 79, 46, 55, 26, 27, 48]\n",
      "[31, 12, 79, 46, 55, 31, 12, 79, 46, 55]\n",
      "[55, 46, 79, 12, 31]\n",
      "[79, 46, 55, 12, 31]\n"
     ]
    }
   ],
   "source": [
    "num1 = [31, 12, 79, 46, 55]\n",
    "num2 = [26, 27, 48]\n",
    "print(num1 + num2)\n",
    "print(num1 * 2) \n",
    "num1.reverse()\n",
    "print(num1)\n",
    "num1.sort(key=(lambda x:x%10), reverse=True)\n",
    "print(num1)"
   ]
  },
  {
   "cell_type": "code",
   "execution_count": 36,
   "metadata": {},
   "outputs": [
    {
     "name": "stdout",
     "output_type": "stream",
     "text": [
      "6\n",
      "True\n",
      "3\n",
      "True\n",
      "3\n"
     ]
    }
   ],
   "source": [
    "num1 = [1, 1, 1, 2, 7, 11]\n",
    "num2 = [1, 1, 4]\n",
    "print(len(num1))\n",
    "print(num1 < num2)\n",
    "print(num1.count(1))\n",
    "print(7 in num1)\n",
    "print(num1.index(2))"
   ]
  },
  {
   "cell_type": "code",
   "execution_count": 37,
   "metadata": {},
   "outputs": [
    {
     "name": "stdout",
     "output_type": "stream",
     "text": [
      "[0, (1,), [2, 3]] 2726316976384 2726236875024 2726319511632 2726316975488\n",
      "[0, (1,), [2, 3]] 2726339545856 2726236875024 2726319511632 2726316975488\n"
     ]
    }
   ],
   "source": [
    "num1 = [0, (1,), [2, 3]]\n",
    "num2 = num1.copy()\n",
    "print(num1, id(num1), id(num1[0]), id(num1[1]), id(num1[2]))\n",
    "print(num2, id(num2), id(num2[0]), id(num2[1]), id(num2[2]))"
   ]
  },
  {
   "cell_type": "code",
   "execution_count": 38,
   "metadata": {},
   "outputs": [
    {
     "name": "stdout",
     "output_type": "stream",
     "text": [
      "[0, (1,), [2, 3]] 2726316992704 2726236875024 2726337740272 2726339309248\n",
      "[0, (1,), [2, 3]] 2726339309120 2726236875024 2726337740272 2726316992128\n"
     ]
    }
   ],
   "source": [
    "import copy\n",
    "num1 = [0, (1,), [2, 3]]\n",
    "num2 = copy.deepcopy(num1)\n",
    "print(num1, id(num1), id(num1[0]), id(num1[1]), id(num1[2]))\n",
    "print(num2, id(num2), id(num2[0]), id(num2[1]), id(num2[2]))"
   ]
  },
  {
   "cell_type": "code",
   "execution_count": 39,
   "metadata": {},
   "outputs": [
    {
     "name": "stdout",
     "output_type": "stream",
     "text": [
      "[[...]]\n",
      "[[...]] 2726316976384 2726316976384 2726316976384 2726316976384\n",
      "[[...]] 2726339309248 2726339309248 2726339309248 2726339309248\n"
     ]
    }
   ],
   "source": [
    "num1 = num1[0] = [0]\n",
    "print(num1)\n",
    "num2 = copy.deepcopy(num1)\n",
    "print(num1, id(num1), id(num1[0]), id(num1[0][0]), id(num1[0][0][0]))\n",
    "print(num2, id(num2), id(num2[0]), id(num2[0][0]), id(num2[0][0][0]))"
   ]
  },
  {
   "cell_type": "code",
   "execution_count": 40,
   "metadata": {},
   "outputs": [
    {
     "name": "stdout",
     "output_type": "stream",
     "text": [
      "{'Tomatoes': 4.8, 'Potatoes': 3.7, 'Eggs': 5.79, 'Pork': 16.6, 'Beef': 48.8, 'Orange': 7.2, 'Watermelon': 5.9}\n",
      "{'Tomatoes': 4.8, 'Potatoes': 3.7, 'Eggs': 5.79, 'Pork': 16.6, 'Beef': 48.8, 'Orange': 7.2, 'Watermelon': 5.9}\n"
     ]
    }
   ],
   "source": [
    "prices = {'Tomatoes': 4.8, 'Potatoes': 3.7, 'Eggs': 5.79, 'Pork': 16.6, \n",
    "          'Beef': 48.8, 'Orange': 7.2, 'Watermelon': 5.9}\n",
    "print(prices)\n",
    "prices = dict([('Tomatoes', 4.8), ('Potatoes', 3.7), ('Eggs', 5.79), \n",
    "               ('Pork', 16.6), ('Beef', 48.8), ('Orange', 7.2), \n",
    "               ('Watermelon', 5.9)])\n",
    "print(prices)\n"
   ]
  },
  {
   "cell_type": "code",
   "execution_count": 41,
   "metadata": {},
   "outputs": [
    {
     "name": "stdout",
     "output_type": "stream",
     "text": [
      "{'0': 0, '1': 1, '2': 2, '3': 3, '4': 4, '5': 5, '6': 6, '7': 7, '8': 8, '9': 9, '10': 10, '11': 11, '12': 12, '13': 13, '14': 14, '15': 15, '16': 16, '17': 17, '18': 18, '19': 19, '20': 20, '21': 21, '22': 22, '23': 23, '24': 24, '25': 25, '26': 26, '27': 27, '28': 28, '29': 29, '30': 30, '31': 31, '32': 32, '33': 33, '34': 34, '35': 35, '36': 36, '37': 37, '38': 38, '39': 39, '40': 40, '41': 41, '42': 42, '43': 43, '44': 44, '45': 45, '46': 46, '47': 47, '48': 48, '49': 49, '50': 50, '51': 51, '52': 52, '53': 53, '54': 54, '55': 55, '56': 56, '57': 57, '58': 58, '59': 59, '60': 60, '61': 61, '62': 62, '63': 63, '64': 64, '65': 65, '66': 66, '67': 67, '68': 68, '69': 69, '70': 70, '71': 71, '72': 72, '73': 73, '74': 74, '75': 75, '76': 76, '77': 77, '78': 78, '79': 79, '80': 80, '81': 81, '82': 82, '83': 83, '84': 84, '85': 85, '86': 86, '87': 87, '88': 88, '89': 89, '90': 90, '91': 91, '92': 92, '93': 93, '94': 94, '95': 95, '96': 96, '97': 97, '98': 98, '99': 99}\n",
      "{'P': 1, 'y': 1, 't': 1, 'h': 1, 'o': 1, 'n': 1}\n"
     ]
    }
   ],
   "source": [
    "str_num = {str(i): i for i in range(100)}\n",
    "print(str_num)\n",
    "test_dict = dict.fromkeys('Python', 1)\n",
    "print(test_dict)\n"
   ]
  },
  {
   "cell_type": "code",
   "execution_count": 42,
   "metadata": {},
   "outputs": [
    {
     "name": "stdout",
     "output_type": "stream",
     "text": [
      "4.8\n",
      "4.8\n"
     ]
    }
   ],
   "source": [
    "prices = dict([('Tomatoes', 4.8), ('Potatoes', 3.7), ('Eggs', 5.79), \n",
    "               ('Pork', 16.6), ('Beef', 48.8), ('Orange', 7.2), \n",
    "               ('Watermelon', 5.9)])\n",
    "print(prices['Tomatoes'])\n",
    "print(prices.get('Tomatoes'))\n"
   ]
  },
  {
   "cell_type": "code",
   "execution_count": 43,
   "metadata": {},
   "outputs": [
    {
     "ename": "KeyError",
     "evalue": "'Apple'",
     "output_type": "error",
     "traceback": [
      "\u001b[1;31m---------------------------------------------------------------------------\u001b[0m",
      "\u001b[1;31mKeyError\u001b[0m                                  Traceback (most recent call last)",
      "Cell \u001b[1;32mIn[43], line 4\u001b[0m\n\u001b[0;32m      1\u001b[0m prices \u001b[39m=\u001b[39m \u001b[39mdict\u001b[39m([(\u001b[39m'\u001b[39m\u001b[39mTomatoes\u001b[39m\u001b[39m'\u001b[39m, \u001b[39m4.8\u001b[39m), (\u001b[39m'\u001b[39m\u001b[39mPotatoes\u001b[39m\u001b[39m'\u001b[39m, \u001b[39m3.7\u001b[39m), (\u001b[39m'\u001b[39m\u001b[39mEggs\u001b[39m\u001b[39m'\u001b[39m, \u001b[39m5.79\u001b[39m), \n\u001b[0;32m      2\u001b[0m                (\u001b[39m'\u001b[39m\u001b[39mPork\u001b[39m\u001b[39m'\u001b[39m, \u001b[39m16.6\u001b[39m), (\u001b[39m'\u001b[39m\u001b[39mBeef\u001b[39m\u001b[39m'\u001b[39m, \u001b[39m48.8\u001b[39m), (\u001b[39m'\u001b[39m\u001b[39mOrange\u001b[39m\u001b[39m'\u001b[39m, \u001b[39m7.2\u001b[39m), \n\u001b[0;32m      3\u001b[0m                (\u001b[39m'\u001b[39m\u001b[39mWatermelon\u001b[39m\u001b[39m'\u001b[39m, \u001b[39m5.9\u001b[39m)])\n\u001b[1;32m----> 4\u001b[0m \u001b[39mprint\u001b[39m(prices[\u001b[39m'\u001b[39;49m\u001b[39mApple\u001b[39;49m\u001b[39m'\u001b[39;49m])\n",
      "\u001b[1;31mKeyError\u001b[0m: 'Apple'"
     ]
    }
   ],
   "source": [
    "prices = dict([('Tomatoes', 4.8), ('Potatoes', 3.7), ('Eggs', 5.79), \n",
    "               ('Pork', 16.6), ('Beef', 48.8), ('Orange', 7.2), \n",
    "               ('Watermelon', 5.9)])\n",
    "print(prices['Apple'])"
   ]
  },
  {
   "cell_type": "code",
   "execution_count": 44,
   "metadata": {},
   "outputs": [
    {
     "name": "stdout",
     "output_type": "stream",
     "text": [
      "None\n"
     ]
    }
   ],
   "source": [
    "prices = dict([('Tomatoes', 4.8), ('Potatoes', 3.7), ('Eggs', 5.79), \n",
    "               ('Pork', 16.6), ('Beef', 48.8), ('Orange', 7.2), \n",
    "               ('Watermelon', 5.9)])\n",
    "print(prices.get('Apple'))"
   ]
  },
  {
   "cell_type": "code",
   "execution_count": 45,
   "metadata": {},
   "outputs": [
    {
     "name": "stdout",
     "output_type": "stream",
     "text": [
      "['Potatoes', 'Eggs', 'Pork', 'Beef', 'Orange', 'Watermelon']\n",
      "{'Lamb', 'Leek', 'Chicken', 'Tomatoes', 'Orange', 'Cucumber', 'Banana', 'Pork', 'Watermelon', 'Eggs', 'Carrots', 'Potatoes', 'Pear', 'Beef'}\n",
      "{'Tomatoes': 4.8, 'Potatoes': 3.7, 'Eggs': 5.79, 'Pork': 16.6, 'Beef': 48.8, 'Orange': 7.2, 'Watermelon': 5.9, 'Cucumber': 4.7, 'Carrots': 3.0, 'Leek': 4.1, 'Chicken': 10.8, 'Lamb': 39.1, 'Pear': 5.2, 'Banana': 4.3}\n"
     ]
    }
   ],
   "source": [
    "prices1 = dict([('Tomatoes', 4.8), ('Potatoes', 3.7), ('Eggs', 5.79), \n",
    "                ('Pork', 16.6), ('Beef', 48.8), ('Orange', 7.2), \n",
    "                ('Watermelon', 5.9)])\n",
    "prices2 = dict([('Cucumber', 4.7), ('Carrots', 3.0), ('Leek', 4.1), \n",
    "                ('Chicken', 10.8), ('Lamb', 39.1),  ('Pear', 5.2), \n",
    "                ('Banana', 4.3)])\n",
    "a, *b = prices1\n",
    "print(b)\n",
    "prices = {*prices1, *prices2}\n",
    "print(prices)\n",
    "prices = {**prices1, **prices2}\n",
    "print(prices)"
   ]
  },
  {
   "cell_type": "code",
   "execution_count": 46,
   "metadata": {},
   "outputs": [
    {
     "name": "stdout",
     "output_type": "stream",
     "text": [
      "4.8\n",
      "4.7\n",
      "\n",
      "None\n",
      "10.8\n"
     ]
    }
   ],
   "source": [
    "prices = dict([('Tomatoes', 4.8), ('Potatoes', 3.7), ('Eggs', 5.79), \n",
    "               ('Pork', 16.6), ('Beef', 48.8), ('Orange', 7.2), \n",
    "               ('Watermelon', 5.9)])\n",
    "\n",
    "print(prices.get('Tomatoes'))\n",
    "prices['Tomatoes'] = 4.7\n",
    "print(prices.get('Tomatoes'))\n",
    "print()\n",
    "\n",
    "print(prices.get('Chicken'))\n",
    "prices['Chicken'] = 10.8\n",
    "print(prices.get('Chicken'))"
   ]
  },
  {
   "cell_type": "code",
   "execution_count": 47,
   "metadata": {},
   "outputs": [
    {
     "name": "stdout",
     "output_type": "stream",
     "text": [
      "4.8\n",
      "4.8\n",
      "\n",
      "None\n",
      "10.8\n"
     ]
    }
   ],
   "source": [
    "prices = dict([('Tomatoes', 4.8), ('Potatoes', 3.7), ('Eggs', 5.79), \n",
    "               ('Pork', 16.6), ('Beef', 48.8), ('Orange', 7.2), \n",
    "               ('Watermelon', 5.9)])\n",
    "\n",
    "print(prices.get('Tomatoes'))\n",
    "prices.setdefault('Tomatoes', 4.7)\n",
    "print(prices.get('Tomatoes'))\n",
    "print()\n",
    "\n",
    "print(prices.get('Chicken'))\n",
    "prices.setdefault('Chicken', 10.8)\n",
    "print(prices.get('Chicken'))"
   ]
  },
  {
   "cell_type": "code",
   "execution_count": 48,
   "metadata": {},
   "outputs": [
    {
     "name": "stdout",
     "output_type": "stream",
     "text": [
      "{'Tomatoes': 4.8, 'Potatoes': 3.7}\n",
      "{'Tomatoes': 4.8, 'Potatoes': 3.7, 'Carrot': 3.0, 'Leek': 4.6}\n",
      "{'Tomatoes': 4.8, 'Potatoes': 3.7, 'Carrot': 3.0, 'Leek': 4.6, 'Orange': 7.2, 'Apple': 6.9}\n"
     ]
    }
   ],
   "source": [
    "prices = dict([('Tomatoes', 4.8), ('Potatoes', 3.7)])\n",
    "print(prices)\n",
    "prices.update({'Carrot':3.0, 'Leek':4.6})\n",
    "print(prices)\n",
    "prices |= [('Orange', 7.2),('Apple', 6.9)]\n",
    "print(prices)\n",
    "\n"
   ]
  },
  {
   "cell_type": "code",
   "execution_count": 49,
   "metadata": {},
   "outputs": [
    {
     "name": "stdout",
     "output_type": "stream",
     "text": [
      "{'Orange': 7.5, 'Watermelon': 5.9}\n",
      "{'Watermelon': 5.9}\n"
     ]
    }
   ],
   "source": [
    "prices = dict([('Tomatoes', 4.8), ('Potatoes', 3.7), ('Eggs', 5.79), \n",
    "               ('Pork', 16.6), ('Beef', 48.8), ('Orange', 7.5), \n",
    "               ('Watermelon', 5.9)])\n",
    "del prices['Tomatoes']\n",
    "del prices['Potatoes']\n",
    "del prices['Eggs']\n",
    "del prices['Pork']\n",
    "del prices['Beef']\n",
    "print(prices)\n",
    "prices.__delitem__('Orange')\n",
    "print(prices)\n"
   ]
  },
  {
   "cell_type": "code",
   "execution_count": 50,
   "metadata": {},
   "outputs": [
    {
     "name": "stdout",
     "output_type": "stream",
     "text": [
      "{'Tomatoes': None, 'Potatoes': None, 'Eggs': None, 'Pork': None, 'Beef': None, 'Orange': 7.5, 'Watermelon': 5.9}\n",
      "{}\n"
     ]
    }
   ],
   "source": [
    "prices = dict([('Tomatoes', 4.8), ('Potatoes', 3.7), ('Eggs', 5.79), \n",
    "               ('Pork', 16.6), ('Beef', 48.8), ('Orange', 7.5), \n",
    "               ('Watermelon', 5.9)])\n",
    "prices['Tomatoes'] = None\n",
    "prices['Potatoes'] = None\n",
    "prices['Eggs'] = None\n",
    "prices['Pork'] = None\n",
    "prices['Beef'] = None\n",
    "print(prices)\n",
    "prices.clear()\n",
    "print(prices)"
   ]
  },
  {
   "cell_type": "code",
   "execution_count": 51,
   "metadata": {},
   "outputs": [
    {
     "name": "stdout",
     "output_type": "stream",
     "text": [
      "7\n",
      "dict_items([('Tomatoes', 4.8), ('Potatoes', 3.7), ('Eggs', 5.79), ('Pork', 16.6), ('Beef', 48.8), ('Orange', 7.5), ('Watermelon', 5.9)])\n",
      "dict_keys(['Tomatoes', 'Potatoes', 'Eggs', 'Pork', 'Beef', 'Orange', 'Watermelon'])\n",
      "dict_values([4.8, 3.7, 5.79, 16.6, 48.8, 7.5, 5.9])\n",
      "True\n",
      "\n",
      "[('Tomatoes', 4.8), ('Potatoes', 3.7), ('Eggs', 5.79), ('Pork', 16.6), ('Beef', 48.8), ('Orange', 7.5), ('Watermelon', 5.9)]\n"
     ]
    }
   ],
   "source": [
    "prices = dict([('Tomatoes', 4.8), ('Potatoes', 3.7), ('Eggs', 5.79), \n",
    "               ('Pork', 16.6), ('Beef', 48.8), ('Orange', 7.5), \n",
    "               ('Watermelon', 5.9)])\n",
    "print(len(prices))\n",
    "print(prices.items())\n",
    "print(prices.keys())\n",
    "print(prices.values())\n",
    "print('Tomatoes' in prices)\n",
    "\n",
    "print()\n",
    "print(list(prices.items()))"
   ]
  },
  {
   "cell_type": "code",
   "execution_count": 52,
   "metadata": {},
   "outputs": [
    {
     "name": "stdout",
     "output_type": "stream",
     "text": [
      "{0, 1, 2, 3, 4, 5, 6}\n",
      "{0, 1, 2, 3, 4, 5, 6, 7, 8, 9, 10, 11, 12, 13, 14, 15, 16, 17, 18, 19, 20, 21, 22, 23, 24, 25, 26, 27, 28, 29, 30, 31, 32, 33, 34, 35, 36, 37, 38, 39, 40, 41, 42, 43, 44, 45, 46, 47, 48, 49, 50, 51, 52, 53, 54, 55, 56, 57, 58, 59, 60, 61, 62, 63, 64, 65, 66, 67, 68, 69, 70, 71, 72, 73, 74, 75, 76, 77, 78, 79, 80, 81, 82, 83, 84, 85, 86, 87, 88, 89, 90, 91, 92, 93, 94, 95, 96, 97, 98, 99}\n",
      "frozenset({0, 1, 2, 3, 4, 5, 6, 7, 8, 9, 10, 11, 12, 13, 14, 15, 16, 17, 18, 19, 20, 21, 22, 23, 24, 25, 26, 27, 28, 29, 30, 31, 32, 33, 34, 35, 36, 37, 38, 39, 40, 41, 42, 43, 44, 45, 46, 47, 48, 49, 50, 51, 52, 53, 54, 55, 56, 57, 58, 59, 60, 61, 62, 63, 64, 65, 66, 67, 68, 69, 70, 71, 72, 73, 74, 75, 76, 77, 78, 79, 80, 81, 82, 83, 84, 85, 86, 87, 88, 89, 90, 91, 92, 93, 94, 95, 96, 97, 98, 99})\n",
      "{'87', '86', '17', '65', '21', '75', '46', '98', '93', '68', '74', '7', '79', '58', '30', '53', '38', '77', '2', '24', '16', '72', '44', '25', '49', '18', '27', '80', '6', '4', '0', '54', '76', '34', '26', '97', '23', '89', '63', '52', '85', '9', '28', '43', '96', '40', '88', '64', '94', '20', '48', '3', '31', '56', '37', '59', '91', '71', '60', '22', '42', '83', '47', '55', '10', '73', '39', '50', '13', '19', '69', '84', '14', '61', '33', '95', '12', '41', '92', '45', '66', '90', '1', '67', '15', '29', '82', '5', '11', '36', '78', '99', '32', '8', '51', '62', '81', '35', '70', '57'}\n"
     ]
    }
   ],
   "source": [
    "str_num = {0, 1, 2, 3, 4, 5, 6}\n",
    "print(str_num)\n",
    "str_num = set(range(100))\n",
    "print(str_num)\n",
    "str_num = frozenset(range(100))\n",
    "print(str_num)\n",
    "str_num = {str(i) for i in range(100)}\n",
    "print(str_num)"
   ]
  },
  {
   "cell_type": "code",
   "execution_count": 53,
   "metadata": {},
   "outputs": [
    {
     "name": "stdout",
     "output_type": "stream",
     "text": [
      "12\n",
      "\n",
      "35\n",
      "12\n"
     ]
    }
   ],
   "source": [
    "def f(x, y):\n",
    "    return x + y\n",
    "print(f(5, 7))\n",
    "g = f\n",
    "print()\n",
    "\n",
    "def f(x, y):\n",
    "    return x * y\n",
    "print(f(5, 7))\n",
    "print(g(5, 7))\n"
   ]
  },
  {
   "cell_type": "code",
   "execution_count": 54,
   "metadata": {},
   "outputs": [
    {
     "name": "stdout",
     "output_type": "stream",
     "text": [
      "345\n",
      "543\n"
     ]
    }
   ],
   "source": [
    "def f(a, b, c):\n",
    "    return a * 100 + b * 10 + c\n",
    "\n",
    "print(f(3, 4, 5))\n",
    "print(f(c=3, b=4, a=5))"
   ]
  },
  {
   "cell_type": "code",
   "execution_count": 55,
   "metadata": {},
   "outputs": [
    {
     "ename": "TypeError",
     "evalue": "f() got some positional-only arguments passed as keyword arguments: 'a, b, c'",
     "output_type": "error",
     "traceback": [
      "\u001b[1;31m---------------------------------------------------------------------------\u001b[0m",
      "\u001b[1;31mTypeError\u001b[0m                                 Traceback (most recent call last)",
      "Cell \u001b[1;32mIn[55], line 4\u001b[0m\n\u001b[0;32m      1\u001b[0m \u001b[39mdef\u001b[39;00m \u001b[39mf\u001b[39m(a, b, c, \u001b[39m/\u001b[39m):\n\u001b[0;32m      2\u001b[0m     \u001b[39mreturn\u001b[39;00m a \u001b[39m*\u001b[39m \u001b[39m100\u001b[39m \u001b[39m+\u001b[39m b \u001b[39m*\u001b[39m \u001b[39m10\u001b[39m \u001b[39m+\u001b[39m c\n\u001b[1;32m----> 4\u001b[0m \u001b[39mprint\u001b[39m(f(c\u001b[39m=\u001b[39;49m\u001b[39m3\u001b[39;49m, b\u001b[39m=\u001b[39;49m\u001b[39m4\u001b[39;49m, a\u001b[39m=\u001b[39;49m\u001b[39m5\u001b[39;49m))\n",
      "\u001b[1;31mTypeError\u001b[0m: f() got some positional-only arguments passed as keyword arguments: 'a, b, c'"
     ]
    }
   ],
   "source": [
    "def f(a, b, c, /):\n",
    "    return a * 100 + b * 10 + c\n",
    "\n",
    "print(f(c=3, b=4, a=5))"
   ]
  },
  {
   "cell_type": "code",
   "execution_count": 56,
   "metadata": {},
   "outputs": [
    {
     "ename": "TypeError",
     "evalue": "f() takes 0 positional arguments but 3 were given",
     "output_type": "error",
     "traceback": [
      "\u001b[1;31m---------------------------------------------------------------------------\u001b[0m",
      "\u001b[1;31mTypeError\u001b[0m                                 Traceback (most recent call last)",
      "Cell \u001b[1;32mIn[56], line 4\u001b[0m\n\u001b[0;32m      1\u001b[0m \u001b[39mdef\u001b[39;00m \u001b[39mf\u001b[39m(\u001b[39m*\u001b[39m, a, b, c):\n\u001b[0;32m      2\u001b[0m     \u001b[39mreturn\u001b[39;00m a \u001b[39m*\u001b[39m \u001b[39m100\u001b[39m \u001b[39m+\u001b[39m b \u001b[39m*\u001b[39m \u001b[39m10\u001b[39m \u001b[39m+\u001b[39m c\n\u001b[1;32m----> 4\u001b[0m \u001b[39mprint\u001b[39m(f(\u001b[39m3\u001b[39;49m, \u001b[39m4\u001b[39;49m, \u001b[39m5\u001b[39;49m))\n",
      "\u001b[1;31mTypeError\u001b[0m: f() takes 0 positional arguments but 3 were given"
     ]
    }
   ],
   "source": [
    "def f(*, a, b, c):\n",
    "    return a * 100 + b * 10 + c\n",
    "\n",
    "print(f(3, 4, 5))"
   ]
  },
  {
   "cell_type": "code",
   "execution_count": 74,
   "metadata": {},
   "outputs": [
    {
     "name": "stdout",
     "output_type": "stream",
     "text": [
      "137254396\n"
     ]
    }
   ],
   "source": [
    "def f(a, b, c, *args):\n",
    "    num = a * 100 + b * 10 + c\n",
    "    for i in args:\n",
    "        num = num * 10 + i\n",
    "    return num\n",
    "\n",
    "print(f(1, 3, 7, 2, 5, 4, 3, 9, 6))"
   ]
  },
  {
   "cell_type": "code",
   "execution_count": 58,
   "metadata": {},
   "outputs": [
    {
     "name": "stdout",
     "output_type": "stream",
     "text": [
      "{'d': 1, 'e': 2}\n"
     ]
    }
   ],
   "source": [
    "def f(a, b, c, **kwargs):\n",
    "    return kwargs\n",
    "\n",
    "print(f(1, 2, 3, d=1, e=2))"
   ]
  },
  {
   "cell_type": "code",
   "execution_count": 59,
   "metadata": {},
   "outputs": [
    {
     "name": "stdout",
     "output_type": "stream",
     "text": [
      "123\n"
     ]
    }
   ],
   "source": [
    "def f(a: int, b: int, c: str):\n",
    "    return a * 100 + b * 10 + c\n",
    "\n",
    "print(f(1, 2, 3))"
   ]
  },
  {
   "cell_type": "code",
   "execution_count": 60,
   "metadata": {},
   "outputs": [
    {
     "name": "stdout",
     "output_type": "stream",
     "text": [
      "[5, 4, 3, 2, 1]\n"
     ]
    }
   ],
   "source": [
    "num = [1, 2, 3, 4, 5] \n",
    "print(num[::-1])"
   ]
  },
  {
   "cell_type": "code",
   "execution_count": 61,
   "metadata": {},
   "outputs": [
    {
     "name": "stdout",
     "output_type": "stream",
     "text": [
      "None\n",
      "[5, 4, 3, 2, 1]\n"
     ]
    }
   ],
   "source": [
    "num = [1, 2, 3, 4, 5] \n",
    "print(num.reverse())\n",
    "print(num)"
   ]
  },
  {
   "cell_type": "code",
   "execution_count": 62,
   "metadata": {},
   "outputs": [
    {
     "name": "stdout",
     "output_type": "stream",
     "text": [
      "before try\n",
      "before finally\n",
      "return finally\n"
     ]
    }
   ],
   "source": [
    "def f(x):\n",
    "    try:\n",
    "        print('before try')\n",
    "        return 'return try'\n",
    "        print('after try')\n",
    "    except:\n",
    "        pass\n",
    "    finally:\n",
    "        print('before finally')\n",
    "        return 'return finally'\n",
    "        print('after finally')\n",
    "\n",
    "print(f(0))"
   ]
  },
  {
   "cell_type": "code",
   "execution_count": 63,
   "metadata": {},
   "outputs": [
    {
     "name": "stdout",
     "output_type": "stream",
     "text": [
      "False\n",
      "True\n",
      "True\n"
     ]
    }
   ],
   "source": [
    "def f(x):\n",
    "    def g(y):\n",
    "        return x <= y\n",
    "    return g\n",
    "\n",
    "geq3 = f(3)\n",
    "\n",
    "print(geq3(2))\n",
    "print(geq3(3))\n",
    "print(geq3(4))\n"
   ]
  },
  {
   "cell_type": "code",
   "execution_count": 64,
   "metadata": {},
   "outputs": [
    {
     "name": "stdout",
     "output_type": "stream",
     "text": [
      "apple > banana > lemon > orange\n",
      "Beijing > Guangzhou > Shanghai > Shenzhen\n"
     ]
    }
   ],
   "source": [
    "def concat(*funcs):\n",
    "    def _concat_func(arg):\n",
    "        for func in funcs:\n",
    "            arg = func(arg)\n",
    "        return arg\n",
    "    return _concat_func\n",
    "\n",
    "f = concat(sorted, ' > '.join, print)\n",
    "\n",
    "f(['apple', 'orange', 'banana', 'lemon'])\n",
    "f(['Beijing', 'Shanghai', 'Guangzhou', 'Shenzhen'])\n"
   ]
  },
  {
   "cell_type": "code",
   "execution_count": 65,
   "metadata": {},
   "outputs": [
    {
     "name": "stdout",
     "output_type": "stream",
     "text": [
      "<function f at 0x0000027AC683E8B0>\n",
      "<function curry3.<locals>._func_x at 0x0000027AC68C2550>\n",
      "<function curry3.<locals>._func_x.<locals>._func_y at 0x0000027AC68C2790>\n",
      "<function curry3.<locals>._func_x.<locals>._func_y.<locals>._func_z at 0x0000027AC68C21F0>\n",
      "315\n"
     ]
    }
   ],
   "source": [
    "def f(x, y, z):\n",
    "    return x * 100 + y * 10 + z\n",
    "\n",
    "def curry3(func):\n",
    "    def _func_x(x):\n",
    "        def _func_y(y):\n",
    "            def _func_z(z):\n",
    "                return func(x, y, z)\n",
    "            return _func_z\n",
    "        return _func_y\n",
    "    return _func_x\n",
    "\n",
    "print(f)\n",
    "xf = curry3(f) \n",
    "print(xf)\n",
    "yf = xf(3)\n",
    "print(yf)\n",
    "zf = yf(1) \n",
    "print(zf)\n",
    "ans = zf(5)\n",
    "print(ans)\n"
   ]
  },
  {
   "cell_type": "code",
   "execution_count": 66,
   "metadata": {},
   "outputs": [
    {
     "name": "stdout",
     "output_type": "stream",
     "text": [
      "<function curry.<locals>._get_curry_func.<locals>._curry_func at 0x0000027AC68C2B80>\n",
      "<function curry.<locals>._get_curry_func.<locals>._curry_func at 0x0000027AC68C2DC0>\n",
      "<function curry.<locals>._get_curry_func.<locals>._curry_func at 0x0000027AC68C2EE0>\n",
      "<function curry.<locals>._get_curry_func.<locals>._curry_func at 0x0000027AC68C2E50>\n",
      "<function curry.<locals>._get_curry_func.<locals>._curry_func at 0x0000027AC68C2F70>\n",
      "<function curry.<locals>._get_curry_func.<locals>._curry_func at 0x0000027AC68C25E0>\n",
      "<function curry.<locals>._get_curry_func.<locals>._curry_func at 0x0000027AC68ED040>\n",
      "<function curry.<locals>._get_curry_func.<locals>._curry_func at 0x0000027AC68ED0D0>\n",
      "<function curry.<locals>._get_curry_func.<locals>._curry_func at 0x0000027AC68ED160>\n",
      "<function curry.<locals>._get_curry_func.<locals>._curry_func at 0x0000027AC68ED1F0>\n",
      "6667778889\n"
     ]
    }
   ],
   "source": [
    "def curry(func):\n",
    "    _arg_count = func.__code__.co_argcount\n",
    "    def _get_curry_func(_args):\n",
    "        def _curry_func(arg):\n",
    "            if len(_args) + 1 == _arg_count:\n",
    "                return func(*_args, arg)\n",
    "            else:\n",
    "                return _get_curry_func(_args + [arg])\n",
    "        return _curry_func\n",
    "    return _get_curry_func([])\n",
    "\n",
    "def f(x0, x1, x2, x3, x4, x5, x6, x7, x8, x9):\n",
    "    return ((((((((x0 * 10 + x1) * 10 + x2) * 10 + x3) * 10 + x4) * \n",
    "               10 + x5) * 10 + x6) * 10 + x7) * 10 + x8) * 10 + x9\n",
    "\n",
    "x0f = curry(f)\n",
    "print(x0f)\n",
    "x1f = x0f(6)\n",
    "print(x1f)\n",
    "x2f = x1f(6)\n",
    "print(x2f)\n",
    "x3f = x2f(6)\n",
    "print(x3f)\n",
    "x4f = x3f(7)\n",
    "print(x4f)\n",
    "x5f = x4f(7)\n",
    "print(x5f)\n",
    "x6f = x5f(7)\n",
    "print(x6f)\n",
    "x7f = x6f(8)\n",
    "print(x7f)\n",
    "x8f = x7f(8)\n",
    "print(x8f)\n",
    "x9f = x8f(8)\n",
    "print(x9f)\n",
    "ans = x9f(9)\n",
    "print(ans)"
   ]
  },
  {
   "cell_type": "code",
   "execution_count": 67,
   "metadata": {},
   "outputs": [],
   "source": [
    "glb_a = 1"
   ]
  },
  {
   "cell_type": "code",
   "execution_count": 68,
   "metadata": {},
   "outputs": [
    {
     "name": "stdout",
     "output_type": "stream",
     "text": [
      "1\n"
     ]
    }
   ],
   "source": [
    "print(glb_a)"
   ]
  },
  {
   "cell_type": "code",
   "execution_count": 69,
   "metadata": {},
   "outputs": [
    {
     "name": "stdout",
     "output_type": "stream",
     "text": [
      "1\n"
     ]
    }
   ],
   "source": [
    "def f():\n",
    "    print(glb_a)\n",
    "f()"
   ]
  },
  {
   "cell_type": "code",
   "execution_count": 70,
   "metadata": {},
   "outputs": [
    {
     "name": "stdout",
     "output_type": "stream",
     "text": [
      "2\n",
      "1\n"
     ]
    }
   ],
   "source": [
    "def f():\n",
    "    glb_a =2\n",
    "    print(glb_a)\n",
    "f()\n",
    "print(glb_a)"
   ]
  },
  {
   "cell_type": "code",
   "execution_count": 71,
   "metadata": {},
   "outputs": [
    {
     "name": "stdout",
     "output_type": "stream",
     "text": [
      "2\n",
      "2\n"
     ]
    }
   ],
   "source": [
    "def f():\n",
    "    global glb_a\n",
    "    glb_a =2\n",
    "    print(glb_a)\n",
    "f()\n",
    "print(glb_a)"
   ]
  },
  {
   "cell_type": "code",
   "execution_count": 72,
   "metadata": {},
   "outputs": [
    {
     "name": "stdout",
     "output_type": "stream",
     "text": [
      "[0, 1, 2, 3, 4]\n"
     ]
    }
   ],
   "source": [
    "def f():\n",
    "    ans = []\n",
    "    def g(y):\n",
    "        if y is None:\n",
    "            return ans\n",
    "        ans.append(y)\n",
    "    return g\n",
    "\n",
    "g = f()\n",
    "g(0)\n",
    "g(1)\n",
    "g(2)\n",
    "g(3)\n",
    "g(4)\n",
    "print(g(None))"
   ]
  },
  {
   "cell_type": "code",
   "execution_count": 73,
   "metadata": {},
   "outputs": [
    {
     "ename": "UnboundLocalError",
     "evalue": "local variable 'ans' referenced before assignment",
     "output_type": "error",
     "traceback": [
      "\u001b[1;31m---------------------------------------------------------------------------\u001b[0m",
      "\u001b[1;31mUnboundLocalError\u001b[0m                         Traceback (most recent call last)",
      "Cell \u001b[1;32mIn[73], line 10\u001b[0m\n\u001b[0;32m      7\u001b[0m     \u001b[39mreturn\u001b[39;00m g\n\u001b[0;32m      9\u001b[0m g \u001b[39m=\u001b[39m f()\n\u001b[1;32m---> 10\u001b[0m g(\u001b[39m0\u001b[39;49m)\n\u001b[0;32m     11\u001b[0m g(\u001b[39m1\u001b[39m)\n\u001b[0;32m     12\u001b[0m g(\u001b[39m2\u001b[39m)\n",
      "Cell \u001b[1;32mIn[73], line 6\u001b[0m, in \u001b[0;36mf.<locals>.g\u001b[1;34m(y)\u001b[0m\n\u001b[0;32m      4\u001b[0m \u001b[39mif\u001b[39;00m y \u001b[39mis\u001b[39;00m \u001b[39mNone\u001b[39;00m:\n\u001b[0;32m      5\u001b[0m     \u001b[39mreturn\u001b[39;00m ans\n\u001b[1;32m----> 6\u001b[0m ans \u001b[39m+\u001b[39m\u001b[39m=\u001b[39m [y]\n",
      "\u001b[1;31mUnboundLocalError\u001b[0m: local variable 'ans' referenced before assignment"
     ]
    }
   ],
   "source": [
    "def f():\n",
    "    ans = []\n",
    "    def g(y):\n",
    "        if y is None:\n",
    "            return ans\n",
    "        ans += [y]\n",
    "    return g\n",
    "\n",
    "g = f()\n",
    "g(0)\n",
    "g(1)\n",
    "g(2)\n",
    "g(3)\n",
    "g(4)\n",
    "print(g(None))"
   ]
  },
  {
   "cell_type": "code",
   "execution_count": 75,
   "metadata": {},
   "outputs": [
    {
     "name": "stdout",
     "output_type": "stream",
     "text": [
      "[0, 1, 2, 3, 4]\n"
     ]
    }
   ],
   "source": [
    "def f():\n",
    "    ans = []\n",
    "    def g(y):\n",
    "        nonlocal ans\n",
    "        if y is None:\n",
    "            return ans\n",
    "        ans += [y]\n",
    "    return g\n",
    "\n",
    "g = f()\n",
    "g(0)\n",
    "g(1)\n",
    "g(2)\n",
    "g(3)\n",
    "g(4)\n",
    "print(g(None))"
   ]
  },
  {
   "cell_type": "code",
   "execution_count": 76,
   "metadata": {},
   "outputs": [
    {
     "name": "stdout",
     "output_type": "stream",
     "text": [
      "12\n",
      "35\n"
     ]
    }
   ],
   "source": [
    "def f(x, y):\n",
    "    return x + y\n",
    "\n",
    "def g():\n",
    "    global f\n",
    "    def f(x, y):\n",
    "        return x * y\n",
    "    \n",
    "print(f(5, 7))\n",
    "g()\n",
    "print(f(5, 7))"
   ]
  },
  {
   "cell_type": "code",
   "execution_count": 77,
   "metadata": {},
   "outputs": [
    {
     "name": "stdout",
     "output_type": "stream",
     "text": [
      "{'__name__': '__main__', '__doc__': 'Automatically created module for IPython interactive environment', '__package__': None, '__loader__': None, '__spec__': None, '__builtin__': <module 'builtins' (built-in)>, '__builtins__': <module 'builtins' (built-in)>, '_ih': ['', 'num = [1, 2, 3] *3\\nnum\\nprint(id(num[0]), id(num[1]), id(num[2]))\\nprint(id(num[3]), id(num[4]), id(num[5]))', 'help(id)', 'num[3] = 4\\nprint(num)', 'num = [[1, 2, 3]] * 2\\nprint(num)\\nnum[0][0] = 0\\nprint(num)\\nnum[1][0] = 4\\nprint(num)', \"prices = [('Tomatoes', 4.8), ('Potatoes', 3.7), ('Cucumber', 4.7),\\n          ('Carrots', 3.0), ('Leek', 4.1), ('Eggs', 5.79), ('Chicken', 10.8), \\n          ('Pork', 16.6), ('Beef', 48.8), ('Lamb', 39.1), ('Orange', 7.5), \\n          ('Watermelon', 5.9), ('Pear', 5.2), ('Banana', 4.3)]\\nprint(prices)\", 'prices[0][1] = 4.6', 'num = [1, 2, 3] *3\\nnum\\nprint(id(num[0]), id(num[1]), id(num[2]))\\nprint(id(num[3]), id(num[4]), id(num[5]))', 'help(id)', 'num[3] = 4\\nprint(num)', 'num = [[1, 2, 3]] * 2\\nprint(num)\\nnum[0][0] = 0\\nprint(num)\\nnum[1][0] = 4\\nprint(num)', \"prices = [('Tomatoes', 4.8), ('Potatoes', 3.7), ('Cucumber', 4.7),\\n          ('Carrots', 3.0), ('Leek', 4.1), ('Eggs', 5.79), ('Chicken', 10.8), \\n          ('Pork', 16.6), ('Beef', 48.8), ('Lamb', 39.1), ('Orange', 7.5), \\n          ('Watermelon', 5.9), ('Pear', 5.2), ('Banana', 4.3)]\\nprint(prices)\", 'prices[0][1] = 4.6', 'num = [1, 2, 3] *3\\nnum\\nprint(id(num[0]), id(num[1]), id(num[2]))\\nprint(id(num[3]), id(num[4]), id(num[5]))', 'help(id)', 'num[3] = 4\\nprint(num)', 'num = [[1, 2, 3]] * 2\\nprint(num)\\nnum[0][0] = 0\\nprint(num)\\nnum[1][0] = 4\\nprint(num)', \"prices = [('Tomatoes', 4.8), ('Potatoes', 3.7), ('Cucumber', 4.7),\\n          ('Carrots', 3.0), ('Leek', 4.1), ('Eggs', 5.79), ('Chicken', 10.8), \\n          ('Pork', 16.6), ('Beef', 48.8), ('Lamb', 39.1), ('Orange', 7.5), \\n          ('Watermelon', 5.9), ('Pear', 5.2), ('Banana', 4.3)]\\nprint(prices)\", 'prices[0][1] = 4.6', \"eg_list = ['element1', 'element2', 'element3'] \\nprint(eg_list, '\\\\t\\\\t\\\\t', id(eg_list))\\neg_list.append('element_4')\\nprint(eg_list, '\\\\t', id(eg_list))\\nprint()\\n\\neg_dict = {'key_1': 1, 'key_2': 2, 'key_3': 3}\\nprint(eg_dict, '\\\\t\\\\t\\\\t', id(eg_dict))\\neg_dict['element_4'] = 4\\nprint(eg_dict, '\\\\t', id(eg_dict))\\nprint()\\n\\neg_set  = {'element1', 'element2', 'element3'}\\nprint(eg_set , '\\\\t\\\\t\\\\t', id(eg_set ))\\neg_set.add('element_4')\\nprint(eg_set , '\\\\t', id(eg_set ))\", \"eg_int = 10\\nprint(eg_int, id(eg_int))\\neg_int += 2\\nprint(eg_int, id(eg_int))\\nprint()\\n\\neg_tuple = (1, 3, 5, 7)\\nprint(eg_tuple, '\\\\t\\\\t', id(eg_tuple))\\neg_tuple += (9, 11)\\nprint(eg_tuple, '\\\\t', id(eg_tuple))\", \"ch_list = ['a','c','a','c']\\nprint(ch_list)\\n\\nch_list = list('acac')\\nprint(ch_list)\\n\\nch_list = a = [i for i in 'abcabc' if i != 'b']\\nprint(ch_list)\\n\\nch_list = []\\nfor ch in 'abcabc':\\n    if ch != 'b':\\n        ch_list.append(ch)\\nprint(ch_list)\", \"ch_tuple = ('a', 'c', 'a', 'c')\\nprint(ch_tuple)\\n\\nch_tuple = 'a', 'c', 'a', 'c'\\nprint(ch_tuple)\\n\\nch_tuple = tuple('acac')\\nprint(ch_tuple)\\n\\nch_tuple = tuple(['a', 'c', 'a', 'c'])\\nprint(ch_tuple)\", \"ch_generator = (i for i in 'abcabc' if i != 'b')\\nprint(ch_generator)\", \"lv = ['Excellent', 'Good     ', 'Medium   ', 'Pass     ', 'Fail     ']\\nprint('\\\\033[32mlv[ 0] =\\\\033[0m', lv[0])\\nprint('\\\\033[32mlv[ 1] =\\\\033[0m', lv[1])\\nprint('\\\\033[32mlv[ 2] =\\\\033[0m', lv[2])\\nprint('\\\\033[32mlv[ 3] =\\\\033[0m', lv[3])\\nprint('\\\\033[32mlv[ 4] =\\\\033[0m', lv[4])\\nprint()\\n\\nprint('\\\\033[32mlv[-1] =\\\\033[0m', lv[-1])\\nprint('\\\\033[32mlv[-2] =\\\\033[0m', lv[-2])\\nprint('\\\\033[32mlv[-3] =\\\\033[0m', lv[-3])\\nprint('\\\\033[32mlv[-4] =\\\\033[0m', lv[-4])\\nprint('\\\\033[32mlv[-5] =\\\\033[0m', lv[-5])\", \"lv = ['Excellent', 'Good     ', 'Medium   ', 'Pass     ', 'Fail     ']\\nprint('\\\\033[32mlv[  : 3]    =\\\\033[0m', lv[:3])\\nprint('\\\\033[32mlv[-3:  ]    =\\\\033[0m', lv[-3:])\\nprint('\\\\033[32mlv[ 1: 4]    =\\\\033[0m', lv[1:4])\\nprint('\\\\033[32mlv[ 1:-1]    =\\\\033[0m', lv[1:-1])\\nprint('\\\\033[32mlv[  :  ]    =\\\\033[0m', lv[:])\\nprint()\\n\\nprint('\\\\033[32mlv[  :  : 2] =\\\\033[0m', lv[::2])\\nprint('\\\\033[32mlv[ 1:  : 2] =\\\\033[0m', lv[1::2])\\nprint('\\\\033[32mlv[  :  :-1] =\\\\033[0m', lv[::-1])\\nprint('\\\\033[32mlv[ 3: 0:-1] =\\\\033[0m', lv[3:0:-1])\\nprint()\", \"lv = ['Excellent', 'Good     ', 'Medium   ', 'Pass     ', 'Fail     ']\\nprint('\\\\033[32mlv[ 9]    =\\\\033[0m', lv[9])\", \"lv = ['Excellent', 'Good     ', 'Medium   ', 'Pass     ', 'Fail     ']\\nprint('\\\\033[32mlv[ 9]    =\\\\033[0m', lv[9])\", \"lv = ['Excellent', 'Good     ', 'Medium   ', 'Pass     ', 'Fail     ']\\nprint('\\\\033[32mlv[ 2: 9]    =\\\\033[0m', lv[2:9])\\nprint('\\\\033[32mlv[-9:-2]    =\\\\033[0m', lv[-9:-2])\\nprint('\\\\033[32mlv[ 3: 2]    =\\\\033[0m', lv[3:2])\\nprint('\\\\033[32mlv[ 9:  :-1] =\\\\033[0m', lv[9::-1])\", 'a, b, c = 1, 2, 3\\nprint(a, b, c)\\na, b, c = c, a, b\\nprint(a, b, c)', \"s = list('Pthon')\\nprint(s) \\ns.insert(1, 'y')\\nprint(s)\", \"s = list('Pthon')\\nargs = (1, 'y')\\nprint(s) \\ns.insert(*args)\\nprint(s)\", 'a, b = 4, 5 \\neg_tuple = 1, 3 if a > b else 2, 4\\nprint(eg_tuple)\\neg_tuple = (1, 3) if a > b else (2, 4)\\nprint(eg_tuple)', 'num = [1, 2, 3, 4, 5]\\nprint(num)\\nnum.append(6)\\nprint(num)\\nnum.extend([7, 8])\\nprint(num)\\nnum += range(9, 12)\\nprint(num)\\nnum.insert(1, 0)\\nprint(num)', 'num = [1, 2, 3, 4, 5, 4, 3, 2, 1]\\nprint(num)\\nnum.remove(2)\\nprint(num)\\nnum.pop()\\nprint(num)\\nnum.clear()\\nprint(num)', 'num1 = [31, 12, 79, 46, 55]\\nnum2 = [26, 27, 48]\\nprint(num1 + num2)\\nprint(num1 * 2) \\nnum1.reverse()\\nprint(num1)\\nnum1.sort(key=(lambda x:x%10), reverse=True)\\nprint(num1)', 'num1 = [1, 1, 1, 2, 7, 11]\\nnum2 = [1, 1, 4]\\nprint(len(num1))\\nprint(num1 < num2)\\nprint(num1.count(1))\\nprint(7 in num1)\\nprint(num1.index(2))', 'num1 = [0, (1,), [2, 3]]\\nnum2 = num1.copy()\\nprint(num1, id(num1), id(num1[0]), id(num1[1]), id(num1[2]))\\nprint(num2, id(num2), id(num2[0]), id(num2[1]), id(num2[2]))', 'import copy\\nnum1 = [0, (1,), [2, 3]]\\nnum2 = copy.deepcopy(num1)\\nprint(num1, id(num1), id(num1[0]), id(num1[1]), id(num1[2]))\\nprint(num2, id(num2), id(num2[0]), id(num2[1]), id(num2[2]))', 'num1 = num1[0] = [0]\\nprint(num1)\\nnum2 = copy.deepcopy(num1)\\nprint(num1, id(num1), id(num1[0]), id(num1[0][0]), id(num1[0][0][0]))\\nprint(num2, id(num2), id(num2[0]), id(num2[0][0]), id(num2[0][0][0]))', \"prices = {'Tomatoes': 4.8, 'Potatoes': 3.7, 'Eggs': 5.79, 'Pork': 16.6, \\n          'Beef': 48.8, 'Orange': 7.2, 'Watermelon': 5.9}\\nprint(prices)\\nprices = dict([('Tomatoes', 4.8), ('Potatoes', 3.7), ('Eggs', 5.79), \\n               ('Pork', 16.6), ('Beef', 48.8), ('Orange', 7.2), \\n               ('Watermelon', 5.9)])\\nprint(prices)\", \"str_num = {str(i): i for i in range(100)}\\nprint(str_num)\\ntest_dict = dict.fromkeys('Python', 1)\\nprint(test_dict)\", \"prices = dict([('Tomatoes', 4.8), ('Potatoes', 3.7), ('Eggs', 5.79), \\n               ('Pork', 16.6), ('Beef', 48.8), ('Orange', 7.2), \\n               ('Watermelon', 5.9)])\\nprint(prices['Tomatoes'])\\nprint(prices.get('Tomatoes'))\", \"prices = dict([('Tomatoes', 4.8), ('Potatoes', 3.7), ('Eggs', 5.79), \\n               ('Pork', 16.6), ('Beef', 48.8), ('Orange', 7.2), \\n               ('Watermelon', 5.9)])\\nprint(prices['Apple'])\", \"prices = dict([('Tomatoes', 4.8), ('Potatoes', 3.7), ('Eggs', 5.79), \\n               ('Pork', 16.6), ('Beef', 48.8), ('Orange', 7.2), \\n               ('Watermelon', 5.9)])\\nprint(prices.get('Apple'))\", \"prices1 = dict([('Tomatoes', 4.8), ('Potatoes', 3.7), ('Eggs', 5.79), \\n                ('Pork', 16.6), ('Beef', 48.8), ('Orange', 7.2), \\n                ('Watermelon', 5.9)])\\nprices2 = dict([('Cucumber', 4.7), ('Carrots', 3.0), ('Leek', 4.1), \\n                ('Chicken', 10.8), ('Lamb', 39.1),  ('Pear', 5.2), \\n                ('Banana', 4.3)])\\na, *b = prices1\\nprint(b)\\nprices = {*prices1, *prices2}\\nprint(prices)\\nprices = {**prices1, **prices2}\\nprint(prices)\", \"prices = dict([('Tomatoes', 4.8), ('Potatoes', 3.7), ('Eggs', 5.79), \\n               ('Pork', 16.6), ('Beef', 48.8), ('Orange', 7.2), \\n               ('Watermelon', 5.9)])\\n\\nprint(prices.get('Tomatoes'))\\nprices['Tomatoes'] = 4.7\\nprint(prices.get('Tomatoes'))\\nprint()\\n\\nprint(prices.get('Chicken'))\\nprices['Chicken'] = 10.8\\nprint(prices.get('Chicken'))\", \"prices = dict([('Tomatoes', 4.8), ('Potatoes', 3.7), ('Eggs', 5.79), \\n               ('Pork', 16.6), ('Beef', 48.8), ('Orange', 7.2), \\n               ('Watermelon', 5.9)])\\n\\nprint(prices.get('Tomatoes'))\\nprices.setdefault('Tomatoes', 4.7)\\nprint(prices.get('Tomatoes'))\\nprint()\\n\\nprint(prices.get('Chicken'))\\nprices.setdefault('Chicken', 10.8)\\nprint(prices.get('Chicken'))\", \"prices = dict([('Tomatoes', 4.8), ('Potatoes', 3.7)])\\nprint(prices)\\nprices.update({'Carrot':3.0, 'Leek':4.6})\\nprint(prices)\\nprices |= [('Orange', 7.2),('Apple', 6.9)]\\nprint(prices)\", \"prices = dict([('Tomatoes', 4.8), ('Potatoes', 3.7), ('Eggs', 5.79), \\n               ('Pork', 16.6), ('Beef', 48.8), ('Orange', 7.5), \\n               ('Watermelon', 5.9)])\\ndel prices['Tomatoes']\\ndel prices['Potatoes']\\ndel prices['Eggs']\\ndel prices['Pork']\\ndel prices['Beef']\\nprint(prices)\\nprices.__delitem__('Orange')\\nprint(prices)\", \"prices = dict([('Tomatoes', 4.8), ('Potatoes', 3.7), ('Eggs', 5.79), \\n               ('Pork', 16.6), ('Beef', 48.8), ('Orange', 7.5), \\n               ('Watermelon', 5.9)])\\nprices['Tomatoes'] = None\\nprices['Potatoes'] = None\\nprices['Eggs'] = None\\nprices['Pork'] = None\\nprices['Beef'] = None\\nprint(prices)\\nprices.clear()\\nprint(prices)\", \"prices = dict([('Tomatoes', 4.8), ('Potatoes', 3.7), ('Eggs', 5.79), \\n               ('Pork', 16.6), ('Beef', 48.8), ('Orange', 7.5), \\n               ('Watermelon', 5.9)])\\nprint(len(prices))\\nprint(prices.items())\\nprint(prices.keys())\\nprint(prices.values())\\nprint('Tomatoes' in prices)\\n\\nprint()\\nprint(list(prices.items()))\", 'str_num = {0, 1, 2, 3, 4, 5, 6}\\nprint(str_num)\\nstr_num = set(range(100))\\nprint(str_num)\\nstr_num = frozenset(range(100))\\nprint(str_num)\\nstr_num = {str(i) for i in range(100)}\\nprint(str_num)', 'def f(x, y):\\n    return x + y\\nprint(f(5, 7))\\ng = f\\nprint()\\n\\ndef f(x, y):\\n    return x * y\\nprint(f(5, 7))\\nprint(g(5, 7))', 'def f(a, b, c):\\n    return a * 100 + b * 10 + c\\n\\nprint(f(3, 4, 5))\\nprint(f(c=3, b=4, a=5))', 'def f(a, b, c, /):\\n    return a * 100 + b * 10 + c\\n\\nprint(f(c=3, b=4, a=5))', 'def f(*, a, b, c):\\n    return a * 100 + b * 10 + c\\n\\nprint(f(3, 4, 5))', 'def f(a, b, c, *args):\\n    num = a * 100 + b * 10 + c\\n    for i in args:\\n        num = num * 10 + i\\n    return num\\n\\nprint(f(1, 3, 7, 2, 5, 4, 3, 9, 6))', 'def f(a, b, c, **kwargs):\\n    return kwargs\\n\\nprint(f(1, 2, 3, d=1, e=2))', 'def f(a: int, b: int, c: str):\\n    return a * 100 + b * 10 + c\\n\\nprint(f(1, 2, 3))', 'num = [1, 2, 3, 4, 5] \\nprint(num[::-1])', 'num = [1, 2, 3, 4, 5] \\nprint(num.reverse())\\nprint(num)', \"def f(x):\\n    try:\\n        print('before try')\\n        return 'return try'\\n        print('after try')\\n    except:\\n        pass\\n    finally:\\n        print('before finally')\\n        return 'return finally'\\n        print('after finally')\\n\\nprint(f(0))\", 'def f(x):\\n    def g(y):\\n        return x <= y\\n    return g\\n\\ngeq3 = f(3)\\n\\nprint(geq3(2))\\nprint(geq3(3))\\nprint(geq3(4))', \"def concat(*funcs):\\n    def _concat_func(arg):\\n        for func in funcs:\\n            arg = func(arg)\\n        return arg\\n    return _concat_func\\n\\nf = concat(sorted, ' > '.join, print)\\n\\nf(['apple', 'orange', 'banana', 'lemon'])\\nf(['Beijing', 'Shanghai', 'Guangzhou', 'Shenzhen'])\", 'def f(x, y, z):\\n    return x * 100 + y * 10 + z\\n\\ndef curry3(func):\\n    def _func_x(x):\\n        def _func_y(y):\\n            def _func_z(z):\\n                return func(x, y, z)\\n            return _func_z\\n        return _func_y\\n    return _func_x\\n\\nprint(f)\\nxf = curry3(f) \\nprint(xf)\\nyf = xf(3)\\nprint(yf)\\nzf = yf(1) \\nprint(zf)\\nans = zf(5)\\nprint(ans)', 'def curry(func):\\n    _arg_count = func.__code__.co_argcount\\n    def _get_curry_func(_args):\\n        def _curry_func(arg):\\n            if len(_args) + 1 == _arg_count:\\n                return func(*_args, arg)\\n            else:\\n                return _get_curry_func(_args + [arg])\\n        return _curry_func\\n    return _get_curry_func([])\\n\\ndef f(x0, x1, x2, x3, x4, x5, x6, x7, x8, x9):\\n    return ((((((((x0 * 10 + x1) * 10 + x2) * 10 + x3) * 10 + x4) * \\n               10 + x5) * 10 + x6) * 10 + x7) * 10 + x8) * 10 + x9\\n\\nx0f = curry(f)\\nprint(x0f)\\nx1f = x0f(6)\\nprint(x1f)\\nx2f = x1f(6)\\nprint(x2f)\\nx3f = x2f(6)\\nprint(x3f)\\nx4f = x3f(7)\\nprint(x4f)\\nx5f = x4f(7)\\nprint(x5f)\\nx6f = x5f(7)\\nprint(x6f)\\nx7f = x6f(8)\\nprint(x7f)\\nx8f = x7f(8)\\nprint(x8f)\\nx9f = x8f(8)\\nprint(x9f)\\nans = x9f(9)\\nprint(ans)', 'glb_a = 1', 'print(glb_a)', 'def f():\\n    print(glb_a)\\nf()', 'def f():\\n    glb_a =2\\n    print(glb_a)\\nf()\\nprint(glb_a)', 'def f():\\n    global glb_a\\n    glb_a =2\\n    print(glb_a)\\nf()\\nprint(glb_a)', 'def f():\\n    ans = []\\n    def g(y):\\n        if y is None:\\n            return ans\\n        ans.append(y)\\n    return g\\n\\ng = f()\\ng(0)\\ng(1)\\ng(2)\\ng(3)\\ng(4)\\nprint(g(None))', 'def f():\\n    ans = []\\n    def g(y):\\n        if y is None:\\n            return ans\\n        ans += [y]\\n    return g\\n\\ng = f()\\ng(0)\\ng(1)\\ng(2)\\ng(3)\\ng(4)\\nprint(g(None))', 'def f(a, b, c, *args):\\n    num = a * 100 + b * 10 + c\\n    for i in args:\\n        num = num * 10 + i\\n    return num\\n\\nprint(f(1, 3, 7, 2, 5, 4, 3, 9, 6))', 'def f():\\n    ans = []\\n    def g(y):\\n        nonlocal ans\\n        if y is None:\\n            return ans\\n        ans += [y]\\n    return g\\n\\ng = f()\\ng(0)\\ng(1)\\ng(2)\\ng(3)\\ng(4)\\nprint(g(None))', 'def f(x, y):\\n    return x + y\\n\\ndef g():\\n    global f\\n    def f(x, y):\\n        return x * y\\n    \\nprint(f(5, 7))\\ng()\\nprint(f(5, 7))', 'print(globals())'], '_oh': {}, '_dh': [WindowsPath('d:/学习资料/2022-2023 下学期/python'), WindowsPath('d:/学习资料/2022-2023 下学期/python')], 'In': ['', 'num = [1, 2, 3] *3\\nnum\\nprint(id(num[0]), id(num[1]), id(num[2]))\\nprint(id(num[3]), id(num[4]), id(num[5]))', 'help(id)', 'num[3] = 4\\nprint(num)', 'num = [[1, 2, 3]] * 2\\nprint(num)\\nnum[0][0] = 0\\nprint(num)\\nnum[1][0] = 4\\nprint(num)', \"prices = [('Tomatoes', 4.8), ('Potatoes', 3.7), ('Cucumber', 4.7),\\n          ('Carrots', 3.0), ('Leek', 4.1), ('Eggs', 5.79), ('Chicken', 10.8), \\n          ('Pork', 16.6), ('Beef', 48.8), ('Lamb', 39.1), ('Orange', 7.5), \\n          ('Watermelon', 5.9), ('Pear', 5.2), ('Banana', 4.3)]\\nprint(prices)\", 'prices[0][1] = 4.6', 'num = [1, 2, 3] *3\\nnum\\nprint(id(num[0]), id(num[1]), id(num[2]))\\nprint(id(num[3]), id(num[4]), id(num[5]))', 'help(id)', 'num[3] = 4\\nprint(num)', 'num = [[1, 2, 3]] * 2\\nprint(num)\\nnum[0][0] = 0\\nprint(num)\\nnum[1][0] = 4\\nprint(num)', \"prices = [('Tomatoes', 4.8), ('Potatoes', 3.7), ('Cucumber', 4.7),\\n          ('Carrots', 3.0), ('Leek', 4.1), ('Eggs', 5.79), ('Chicken', 10.8), \\n          ('Pork', 16.6), ('Beef', 48.8), ('Lamb', 39.1), ('Orange', 7.5), \\n          ('Watermelon', 5.9), ('Pear', 5.2), ('Banana', 4.3)]\\nprint(prices)\", 'prices[0][1] = 4.6', 'num = [1, 2, 3] *3\\nnum\\nprint(id(num[0]), id(num[1]), id(num[2]))\\nprint(id(num[3]), id(num[4]), id(num[5]))', 'help(id)', 'num[3] = 4\\nprint(num)', 'num = [[1, 2, 3]] * 2\\nprint(num)\\nnum[0][0] = 0\\nprint(num)\\nnum[1][0] = 4\\nprint(num)', \"prices = [('Tomatoes', 4.8), ('Potatoes', 3.7), ('Cucumber', 4.7),\\n          ('Carrots', 3.0), ('Leek', 4.1), ('Eggs', 5.79), ('Chicken', 10.8), \\n          ('Pork', 16.6), ('Beef', 48.8), ('Lamb', 39.1), ('Orange', 7.5), \\n          ('Watermelon', 5.9), ('Pear', 5.2), ('Banana', 4.3)]\\nprint(prices)\", 'prices[0][1] = 4.6', \"eg_list = ['element1', 'element2', 'element3'] \\nprint(eg_list, '\\\\t\\\\t\\\\t', id(eg_list))\\neg_list.append('element_4')\\nprint(eg_list, '\\\\t', id(eg_list))\\nprint()\\n\\neg_dict = {'key_1': 1, 'key_2': 2, 'key_3': 3}\\nprint(eg_dict, '\\\\t\\\\t\\\\t', id(eg_dict))\\neg_dict['element_4'] = 4\\nprint(eg_dict, '\\\\t', id(eg_dict))\\nprint()\\n\\neg_set  = {'element1', 'element2', 'element3'}\\nprint(eg_set , '\\\\t\\\\t\\\\t', id(eg_set ))\\neg_set.add('element_4')\\nprint(eg_set , '\\\\t', id(eg_set ))\", \"eg_int = 10\\nprint(eg_int, id(eg_int))\\neg_int += 2\\nprint(eg_int, id(eg_int))\\nprint()\\n\\neg_tuple = (1, 3, 5, 7)\\nprint(eg_tuple, '\\\\t\\\\t', id(eg_tuple))\\neg_tuple += (9, 11)\\nprint(eg_tuple, '\\\\t', id(eg_tuple))\", \"ch_list = ['a','c','a','c']\\nprint(ch_list)\\n\\nch_list = list('acac')\\nprint(ch_list)\\n\\nch_list = a = [i for i in 'abcabc' if i != 'b']\\nprint(ch_list)\\n\\nch_list = []\\nfor ch in 'abcabc':\\n    if ch != 'b':\\n        ch_list.append(ch)\\nprint(ch_list)\", \"ch_tuple = ('a', 'c', 'a', 'c')\\nprint(ch_tuple)\\n\\nch_tuple = 'a', 'c', 'a', 'c'\\nprint(ch_tuple)\\n\\nch_tuple = tuple('acac')\\nprint(ch_tuple)\\n\\nch_tuple = tuple(['a', 'c', 'a', 'c'])\\nprint(ch_tuple)\", \"ch_generator = (i for i in 'abcabc' if i != 'b')\\nprint(ch_generator)\", \"lv = ['Excellent', 'Good     ', 'Medium   ', 'Pass     ', 'Fail     ']\\nprint('\\\\033[32mlv[ 0] =\\\\033[0m', lv[0])\\nprint('\\\\033[32mlv[ 1] =\\\\033[0m', lv[1])\\nprint('\\\\033[32mlv[ 2] =\\\\033[0m', lv[2])\\nprint('\\\\033[32mlv[ 3] =\\\\033[0m', lv[3])\\nprint('\\\\033[32mlv[ 4] =\\\\033[0m', lv[4])\\nprint()\\n\\nprint('\\\\033[32mlv[-1] =\\\\033[0m', lv[-1])\\nprint('\\\\033[32mlv[-2] =\\\\033[0m', lv[-2])\\nprint('\\\\033[32mlv[-3] =\\\\033[0m', lv[-3])\\nprint('\\\\033[32mlv[-4] =\\\\033[0m', lv[-4])\\nprint('\\\\033[32mlv[-5] =\\\\033[0m', lv[-5])\", \"lv = ['Excellent', 'Good     ', 'Medium   ', 'Pass     ', 'Fail     ']\\nprint('\\\\033[32mlv[  : 3]    =\\\\033[0m', lv[:3])\\nprint('\\\\033[32mlv[-3:  ]    =\\\\033[0m', lv[-3:])\\nprint('\\\\033[32mlv[ 1: 4]    =\\\\033[0m', lv[1:4])\\nprint('\\\\033[32mlv[ 1:-1]    =\\\\033[0m', lv[1:-1])\\nprint('\\\\033[32mlv[  :  ]    =\\\\033[0m', lv[:])\\nprint()\\n\\nprint('\\\\033[32mlv[  :  : 2] =\\\\033[0m', lv[::2])\\nprint('\\\\033[32mlv[ 1:  : 2] =\\\\033[0m', lv[1::2])\\nprint('\\\\033[32mlv[  :  :-1] =\\\\033[0m', lv[::-1])\\nprint('\\\\033[32mlv[ 3: 0:-1] =\\\\033[0m', lv[3:0:-1])\\nprint()\", \"lv = ['Excellent', 'Good     ', 'Medium   ', 'Pass     ', 'Fail     ']\\nprint('\\\\033[32mlv[ 9]    =\\\\033[0m', lv[9])\", \"lv = ['Excellent', 'Good     ', 'Medium   ', 'Pass     ', 'Fail     ']\\nprint('\\\\033[32mlv[ 9]    =\\\\033[0m', lv[9])\", \"lv = ['Excellent', 'Good     ', 'Medium   ', 'Pass     ', 'Fail     ']\\nprint('\\\\033[32mlv[ 2: 9]    =\\\\033[0m', lv[2:9])\\nprint('\\\\033[32mlv[-9:-2]    =\\\\033[0m', lv[-9:-2])\\nprint('\\\\033[32mlv[ 3: 2]    =\\\\033[0m', lv[3:2])\\nprint('\\\\033[32mlv[ 9:  :-1] =\\\\033[0m', lv[9::-1])\", 'a, b, c = 1, 2, 3\\nprint(a, b, c)\\na, b, c = c, a, b\\nprint(a, b, c)', \"s = list('Pthon')\\nprint(s) \\ns.insert(1, 'y')\\nprint(s)\", \"s = list('Pthon')\\nargs = (1, 'y')\\nprint(s) \\ns.insert(*args)\\nprint(s)\", 'a, b = 4, 5 \\neg_tuple = 1, 3 if a > b else 2, 4\\nprint(eg_tuple)\\neg_tuple = (1, 3) if a > b else (2, 4)\\nprint(eg_tuple)', 'num = [1, 2, 3, 4, 5]\\nprint(num)\\nnum.append(6)\\nprint(num)\\nnum.extend([7, 8])\\nprint(num)\\nnum += range(9, 12)\\nprint(num)\\nnum.insert(1, 0)\\nprint(num)', 'num = [1, 2, 3, 4, 5, 4, 3, 2, 1]\\nprint(num)\\nnum.remove(2)\\nprint(num)\\nnum.pop()\\nprint(num)\\nnum.clear()\\nprint(num)', 'num1 = [31, 12, 79, 46, 55]\\nnum2 = [26, 27, 48]\\nprint(num1 + num2)\\nprint(num1 * 2) \\nnum1.reverse()\\nprint(num1)\\nnum1.sort(key=(lambda x:x%10), reverse=True)\\nprint(num1)', 'num1 = [1, 1, 1, 2, 7, 11]\\nnum2 = [1, 1, 4]\\nprint(len(num1))\\nprint(num1 < num2)\\nprint(num1.count(1))\\nprint(7 in num1)\\nprint(num1.index(2))', 'num1 = [0, (1,), [2, 3]]\\nnum2 = num1.copy()\\nprint(num1, id(num1), id(num1[0]), id(num1[1]), id(num1[2]))\\nprint(num2, id(num2), id(num2[0]), id(num2[1]), id(num2[2]))', 'import copy\\nnum1 = [0, (1,), [2, 3]]\\nnum2 = copy.deepcopy(num1)\\nprint(num1, id(num1), id(num1[0]), id(num1[1]), id(num1[2]))\\nprint(num2, id(num2), id(num2[0]), id(num2[1]), id(num2[2]))', 'num1 = num1[0] = [0]\\nprint(num1)\\nnum2 = copy.deepcopy(num1)\\nprint(num1, id(num1), id(num1[0]), id(num1[0][0]), id(num1[0][0][0]))\\nprint(num2, id(num2), id(num2[0]), id(num2[0][0]), id(num2[0][0][0]))', \"prices = {'Tomatoes': 4.8, 'Potatoes': 3.7, 'Eggs': 5.79, 'Pork': 16.6, \\n          'Beef': 48.8, 'Orange': 7.2, 'Watermelon': 5.9}\\nprint(prices)\\nprices = dict([('Tomatoes', 4.8), ('Potatoes', 3.7), ('Eggs', 5.79), \\n               ('Pork', 16.6), ('Beef', 48.8), ('Orange', 7.2), \\n               ('Watermelon', 5.9)])\\nprint(prices)\", \"str_num = {str(i): i for i in range(100)}\\nprint(str_num)\\ntest_dict = dict.fromkeys('Python', 1)\\nprint(test_dict)\", \"prices = dict([('Tomatoes', 4.8), ('Potatoes', 3.7), ('Eggs', 5.79), \\n               ('Pork', 16.6), ('Beef', 48.8), ('Orange', 7.2), \\n               ('Watermelon', 5.9)])\\nprint(prices['Tomatoes'])\\nprint(prices.get('Tomatoes'))\", \"prices = dict([('Tomatoes', 4.8), ('Potatoes', 3.7), ('Eggs', 5.79), \\n               ('Pork', 16.6), ('Beef', 48.8), ('Orange', 7.2), \\n               ('Watermelon', 5.9)])\\nprint(prices['Apple'])\", \"prices = dict([('Tomatoes', 4.8), ('Potatoes', 3.7), ('Eggs', 5.79), \\n               ('Pork', 16.6), ('Beef', 48.8), ('Orange', 7.2), \\n               ('Watermelon', 5.9)])\\nprint(prices.get('Apple'))\", \"prices1 = dict([('Tomatoes', 4.8), ('Potatoes', 3.7), ('Eggs', 5.79), \\n                ('Pork', 16.6), ('Beef', 48.8), ('Orange', 7.2), \\n                ('Watermelon', 5.9)])\\nprices2 = dict([('Cucumber', 4.7), ('Carrots', 3.0), ('Leek', 4.1), \\n                ('Chicken', 10.8), ('Lamb', 39.1),  ('Pear', 5.2), \\n                ('Banana', 4.3)])\\na, *b = prices1\\nprint(b)\\nprices = {*prices1, *prices2}\\nprint(prices)\\nprices = {**prices1, **prices2}\\nprint(prices)\", \"prices = dict([('Tomatoes', 4.8), ('Potatoes', 3.7), ('Eggs', 5.79), \\n               ('Pork', 16.6), ('Beef', 48.8), ('Orange', 7.2), \\n               ('Watermelon', 5.9)])\\n\\nprint(prices.get('Tomatoes'))\\nprices['Tomatoes'] = 4.7\\nprint(prices.get('Tomatoes'))\\nprint()\\n\\nprint(prices.get('Chicken'))\\nprices['Chicken'] = 10.8\\nprint(prices.get('Chicken'))\", \"prices = dict([('Tomatoes', 4.8), ('Potatoes', 3.7), ('Eggs', 5.79), \\n               ('Pork', 16.6), ('Beef', 48.8), ('Orange', 7.2), \\n               ('Watermelon', 5.9)])\\n\\nprint(prices.get('Tomatoes'))\\nprices.setdefault('Tomatoes', 4.7)\\nprint(prices.get('Tomatoes'))\\nprint()\\n\\nprint(prices.get('Chicken'))\\nprices.setdefault('Chicken', 10.8)\\nprint(prices.get('Chicken'))\", \"prices = dict([('Tomatoes', 4.8), ('Potatoes', 3.7)])\\nprint(prices)\\nprices.update({'Carrot':3.0, 'Leek':4.6})\\nprint(prices)\\nprices |= [('Orange', 7.2),('Apple', 6.9)]\\nprint(prices)\", \"prices = dict([('Tomatoes', 4.8), ('Potatoes', 3.7), ('Eggs', 5.79), \\n               ('Pork', 16.6), ('Beef', 48.8), ('Orange', 7.5), \\n               ('Watermelon', 5.9)])\\ndel prices['Tomatoes']\\ndel prices['Potatoes']\\ndel prices['Eggs']\\ndel prices['Pork']\\ndel prices['Beef']\\nprint(prices)\\nprices.__delitem__('Orange')\\nprint(prices)\", \"prices = dict([('Tomatoes', 4.8), ('Potatoes', 3.7), ('Eggs', 5.79), \\n               ('Pork', 16.6), ('Beef', 48.8), ('Orange', 7.5), \\n               ('Watermelon', 5.9)])\\nprices['Tomatoes'] = None\\nprices['Potatoes'] = None\\nprices['Eggs'] = None\\nprices['Pork'] = None\\nprices['Beef'] = None\\nprint(prices)\\nprices.clear()\\nprint(prices)\", \"prices = dict([('Tomatoes', 4.8), ('Potatoes', 3.7), ('Eggs', 5.79), \\n               ('Pork', 16.6), ('Beef', 48.8), ('Orange', 7.5), \\n               ('Watermelon', 5.9)])\\nprint(len(prices))\\nprint(prices.items())\\nprint(prices.keys())\\nprint(prices.values())\\nprint('Tomatoes' in prices)\\n\\nprint()\\nprint(list(prices.items()))\", 'str_num = {0, 1, 2, 3, 4, 5, 6}\\nprint(str_num)\\nstr_num = set(range(100))\\nprint(str_num)\\nstr_num = frozenset(range(100))\\nprint(str_num)\\nstr_num = {str(i) for i in range(100)}\\nprint(str_num)', 'def f(x, y):\\n    return x + y\\nprint(f(5, 7))\\ng = f\\nprint()\\n\\ndef f(x, y):\\n    return x * y\\nprint(f(5, 7))\\nprint(g(5, 7))', 'def f(a, b, c):\\n    return a * 100 + b * 10 + c\\n\\nprint(f(3, 4, 5))\\nprint(f(c=3, b=4, a=5))', 'def f(a, b, c, /):\\n    return a * 100 + b * 10 + c\\n\\nprint(f(c=3, b=4, a=5))', 'def f(*, a, b, c):\\n    return a * 100 + b * 10 + c\\n\\nprint(f(3, 4, 5))', 'def f(a, b, c, *args):\\n    num = a * 100 + b * 10 + c\\n    for i in args:\\n        num = num * 10 + i\\n    return num\\n\\nprint(f(1, 3, 7, 2, 5, 4, 3, 9, 6))', 'def f(a, b, c, **kwargs):\\n    return kwargs\\n\\nprint(f(1, 2, 3, d=1, e=2))', 'def f(a: int, b: int, c: str):\\n    return a * 100 + b * 10 + c\\n\\nprint(f(1, 2, 3))', 'num = [1, 2, 3, 4, 5] \\nprint(num[::-1])', 'num = [1, 2, 3, 4, 5] \\nprint(num.reverse())\\nprint(num)', \"def f(x):\\n    try:\\n        print('before try')\\n        return 'return try'\\n        print('after try')\\n    except:\\n        pass\\n    finally:\\n        print('before finally')\\n        return 'return finally'\\n        print('after finally')\\n\\nprint(f(0))\", 'def f(x):\\n    def g(y):\\n        return x <= y\\n    return g\\n\\ngeq3 = f(3)\\n\\nprint(geq3(2))\\nprint(geq3(3))\\nprint(geq3(4))', \"def concat(*funcs):\\n    def _concat_func(arg):\\n        for func in funcs:\\n            arg = func(arg)\\n        return arg\\n    return _concat_func\\n\\nf = concat(sorted, ' > '.join, print)\\n\\nf(['apple', 'orange', 'banana', 'lemon'])\\nf(['Beijing', 'Shanghai', 'Guangzhou', 'Shenzhen'])\", 'def f(x, y, z):\\n    return x * 100 + y * 10 + z\\n\\ndef curry3(func):\\n    def _func_x(x):\\n        def _func_y(y):\\n            def _func_z(z):\\n                return func(x, y, z)\\n            return _func_z\\n        return _func_y\\n    return _func_x\\n\\nprint(f)\\nxf = curry3(f) \\nprint(xf)\\nyf = xf(3)\\nprint(yf)\\nzf = yf(1) \\nprint(zf)\\nans = zf(5)\\nprint(ans)', 'def curry(func):\\n    _arg_count = func.__code__.co_argcount\\n    def _get_curry_func(_args):\\n        def _curry_func(arg):\\n            if len(_args) + 1 == _arg_count:\\n                return func(*_args, arg)\\n            else:\\n                return _get_curry_func(_args + [arg])\\n        return _curry_func\\n    return _get_curry_func([])\\n\\ndef f(x0, x1, x2, x3, x4, x5, x6, x7, x8, x9):\\n    return ((((((((x0 * 10 + x1) * 10 + x2) * 10 + x3) * 10 + x4) * \\n               10 + x5) * 10 + x6) * 10 + x7) * 10 + x8) * 10 + x9\\n\\nx0f = curry(f)\\nprint(x0f)\\nx1f = x0f(6)\\nprint(x1f)\\nx2f = x1f(6)\\nprint(x2f)\\nx3f = x2f(6)\\nprint(x3f)\\nx4f = x3f(7)\\nprint(x4f)\\nx5f = x4f(7)\\nprint(x5f)\\nx6f = x5f(7)\\nprint(x6f)\\nx7f = x6f(8)\\nprint(x7f)\\nx8f = x7f(8)\\nprint(x8f)\\nx9f = x8f(8)\\nprint(x9f)\\nans = x9f(9)\\nprint(ans)', 'glb_a = 1', 'print(glb_a)', 'def f():\\n    print(glb_a)\\nf()', 'def f():\\n    glb_a =2\\n    print(glb_a)\\nf()\\nprint(glb_a)', 'def f():\\n    global glb_a\\n    glb_a =2\\n    print(glb_a)\\nf()\\nprint(glb_a)', 'def f():\\n    ans = []\\n    def g(y):\\n        if y is None:\\n            return ans\\n        ans.append(y)\\n    return g\\n\\ng = f()\\ng(0)\\ng(1)\\ng(2)\\ng(3)\\ng(4)\\nprint(g(None))', 'def f():\\n    ans = []\\n    def g(y):\\n        if y is None:\\n            return ans\\n        ans += [y]\\n    return g\\n\\ng = f()\\ng(0)\\ng(1)\\ng(2)\\ng(3)\\ng(4)\\nprint(g(None))', 'def f(a, b, c, *args):\\n    num = a * 100 + b * 10 + c\\n    for i in args:\\n        num = num * 10 + i\\n    return num\\n\\nprint(f(1, 3, 7, 2, 5, 4, 3, 9, 6))', 'def f():\\n    ans = []\\n    def g(y):\\n        nonlocal ans\\n        if y is None:\\n            return ans\\n        ans += [y]\\n    return g\\n\\ng = f()\\ng(0)\\ng(1)\\ng(2)\\ng(3)\\ng(4)\\nprint(g(None))', 'def f(x, y):\\n    return x + y\\n\\ndef g():\\n    global f\\n    def f(x, y):\\n        return x * y\\n    \\nprint(f(5, 7))\\ng()\\nprint(f(5, 7))', 'print(globals())'], 'Out': {}, 'get_ipython': <bound method InteractiveShell.get_ipython of <ipykernel.zmqshell.ZMQInteractiveShell object at 0x0000027AC51FB160>>, 'exit': <IPython.core.autocall.ZMQExitAutocall object at 0x0000027AC51FB880>, 'quit': <IPython.core.autocall.ZMQExitAutocall object at 0x0000027AC51FB880>, 'open': <function open at 0x0000027AC38A8A60>, '_': '', '__': '', '___': '', '__vsc_ipynb_file__': 'd:\\\\学习资料\\\\2022-2023 下学期\\\\python\\\\test.ipynb', '_i': 'def f(x, y):\\n    return x + y\\n\\ndef g():\\n    global f\\n    def f(x, y):\\n        return x * y\\n    \\nprint(f(5, 7))\\ng()\\nprint(f(5, 7))', '_ii': 'def f():\\n    ans = []\\n    def g(y):\\n        nonlocal ans\\n        if y is None:\\n            return ans\\n        ans += [y]\\n    return g\\n\\ng = f()\\ng(0)\\ng(1)\\ng(2)\\ng(3)\\ng(4)\\nprint(g(None))', '_iii': 'def f(a, b, c, *args):\\n    num = a * 100 + b * 10 + c\\n    for i in args:\\n        num = num * 10 + i\\n    return num\\n\\nprint(f(1, 3, 7, 2, 5, 4, 3, 9, 6))', '_i1': 'num = [1, 2, 3] *3\\nnum\\nprint(id(num[0]), id(num[1]), id(num[2]))\\nprint(id(num[3]), id(num[4]), id(num[5]))', 'num': [5, 4, 3, 2, 1], '_i2': 'help(id)', '_i3': 'num[3] = 4\\nprint(num)', '_i4': 'num = [[1, 2, 3]] * 2\\nprint(num)\\nnum[0][0] = 0\\nprint(num)\\nnum[1][0] = 4\\nprint(num)', '_i5': \"prices = [('Tomatoes', 4.8), ('Potatoes', 3.7), ('Cucumber', 4.7),\\n          ('Carrots', 3.0), ('Leek', 4.1), ('Eggs', 5.79), ('Chicken', 10.8), \\n          ('Pork', 16.6), ('Beef', 48.8), ('Lamb', 39.1), ('Orange', 7.5), \\n          ('Watermelon', 5.9), ('Pear', 5.2), ('Banana', 4.3)]\\nprint(prices)\", 'prices': {'Tomatoes': 4.8, 'Potatoes': 3.7, 'Eggs': 5.79, 'Pork': 16.6, 'Beef': 48.8, 'Orange': 7.5, 'Watermelon': 5.9}, '_i6': 'prices[0][1] = 4.6', '_i7': 'num = [1, 2, 3] *3\\nnum\\nprint(id(num[0]), id(num[1]), id(num[2]))\\nprint(id(num[3]), id(num[4]), id(num[5]))', '_i8': 'help(id)', '_i9': 'num[3] = 4\\nprint(num)', '_i10': 'num = [[1, 2, 3]] * 2\\nprint(num)\\nnum[0][0] = 0\\nprint(num)\\nnum[1][0] = 4\\nprint(num)', '_i11': \"prices = [('Tomatoes', 4.8), ('Potatoes', 3.7), ('Cucumber', 4.7),\\n          ('Carrots', 3.0), ('Leek', 4.1), ('Eggs', 5.79), ('Chicken', 10.8), \\n          ('Pork', 16.6), ('Beef', 48.8), ('Lamb', 39.1), ('Orange', 7.5), \\n          ('Watermelon', 5.9), ('Pear', 5.2), ('Banana', 4.3)]\\nprint(prices)\", '_i12': 'prices[0][1] = 4.6', '_i13': 'num = [1, 2, 3] *3\\nnum\\nprint(id(num[0]), id(num[1]), id(num[2]))\\nprint(id(num[3]), id(num[4]), id(num[5]))', '_i14': 'help(id)', '_i15': 'num[3] = 4\\nprint(num)', '_i16': 'num = [[1, 2, 3]] * 2\\nprint(num)\\nnum[0][0] = 0\\nprint(num)\\nnum[1][0] = 4\\nprint(num)', '_i17': \"prices = [('Tomatoes', 4.8), ('Potatoes', 3.7), ('Cucumber', 4.7),\\n          ('Carrots', 3.0), ('Leek', 4.1), ('Eggs', 5.79), ('Chicken', 10.8), \\n          ('Pork', 16.6), ('Beef', 48.8), ('Lamb', 39.1), ('Orange', 7.5), \\n          ('Watermelon', 5.9), ('Pear', 5.2), ('Banana', 4.3)]\\nprint(prices)\", '_i18': 'prices[0][1] = 4.6', '_i19': \"eg_list = ['element1', 'element2', 'element3'] \\nprint(eg_list, '\\\\t\\\\t\\\\t', id(eg_list))\\neg_list.append('element_4')\\nprint(eg_list, '\\\\t', id(eg_list))\\nprint()\\n\\neg_dict = {'key_1': 1, 'key_2': 2, 'key_3': 3}\\nprint(eg_dict, '\\\\t\\\\t\\\\t', id(eg_dict))\\neg_dict['element_4'] = 4\\nprint(eg_dict, '\\\\t', id(eg_dict))\\nprint()\\n\\neg_set  = {'element1', 'element2', 'element3'}\\nprint(eg_set , '\\\\t\\\\t\\\\t', id(eg_set ))\\neg_set.add('element_4')\\nprint(eg_set , '\\\\t', id(eg_set ))\", 'eg_list': ['element1', 'element2', 'element3', 'element_4'], 'eg_dict': {'key_1': 1, 'key_2': 2, 'key_3': 3, 'element_4': 4}, 'eg_set': {'element1', 'element3', 'element2', 'element_4'}, '_i20': \"eg_int = 10\\nprint(eg_int, id(eg_int))\\neg_int += 2\\nprint(eg_int, id(eg_int))\\nprint()\\n\\neg_tuple = (1, 3, 5, 7)\\nprint(eg_tuple, '\\\\t\\\\t', id(eg_tuple))\\neg_tuple += (9, 11)\\nprint(eg_tuple, '\\\\t', id(eg_tuple))\", 'eg_int': 12, 'eg_tuple': (2, 4), '_i21': \"ch_list = ['a','c','a','c']\\nprint(ch_list)\\n\\nch_list = list('acac')\\nprint(ch_list)\\n\\nch_list = a = [i for i in 'abcabc' if i != 'b']\\nprint(ch_list)\\n\\nch_list = []\\nfor ch in 'abcabc':\\n    if ch != 'b':\\n        ch_list.append(ch)\\nprint(ch_list)\", 'ch_list': ['a', 'c', 'a', 'c'], 'a': 'Tomatoes', 'ch': 'c', '_i22': \"ch_tuple = ('a', 'c', 'a', 'c')\\nprint(ch_tuple)\\n\\nch_tuple = 'a', 'c', 'a', 'c'\\nprint(ch_tuple)\\n\\nch_tuple = tuple('acac')\\nprint(ch_tuple)\\n\\nch_tuple = tuple(['a', 'c', 'a', 'c'])\\nprint(ch_tuple)\", 'ch_tuple': ('a', 'c', 'a', 'c'), '_i23': \"ch_generator = (i for i in 'abcabc' if i != 'b')\\nprint(ch_generator)\", 'ch_generator': <generator object <genexpr> at 0x0000027AC67DB200>, '_i24': \"lv = ['Excellent', 'Good     ', 'Medium   ', 'Pass     ', 'Fail     ']\\nprint('\\\\033[32mlv[ 0] =\\\\033[0m', lv[0])\\nprint('\\\\033[32mlv[ 1] =\\\\033[0m', lv[1])\\nprint('\\\\033[32mlv[ 2] =\\\\033[0m', lv[2])\\nprint('\\\\033[32mlv[ 3] =\\\\033[0m', lv[3])\\nprint('\\\\033[32mlv[ 4] =\\\\033[0m', lv[4])\\nprint()\\n\\nprint('\\\\033[32mlv[-1] =\\\\033[0m', lv[-1])\\nprint('\\\\033[32mlv[-2] =\\\\033[0m', lv[-2])\\nprint('\\\\033[32mlv[-3] =\\\\033[0m', lv[-3])\\nprint('\\\\033[32mlv[-4] =\\\\033[0m', lv[-4])\\nprint('\\\\033[32mlv[-5] =\\\\033[0m', lv[-5])\", 'lv': ['Excellent', 'Good     ', 'Medium   ', 'Pass     ', 'Fail     '], '_i25': \"lv = ['Excellent', 'Good     ', 'Medium   ', 'Pass     ', 'Fail     ']\\nprint('\\\\033[32mlv[  : 3]    =\\\\033[0m', lv[:3])\\nprint('\\\\033[32mlv[-3:  ]    =\\\\033[0m', lv[-3:])\\nprint('\\\\033[32mlv[ 1: 4]    =\\\\033[0m', lv[1:4])\\nprint('\\\\033[32mlv[ 1:-1]    =\\\\033[0m', lv[1:-1])\\nprint('\\\\033[32mlv[  :  ]    =\\\\033[0m', lv[:])\\nprint()\\n\\nprint('\\\\033[32mlv[  :  : 2] =\\\\033[0m', lv[::2])\\nprint('\\\\033[32mlv[ 1:  : 2] =\\\\033[0m', lv[1::2])\\nprint('\\\\033[32mlv[  :  :-1] =\\\\033[0m', lv[::-1])\\nprint('\\\\033[32mlv[ 3: 0:-1] =\\\\033[0m', lv[3:0:-1])\\nprint()\", '_i26': \"lv = ['Excellent', 'Good     ', 'Medium   ', 'Pass     ', 'Fail     ']\\nprint('\\\\033[32mlv[ 9]    =\\\\033[0m', lv[9])\", '_i27': \"lv = ['Excellent', 'Good     ', 'Medium   ', 'Pass     ', 'Fail     ']\\nprint('\\\\033[32mlv[ 9]    =\\\\033[0m', lv[9])\", '_i28': \"lv = ['Excellent', 'Good     ', 'Medium   ', 'Pass     ', 'Fail     ']\\nprint('\\\\033[32mlv[ 2: 9]    =\\\\033[0m', lv[2:9])\\nprint('\\\\033[32mlv[-9:-2]    =\\\\033[0m', lv[-9:-2])\\nprint('\\\\033[32mlv[ 3: 2]    =\\\\033[0m', lv[3:2])\\nprint('\\\\033[32mlv[ 9:  :-1] =\\\\033[0m', lv[9::-1])\", '_i29': 'a, b, c = 1, 2, 3\\nprint(a, b, c)\\na, b, c = c, a, b\\nprint(a, b, c)', 'b': ['Potatoes', 'Eggs', 'Pork', 'Beef', 'Orange', 'Watermelon'], 'c': 2, '_i30': \"s = list('Pthon')\\nprint(s) \\ns.insert(1, 'y')\\nprint(s)\", 's': ['P', 'y', 't', 'h', 'o', 'n'], '_i31': \"s = list('Pthon')\\nargs = (1, 'y')\\nprint(s) \\ns.insert(*args)\\nprint(s)\", 'args': (1, 'y'), '_i32': 'a, b = 4, 5 \\neg_tuple = 1, 3 if a > b else 2, 4\\nprint(eg_tuple)\\neg_tuple = (1, 3) if a > b else (2, 4)\\nprint(eg_tuple)', '_i33': 'num = [1, 2, 3, 4, 5]\\nprint(num)\\nnum.append(6)\\nprint(num)\\nnum.extend([7, 8])\\nprint(num)\\nnum += range(9, 12)\\nprint(num)\\nnum.insert(1, 0)\\nprint(num)', '_i34': 'num = [1, 2, 3, 4, 5, 4, 3, 2, 1]\\nprint(num)\\nnum.remove(2)\\nprint(num)\\nnum.pop()\\nprint(num)\\nnum.clear()\\nprint(num)', '_i35': 'num1 = [31, 12, 79, 46, 55]\\nnum2 = [26, 27, 48]\\nprint(num1 + num2)\\nprint(num1 * 2) \\nnum1.reverse()\\nprint(num1)\\nnum1.sort(key=(lambda x:x%10), reverse=True)\\nprint(num1)', 'num1': [[...]], 'num2': [[...]], '_i36': 'num1 = [1, 1, 1, 2, 7, 11]\\nnum2 = [1, 1, 4]\\nprint(len(num1))\\nprint(num1 < num2)\\nprint(num1.count(1))\\nprint(7 in num1)\\nprint(num1.index(2))', '_i37': 'num1 = [0, (1,), [2, 3]]\\nnum2 = num1.copy()\\nprint(num1, id(num1), id(num1[0]), id(num1[1]), id(num1[2]))\\nprint(num2, id(num2), id(num2[0]), id(num2[1]), id(num2[2]))', '_i38': 'import copy\\nnum1 = [0, (1,), [2, 3]]\\nnum2 = copy.deepcopy(num1)\\nprint(num1, id(num1), id(num1[0]), id(num1[1]), id(num1[2]))\\nprint(num2, id(num2), id(num2[0]), id(num2[1]), id(num2[2]))', 'copy': <module 'copy' from 'c:\\\\Users\\\\pilxy\\\\AppData\\\\Local\\\\Programs\\\\Python\\\\Python39\\\\lib\\\\copy.py'>, '_i39': 'num1 = num1[0] = [0]\\nprint(num1)\\nnum2 = copy.deepcopy(num1)\\nprint(num1, id(num1), id(num1[0]), id(num1[0][0]), id(num1[0][0][0]))\\nprint(num2, id(num2), id(num2[0]), id(num2[0][0]), id(num2[0][0][0]))', '_i40': \"prices = {'Tomatoes': 4.8, 'Potatoes': 3.7, 'Eggs': 5.79, 'Pork': 16.6, \\n          'Beef': 48.8, 'Orange': 7.2, 'Watermelon': 5.9}\\nprint(prices)\\nprices = dict([('Tomatoes', 4.8), ('Potatoes', 3.7), ('Eggs', 5.79), \\n               ('Pork', 16.6), ('Beef', 48.8), ('Orange', 7.2), \\n               ('Watermelon', 5.9)])\\nprint(prices)\", '_i41': \"str_num = {str(i): i for i in range(100)}\\nprint(str_num)\\ntest_dict = dict.fromkeys('Python', 1)\\nprint(test_dict)\", 'str_num': {'87', '86', '17', '65', '21', '75', '46', '98', '93', '68', '74', '7', '79', '58', '30', '53', '38', '77', '2', '24', '16', '72', '44', '25', '49', '18', '27', '80', '6', '4', '0', '54', '76', '34', '26', '97', '23', '89', '63', '52', '85', '9', '28', '43', '96', '40', '88', '64', '94', '20', '48', '3', '31', '56', '37', '59', '91', '71', '60', '22', '42', '83', '47', '55', '10', '73', '39', '50', '13', '19', '69', '84', '14', '61', '33', '95', '12', '41', '92', '45', '66', '90', '1', '67', '15', '29', '82', '5', '11', '36', '78', '99', '32', '8', '51', '62', '81', '35', '70', '57'}, 'test_dict': {'P': 1, 'y': 1, 't': 1, 'h': 1, 'o': 1, 'n': 1}, '_i42': \"prices = dict([('Tomatoes', 4.8), ('Potatoes', 3.7), ('Eggs', 5.79), \\n               ('Pork', 16.6), ('Beef', 48.8), ('Orange', 7.2), \\n               ('Watermelon', 5.9)])\\nprint(prices['Tomatoes'])\\nprint(prices.get('Tomatoes'))\", '_i43': \"prices = dict([('Tomatoes', 4.8), ('Potatoes', 3.7), ('Eggs', 5.79), \\n               ('Pork', 16.6), ('Beef', 48.8), ('Orange', 7.2), \\n               ('Watermelon', 5.9)])\\nprint(prices['Apple'])\", '_i44': \"prices = dict([('Tomatoes', 4.8), ('Potatoes', 3.7), ('Eggs', 5.79), \\n               ('Pork', 16.6), ('Beef', 48.8), ('Orange', 7.2), \\n               ('Watermelon', 5.9)])\\nprint(prices.get('Apple'))\", '_i45': \"prices1 = dict([('Tomatoes', 4.8), ('Potatoes', 3.7), ('Eggs', 5.79), \\n                ('Pork', 16.6), ('Beef', 48.8), ('Orange', 7.2), \\n                ('Watermelon', 5.9)])\\nprices2 = dict([('Cucumber', 4.7), ('Carrots', 3.0), ('Leek', 4.1), \\n                ('Chicken', 10.8), ('Lamb', 39.1),  ('Pear', 5.2), \\n                ('Banana', 4.3)])\\na, *b = prices1\\nprint(b)\\nprices = {*prices1, *prices2}\\nprint(prices)\\nprices = {**prices1, **prices2}\\nprint(prices)\", 'prices1': {'Tomatoes': 4.8, 'Potatoes': 3.7, 'Eggs': 5.79, 'Pork': 16.6, 'Beef': 48.8, 'Orange': 7.2, 'Watermelon': 5.9}, 'prices2': {'Cucumber': 4.7, 'Carrots': 3.0, 'Leek': 4.1, 'Chicken': 10.8, 'Lamb': 39.1, 'Pear': 5.2, 'Banana': 4.3}, '_i46': \"prices = dict([('Tomatoes', 4.8), ('Potatoes', 3.7), ('Eggs', 5.79), \\n               ('Pork', 16.6), ('Beef', 48.8), ('Orange', 7.2), \\n               ('Watermelon', 5.9)])\\n\\nprint(prices.get('Tomatoes'))\\nprices['Tomatoes'] = 4.7\\nprint(prices.get('Tomatoes'))\\nprint()\\n\\nprint(prices.get('Chicken'))\\nprices['Chicken'] = 10.8\\nprint(prices.get('Chicken'))\", '_i47': \"prices = dict([('Tomatoes', 4.8), ('Potatoes', 3.7), ('Eggs', 5.79), \\n               ('Pork', 16.6), ('Beef', 48.8), ('Orange', 7.2), \\n               ('Watermelon', 5.9)])\\n\\nprint(prices.get('Tomatoes'))\\nprices.setdefault('Tomatoes', 4.7)\\nprint(prices.get('Tomatoes'))\\nprint()\\n\\nprint(prices.get('Chicken'))\\nprices.setdefault('Chicken', 10.8)\\nprint(prices.get('Chicken'))\", '_i48': \"prices = dict([('Tomatoes', 4.8), ('Potatoes', 3.7)])\\nprint(prices)\\nprices.update({'Carrot':3.0, 'Leek':4.6})\\nprint(prices)\\nprices |= [('Orange', 7.2),('Apple', 6.9)]\\nprint(prices)\", '_i49': \"prices = dict([('Tomatoes', 4.8), ('Potatoes', 3.7), ('Eggs', 5.79), \\n               ('Pork', 16.6), ('Beef', 48.8), ('Orange', 7.5), \\n               ('Watermelon', 5.9)])\\ndel prices['Tomatoes']\\ndel prices['Potatoes']\\ndel prices['Eggs']\\ndel prices['Pork']\\ndel prices['Beef']\\nprint(prices)\\nprices.__delitem__('Orange')\\nprint(prices)\", '_i50': \"prices = dict([('Tomatoes', 4.8), ('Potatoes', 3.7), ('Eggs', 5.79), \\n               ('Pork', 16.6), ('Beef', 48.8), ('Orange', 7.5), \\n               ('Watermelon', 5.9)])\\nprices['Tomatoes'] = None\\nprices['Potatoes'] = None\\nprices['Eggs'] = None\\nprices['Pork'] = None\\nprices['Beef'] = None\\nprint(prices)\\nprices.clear()\\nprint(prices)\", '_i51': \"prices = dict([('Tomatoes', 4.8), ('Potatoes', 3.7), ('Eggs', 5.79), \\n               ('Pork', 16.6), ('Beef', 48.8), ('Orange', 7.5), \\n               ('Watermelon', 5.9)])\\nprint(len(prices))\\nprint(prices.items())\\nprint(prices.keys())\\nprint(prices.values())\\nprint('Tomatoes' in prices)\\n\\nprint()\\nprint(list(prices.items()))\", '_i52': 'str_num = {0, 1, 2, 3, 4, 5, 6}\\nprint(str_num)\\nstr_num = set(range(100))\\nprint(str_num)\\nstr_num = frozenset(range(100))\\nprint(str_num)\\nstr_num = {str(i) for i in range(100)}\\nprint(str_num)', '_i53': 'def f(x, y):\\n    return x + y\\nprint(f(5, 7))\\ng = f\\nprint()\\n\\ndef f(x, y):\\n    return x * y\\nprint(f(5, 7))\\nprint(g(5, 7))', 'f': <function f at 0x0000027AC67D09D0>, 'g': <function g at 0x0000027AC683E1F0>, '_i54': 'def f(a, b, c):\\n    return a * 100 + b * 10 + c\\n\\nprint(f(3, 4, 5))\\nprint(f(c=3, b=4, a=5))', '_i55': 'def f(a, b, c, /):\\n    return a * 100 + b * 10 + c\\n\\nprint(f(c=3, b=4, a=5))', '_i56': 'def f(*, a, b, c):\\n    return a * 100 + b * 10 + c\\n\\nprint(f(3, 4, 5))', '_i57': 'def f(a, b, c, *args):\\n    num = a * 100 + b * 10 + c\\n    for i in args:\\n        num = num * 10 + i\\n    return num\\n\\nprint(f(1, 3, 7, 2, 5, 4, 3, 9, 6))', '_i58': 'def f(a, b, c, **kwargs):\\n    return kwargs\\n\\nprint(f(1, 2, 3, d=1, e=2))', '_i59': 'def f(a: int, b: int, c: str):\\n    return a * 100 + b * 10 + c\\n\\nprint(f(1, 2, 3))', '_i60': 'num = [1, 2, 3, 4, 5] \\nprint(num[::-1])', '_i61': 'num = [1, 2, 3, 4, 5] \\nprint(num.reverse())\\nprint(num)', '_i62': \"def f(x):\\n    try:\\n        print('before try')\\n        return 'return try'\\n        print('after try')\\n    except:\\n        pass\\n    finally:\\n        print('before finally')\\n        return 'return finally'\\n        print('after finally')\\n\\nprint(f(0))\", '_i63': 'def f(x):\\n    def g(y):\\n        return x <= y\\n    return g\\n\\ngeq3 = f(3)\\n\\nprint(geq3(2))\\nprint(geq3(3))\\nprint(geq3(4))', 'geq3': <function f.<locals>.g at 0x0000027AC687DD30>, '_i64': \"def concat(*funcs):\\n    def _concat_func(arg):\\n        for func in funcs:\\n            arg = func(arg)\\n        return arg\\n    return _concat_func\\n\\nf = concat(sorted, ' > '.join, print)\\n\\nf(['apple', 'orange', 'banana', 'lemon'])\\nf(['Beijing', 'Shanghai', 'Guangzhou', 'Shenzhen'])\", 'concat': <function concat at 0x0000027AC687D670>, '_i65': 'def f(x, y, z):\\n    return x * 100 + y * 10 + z\\n\\ndef curry3(func):\\n    def _func_x(x):\\n        def _func_y(y):\\n            def _func_z(z):\\n                return func(x, y, z)\\n            return _func_z\\n        return _func_y\\n    return _func_x\\n\\nprint(f)\\nxf = curry3(f) \\nprint(xf)\\nyf = xf(3)\\nprint(yf)\\nzf = yf(1) \\nprint(zf)\\nans = zf(5)\\nprint(ans)', 'curry3': <function curry3 at 0x0000027AC687D700>, 'xf': <function curry3.<locals>._func_x at 0x0000027AC68C2550>, 'yf': <function curry3.<locals>._func_x.<locals>._func_y at 0x0000027AC68C2790>, 'zf': <function curry3.<locals>._func_x.<locals>._func_y.<locals>._func_z at 0x0000027AC68C21F0>, 'ans': 6667778889, '_i66': 'def curry(func):\\n    _arg_count = func.__code__.co_argcount\\n    def _get_curry_func(_args):\\n        def _curry_func(arg):\\n            if len(_args) + 1 == _arg_count:\\n                return func(*_args, arg)\\n            else:\\n                return _get_curry_func(_args + [arg])\\n        return _curry_func\\n    return _get_curry_func([])\\n\\ndef f(x0, x1, x2, x3, x4, x5, x6, x7, x8, x9):\\n    return ((((((((x0 * 10 + x1) * 10 + x2) * 10 + x3) * 10 + x4) * \\n               10 + x5) * 10 + x6) * 10 + x7) * 10 + x8) * 10 + x9\\n\\nx0f = curry(f)\\nprint(x0f)\\nx1f = x0f(6)\\nprint(x1f)\\nx2f = x1f(6)\\nprint(x2f)\\nx3f = x2f(6)\\nprint(x3f)\\nx4f = x3f(7)\\nprint(x4f)\\nx5f = x4f(7)\\nprint(x5f)\\nx6f = x5f(7)\\nprint(x6f)\\nx7f = x6f(8)\\nprint(x7f)\\nx8f = x7f(8)\\nprint(x8f)\\nx9f = x8f(8)\\nprint(x9f)\\nans = x9f(9)\\nprint(ans)', 'curry': <function curry at 0x0000027AC68C2AF0>, 'x0f': <function curry.<locals>._get_curry_func.<locals>._curry_func at 0x0000027AC68C2B80>, 'x1f': <function curry.<locals>._get_curry_func.<locals>._curry_func at 0x0000027AC68C2DC0>, 'x2f': <function curry.<locals>._get_curry_func.<locals>._curry_func at 0x0000027AC68C2EE0>, 'x3f': <function curry.<locals>._get_curry_func.<locals>._curry_func at 0x0000027AC68C2E50>, 'x4f': <function curry.<locals>._get_curry_func.<locals>._curry_func at 0x0000027AC68C2F70>, 'x5f': <function curry.<locals>._get_curry_func.<locals>._curry_func at 0x0000027AC68C25E0>, 'x6f': <function curry.<locals>._get_curry_func.<locals>._curry_func at 0x0000027AC68ED040>, 'x7f': <function curry.<locals>._get_curry_func.<locals>._curry_func at 0x0000027AC68ED0D0>, 'x8f': <function curry.<locals>._get_curry_func.<locals>._curry_func at 0x0000027AC68ED160>, 'x9f': <function curry.<locals>._get_curry_func.<locals>._curry_func at 0x0000027AC68ED1F0>, '_i67': 'glb_a = 1', 'glb_a': 2, '_i68': 'print(glb_a)', '_i69': 'def f():\\n    print(glb_a)\\nf()', '_i70': 'def f():\\n    glb_a =2\\n    print(glb_a)\\nf()\\nprint(glb_a)', '_i71': 'def f():\\n    global glb_a\\n    glb_a =2\\n    print(glb_a)\\nf()\\nprint(glb_a)', '_i72': 'def f():\\n    ans = []\\n    def g(y):\\n        if y is None:\\n            return ans\\n        ans.append(y)\\n    return g\\n\\ng = f()\\ng(0)\\ng(1)\\ng(2)\\ng(3)\\ng(4)\\nprint(g(None))', '_i73': 'def f():\\n    ans = []\\n    def g(y):\\n        if y is None:\\n            return ans\\n        ans += [y]\\n    return g\\n\\ng = f()\\ng(0)\\ng(1)\\ng(2)\\ng(3)\\ng(4)\\nprint(g(None))', '_i74': 'def f(a, b, c, *args):\\n    num = a * 100 + b * 10 + c\\n    for i in args:\\n        num = num * 10 + i\\n    return num\\n\\nprint(f(1, 3, 7, 2, 5, 4, 3, 9, 6))', '_i75': 'def f():\\n    ans = []\\n    def g(y):\\n        nonlocal ans\\n        if y is None:\\n            return ans\\n        ans += [y]\\n    return g\\n\\ng = f()\\ng(0)\\ng(1)\\ng(2)\\ng(3)\\ng(4)\\nprint(g(None))', '_i76': 'def f(x, y):\\n    return x + y\\n\\ndef g():\\n    global f\\n    def f(x, y):\\n        return x * y\\n    \\nprint(f(5, 7))\\ng()\\nprint(f(5, 7))', '_i77': 'print(globals())'}\n"
     ]
    }
   ],
   "source": [
    "print(globals())"
   ]
  },
  {
   "cell_type": "code",
   "execution_count": 78,
   "metadata": {},
   "outputs": [
    {
     "name": "stdout",
     "output_type": "stream",
     "text": [
      "{'__name__': '__main__', '__doc__': 'Automatically created module for IPython interactive environment', '__package__': None, '__loader__': None, '__spec__': None, '__builtin__': <module 'builtins' (built-in)>, '__builtins__': <module 'builtins' (built-in)>, '_ih': ['', 'num = [1, 2, 3] *3\\nnum\\nprint(id(num[0]), id(num[1]), id(num[2]))\\nprint(id(num[3]), id(num[4]), id(num[5]))', 'help(id)', 'num[3] = 4\\nprint(num)', 'num = [[1, 2, 3]] * 2\\nprint(num)\\nnum[0][0] = 0\\nprint(num)\\nnum[1][0] = 4\\nprint(num)', \"prices = [('Tomatoes', 4.8), ('Potatoes', 3.7), ('Cucumber', 4.7),\\n          ('Carrots', 3.0), ('Leek', 4.1), ('Eggs', 5.79), ('Chicken', 10.8), \\n          ('Pork', 16.6), ('Beef', 48.8), ('Lamb', 39.1), ('Orange', 7.5), \\n          ('Watermelon', 5.9), ('Pear', 5.2), ('Banana', 4.3)]\\nprint(prices)\", 'prices[0][1] = 4.6', 'num = [1, 2, 3] *3\\nnum\\nprint(id(num[0]), id(num[1]), id(num[2]))\\nprint(id(num[3]), id(num[4]), id(num[5]))', 'help(id)', 'num[3] = 4\\nprint(num)', 'num = [[1, 2, 3]] * 2\\nprint(num)\\nnum[0][0] = 0\\nprint(num)\\nnum[1][0] = 4\\nprint(num)', \"prices = [('Tomatoes', 4.8), ('Potatoes', 3.7), ('Cucumber', 4.7),\\n          ('Carrots', 3.0), ('Leek', 4.1), ('Eggs', 5.79), ('Chicken', 10.8), \\n          ('Pork', 16.6), ('Beef', 48.8), ('Lamb', 39.1), ('Orange', 7.5), \\n          ('Watermelon', 5.9), ('Pear', 5.2), ('Banana', 4.3)]\\nprint(prices)\", 'prices[0][1] = 4.6', 'num = [1, 2, 3] *3\\nnum\\nprint(id(num[0]), id(num[1]), id(num[2]))\\nprint(id(num[3]), id(num[4]), id(num[5]))', 'help(id)', 'num[3] = 4\\nprint(num)', 'num = [[1, 2, 3]] * 2\\nprint(num)\\nnum[0][0] = 0\\nprint(num)\\nnum[1][0] = 4\\nprint(num)', \"prices = [('Tomatoes', 4.8), ('Potatoes', 3.7), ('Cucumber', 4.7),\\n          ('Carrots', 3.0), ('Leek', 4.1), ('Eggs', 5.79), ('Chicken', 10.8), \\n          ('Pork', 16.6), ('Beef', 48.8), ('Lamb', 39.1), ('Orange', 7.5), \\n          ('Watermelon', 5.9), ('Pear', 5.2), ('Banana', 4.3)]\\nprint(prices)\", 'prices[0][1] = 4.6', \"eg_list = ['element1', 'element2', 'element3'] \\nprint(eg_list, '\\\\t\\\\t\\\\t', id(eg_list))\\neg_list.append('element_4')\\nprint(eg_list, '\\\\t', id(eg_list))\\nprint()\\n\\neg_dict = {'key_1': 1, 'key_2': 2, 'key_3': 3}\\nprint(eg_dict, '\\\\t\\\\t\\\\t', id(eg_dict))\\neg_dict['element_4'] = 4\\nprint(eg_dict, '\\\\t', id(eg_dict))\\nprint()\\n\\neg_set  = {'element1', 'element2', 'element3'}\\nprint(eg_set , '\\\\t\\\\t\\\\t', id(eg_set ))\\neg_set.add('element_4')\\nprint(eg_set , '\\\\t', id(eg_set ))\", \"eg_int = 10\\nprint(eg_int, id(eg_int))\\neg_int += 2\\nprint(eg_int, id(eg_int))\\nprint()\\n\\neg_tuple = (1, 3, 5, 7)\\nprint(eg_tuple, '\\\\t\\\\t', id(eg_tuple))\\neg_tuple += (9, 11)\\nprint(eg_tuple, '\\\\t', id(eg_tuple))\", \"ch_list = ['a','c','a','c']\\nprint(ch_list)\\n\\nch_list = list('acac')\\nprint(ch_list)\\n\\nch_list = a = [i for i in 'abcabc' if i != 'b']\\nprint(ch_list)\\n\\nch_list = []\\nfor ch in 'abcabc':\\n    if ch != 'b':\\n        ch_list.append(ch)\\nprint(ch_list)\", \"ch_tuple = ('a', 'c', 'a', 'c')\\nprint(ch_tuple)\\n\\nch_tuple = 'a', 'c', 'a', 'c'\\nprint(ch_tuple)\\n\\nch_tuple = tuple('acac')\\nprint(ch_tuple)\\n\\nch_tuple = tuple(['a', 'c', 'a', 'c'])\\nprint(ch_tuple)\", \"ch_generator = (i for i in 'abcabc' if i != 'b')\\nprint(ch_generator)\", \"lv = ['Excellent', 'Good     ', 'Medium   ', 'Pass     ', 'Fail     ']\\nprint('\\\\033[32mlv[ 0] =\\\\033[0m', lv[0])\\nprint('\\\\033[32mlv[ 1] =\\\\033[0m', lv[1])\\nprint('\\\\033[32mlv[ 2] =\\\\033[0m', lv[2])\\nprint('\\\\033[32mlv[ 3] =\\\\033[0m', lv[3])\\nprint('\\\\033[32mlv[ 4] =\\\\033[0m', lv[4])\\nprint()\\n\\nprint('\\\\033[32mlv[-1] =\\\\033[0m', lv[-1])\\nprint('\\\\033[32mlv[-2] =\\\\033[0m', lv[-2])\\nprint('\\\\033[32mlv[-3] =\\\\033[0m', lv[-3])\\nprint('\\\\033[32mlv[-4] =\\\\033[0m', lv[-4])\\nprint('\\\\033[32mlv[-5] =\\\\033[0m', lv[-5])\", \"lv = ['Excellent', 'Good     ', 'Medium   ', 'Pass     ', 'Fail     ']\\nprint('\\\\033[32mlv[  : 3]    =\\\\033[0m', lv[:3])\\nprint('\\\\033[32mlv[-3:  ]    =\\\\033[0m', lv[-3:])\\nprint('\\\\033[32mlv[ 1: 4]    =\\\\033[0m', lv[1:4])\\nprint('\\\\033[32mlv[ 1:-1]    =\\\\033[0m', lv[1:-1])\\nprint('\\\\033[32mlv[  :  ]    =\\\\033[0m', lv[:])\\nprint()\\n\\nprint('\\\\033[32mlv[  :  : 2] =\\\\033[0m', lv[::2])\\nprint('\\\\033[32mlv[ 1:  : 2] =\\\\033[0m', lv[1::2])\\nprint('\\\\033[32mlv[  :  :-1] =\\\\033[0m', lv[::-1])\\nprint('\\\\033[32mlv[ 3: 0:-1] =\\\\033[0m', lv[3:0:-1])\\nprint()\", \"lv = ['Excellent', 'Good     ', 'Medium   ', 'Pass     ', 'Fail     ']\\nprint('\\\\033[32mlv[ 9]    =\\\\033[0m', lv[9])\", \"lv = ['Excellent', 'Good     ', 'Medium   ', 'Pass     ', 'Fail     ']\\nprint('\\\\033[32mlv[ 9]    =\\\\033[0m', lv[9])\", \"lv = ['Excellent', 'Good     ', 'Medium   ', 'Pass     ', 'Fail     ']\\nprint('\\\\033[32mlv[ 2: 9]    =\\\\033[0m', lv[2:9])\\nprint('\\\\033[32mlv[-9:-2]    =\\\\033[0m', lv[-9:-2])\\nprint('\\\\033[32mlv[ 3: 2]    =\\\\033[0m', lv[3:2])\\nprint('\\\\033[32mlv[ 9:  :-1] =\\\\033[0m', lv[9::-1])\", 'a, b, c = 1, 2, 3\\nprint(a, b, c)\\na, b, c = c, a, b\\nprint(a, b, c)', \"s = list('Pthon')\\nprint(s) \\ns.insert(1, 'y')\\nprint(s)\", \"s = list('Pthon')\\nargs = (1, 'y')\\nprint(s) \\ns.insert(*args)\\nprint(s)\", 'a, b = 4, 5 \\neg_tuple = 1, 3 if a > b else 2, 4\\nprint(eg_tuple)\\neg_tuple = (1, 3) if a > b else (2, 4)\\nprint(eg_tuple)', 'num = [1, 2, 3, 4, 5]\\nprint(num)\\nnum.append(6)\\nprint(num)\\nnum.extend([7, 8])\\nprint(num)\\nnum += range(9, 12)\\nprint(num)\\nnum.insert(1, 0)\\nprint(num)', 'num = [1, 2, 3, 4, 5, 4, 3, 2, 1]\\nprint(num)\\nnum.remove(2)\\nprint(num)\\nnum.pop()\\nprint(num)\\nnum.clear()\\nprint(num)', 'num1 = [31, 12, 79, 46, 55]\\nnum2 = [26, 27, 48]\\nprint(num1 + num2)\\nprint(num1 * 2) \\nnum1.reverse()\\nprint(num1)\\nnum1.sort(key=(lambda x:x%10), reverse=True)\\nprint(num1)', 'num1 = [1, 1, 1, 2, 7, 11]\\nnum2 = [1, 1, 4]\\nprint(len(num1))\\nprint(num1 < num2)\\nprint(num1.count(1))\\nprint(7 in num1)\\nprint(num1.index(2))', 'num1 = [0, (1,), [2, 3]]\\nnum2 = num1.copy()\\nprint(num1, id(num1), id(num1[0]), id(num1[1]), id(num1[2]))\\nprint(num2, id(num2), id(num2[0]), id(num2[1]), id(num2[2]))', 'import copy\\nnum1 = [0, (1,), [2, 3]]\\nnum2 = copy.deepcopy(num1)\\nprint(num1, id(num1), id(num1[0]), id(num1[1]), id(num1[2]))\\nprint(num2, id(num2), id(num2[0]), id(num2[1]), id(num2[2]))', 'num1 = num1[0] = [0]\\nprint(num1)\\nnum2 = copy.deepcopy(num1)\\nprint(num1, id(num1), id(num1[0]), id(num1[0][0]), id(num1[0][0][0]))\\nprint(num2, id(num2), id(num2[0]), id(num2[0][0]), id(num2[0][0][0]))', \"prices = {'Tomatoes': 4.8, 'Potatoes': 3.7, 'Eggs': 5.79, 'Pork': 16.6, \\n          'Beef': 48.8, 'Orange': 7.2, 'Watermelon': 5.9}\\nprint(prices)\\nprices = dict([('Tomatoes', 4.8), ('Potatoes', 3.7), ('Eggs', 5.79), \\n               ('Pork', 16.6), ('Beef', 48.8), ('Orange', 7.2), \\n               ('Watermelon', 5.9)])\\nprint(prices)\", \"str_num = {str(i): i for i in range(100)}\\nprint(str_num)\\ntest_dict = dict.fromkeys('Python', 1)\\nprint(test_dict)\", \"prices = dict([('Tomatoes', 4.8), ('Potatoes', 3.7), ('Eggs', 5.79), \\n               ('Pork', 16.6), ('Beef', 48.8), ('Orange', 7.2), \\n               ('Watermelon', 5.9)])\\nprint(prices['Tomatoes'])\\nprint(prices.get('Tomatoes'))\", \"prices = dict([('Tomatoes', 4.8), ('Potatoes', 3.7), ('Eggs', 5.79), \\n               ('Pork', 16.6), ('Beef', 48.8), ('Orange', 7.2), \\n               ('Watermelon', 5.9)])\\nprint(prices['Apple'])\", \"prices = dict([('Tomatoes', 4.8), ('Potatoes', 3.7), ('Eggs', 5.79), \\n               ('Pork', 16.6), ('Beef', 48.8), ('Orange', 7.2), \\n               ('Watermelon', 5.9)])\\nprint(prices.get('Apple'))\", \"prices1 = dict([('Tomatoes', 4.8), ('Potatoes', 3.7), ('Eggs', 5.79), \\n                ('Pork', 16.6), ('Beef', 48.8), ('Orange', 7.2), \\n                ('Watermelon', 5.9)])\\nprices2 = dict([('Cucumber', 4.7), ('Carrots', 3.0), ('Leek', 4.1), \\n                ('Chicken', 10.8), ('Lamb', 39.1),  ('Pear', 5.2), \\n                ('Banana', 4.3)])\\na, *b = prices1\\nprint(b)\\nprices = {*prices1, *prices2}\\nprint(prices)\\nprices = {**prices1, **prices2}\\nprint(prices)\", \"prices = dict([('Tomatoes', 4.8), ('Potatoes', 3.7), ('Eggs', 5.79), \\n               ('Pork', 16.6), ('Beef', 48.8), ('Orange', 7.2), \\n               ('Watermelon', 5.9)])\\n\\nprint(prices.get('Tomatoes'))\\nprices['Tomatoes'] = 4.7\\nprint(prices.get('Tomatoes'))\\nprint()\\n\\nprint(prices.get('Chicken'))\\nprices['Chicken'] = 10.8\\nprint(prices.get('Chicken'))\", \"prices = dict([('Tomatoes', 4.8), ('Potatoes', 3.7), ('Eggs', 5.79), \\n               ('Pork', 16.6), ('Beef', 48.8), ('Orange', 7.2), \\n               ('Watermelon', 5.9)])\\n\\nprint(prices.get('Tomatoes'))\\nprices.setdefault('Tomatoes', 4.7)\\nprint(prices.get('Tomatoes'))\\nprint()\\n\\nprint(prices.get('Chicken'))\\nprices.setdefault('Chicken', 10.8)\\nprint(prices.get('Chicken'))\", \"prices = dict([('Tomatoes', 4.8), ('Potatoes', 3.7)])\\nprint(prices)\\nprices.update({'Carrot':3.0, 'Leek':4.6})\\nprint(prices)\\nprices |= [('Orange', 7.2),('Apple', 6.9)]\\nprint(prices)\", \"prices = dict([('Tomatoes', 4.8), ('Potatoes', 3.7), ('Eggs', 5.79), \\n               ('Pork', 16.6), ('Beef', 48.8), ('Orange', 7.5), \\n               ('Watermelon', 5.9)])\\ndel prices['Tomatoes']\\ndel prices['Potatoes']\\ndel prices['Eggs']\\ndel prices['Pork']\\ndel prices['Beef']\\nprint(prices)\\nprices.__delitem__('Orange')\\nprint(prices)\", \"prices = dict([('Tomatoes', 4.8), ('Potatoes', 3.7), ('Eggs', 5.79), \\n               ('Pork', 16.6), ('Beef', 48.8), ('Orange', 7.5), \\n               ('Watermelon', 5.9)])\\nprices['Tomatoes'] = None\\nprices['Potatoes'] = None\\nprices['Eggs'] = None\\nprices['Pork'] = None\\nprices['Beef'] = None\\nprint(prices)\\nprices.clear()\\nprint(prices)\", \"prices = dict([('Tomatoes', 4.8), ('Potatoes', 3.7), ('Eggs', 5.79), \\n               ('Pork', 16.6), ('Beef', 48.8), ('Orange', 7.5), \\n               ('Watermelon', 5.9)])\\nprint(len(prices))\\nprint(prices.items())\\nprint(prices.keys())\\nprint(prices.values())\\nprint('Tomatoes' in prices)\\n\\nprint()\\nprint(list(prices.items()))\", 'str_num = {0, 1, 2, 3, 4, 5, 6}\\nprint(str_num)\\nstr_num = set(range(100))\\nprint(str_num)\\nstr_num = frozenset(range(100))\\nprint(str_num)\\nstr_num = {str(i) for i in range(100)}\\nprint(str_num)', 'def f(x, y):\\n    return x + y\\nprint(f(5, 7))\\ng = f\\nprint()\\n\\ndef f(x, y):\\n    return x * y\\nprint(f(5, 7))\\nprint(g(5, 7))', 'def f(a, b, c):\\n    return a * 100 + b * 10 + c\\n\\nprint(f(3, 4, 5))\\nprint(f(c=3, b=4, a=5))', 'def f(a, b, c, /):\\n    return a * 100 + b * 10 + c\\n\\nprint(f(c=3, b=4, a=5))', 'def f(*, a, b, c):\\n    return a * 100 + b * 10 + c\\n\\nprint(f(3, 4, 5))', 'def f(a, b, c, *args):\\n    num = a * 100 + b * 10 + c\\n    for i in args:\\n        num = num * 10 + i\\n    return num\\n\\nprint(f(1, 3, 7, 2, 5, 4, 3, 9, 6))', 'def f(a, b, c, **kwargs):\\n    return kwargs\\n\\nprint(f(1, 2, 3, d=1, e=2))', 'def f(a: int, b: int, c: str):\\n    return a * 100 + b * 10 + c\\n\\nprint(f(1, 2, 3))', 'num = [1, 2, 3, 4, 5] \\nprint(num[::-1])', 'num = [1, 2, 3, 4, 5] \\nprint(num.reverse())\\nprint(num)', \"def f(x):\\n    try:\\n        print('before try')\\n        return 'return try'\\n        print('after try')\\n    except:\\n        pass\\n    finally:\\n        print('before finally')\\n        return 'return finally'\\n        print('after finally')\\n\\nprint(f(0))\", 'def f(x):\\n    def g(y):\\n        return x <= y\\n    return g\\n\\ngeq3 = f(3)\\n\\nprint(geq3(2))\\nprint(geq3(3))\\nprint(geq3(4))', \"def concat(*funcs):\\n    def _concat_func(arg):\\n        for func in funcs:\\n            arg = func(arg)\\n        return arg\\n    return _concat_func\\n\\nf = concat(sorted, ' > '.join, print)\\n\\nf(['apple', 'orange', 'banana', 'lemon'])\\nf(['Beijing', 'Shanghai', 'Guangzhou', 'Shenzhen'])\", 'def f(x, y, z):\\n    return x * 100 + y * 10 + z\\n\\ndef curry3(func):\\n    def _func_x(x):\\n        def _func_y(y):\\n            def _func_z(z):\\n                return func(x, y, z)\\n            return _func_z\\n        return _func_y\\n    return _func_x\\n\\nprint(f)\\nxf = curry3(f) \\nprint(xf)\\nyf = xf(3)\\nprint(yf)\\nzf = yf(1) \\nprint(zf)\\nans = zf(5)\\nprint(ans)', 'def curry(func):\\n    _arg_count = func.__code__.co_argcount\\n    def _get_curry_func(_args):\\n        def _curry_func(arg):\\n            if len(_args) + 1 == _arg_count:\\n                return func(*_args, arg)\\n            else:\\n                return _get_curry_func(_args + [arg])\\n        return _curry_func\\n    return _get_curry_func([])\\n\\ndef f(x0, x1, x2, x3, x4, x5, x6, x7, x8, x9):\\n    return ((((((((x0 * 10 + x1) * 10 + x2) * 10 + x3) * 10 + x4) * \\n               10 + x5) * 10 + x6) * 10 + x7) * 10 + x8) * 10 + x9\\n\\nx0f = curry(f)\\nprint(x0f)\\nx1f = x0f(6)\\nprint(x1f)\\nx2f = x1f(6)\\nprint(x2f)\\nx3f = x2f(6)\\nprint(x3f)\\nx4f = x3f(7)\\nprint(x4f)\\nx5f = x4f(7)\\nprint(x5f)\\nx6f = x5f(7)\\nprint(x6f)\\nx7f = x6f(8)\\nprint(x7f)\\nx8f = x7f(8)\\nprint(x8f)\\nx9f = x8f(8)\\nprint(x9f)\\nans = x9f(9)\\nprint(ans)', 'glb_a = 1', 'print(glb_a)', 'def f():\\n    print(glb_a)\\nf()', 'def f():\\n    glb_a =2\\n    print(glb_a)\\nf()\\nprint(glb_a)', 'def f():\\n    global glb_a\\n    glb_a =2\\n    print(glb_a)\\nf()\\nprint(glb_a)', 'def f():\\n    ans = []\\n    def g(y):\\n        if y is None:\\n            return ans\\n        ans.append(y)\\n    return g\\n\\ng = f()\\ng(0)\\ng(1)\\ng(2)\\ng(3)\\ng(4)\\nprint(g(None))', 'def f():\\n    ans = []\\n    def g(y):\\n        if y is None:\\n            return ans\\n        ans += [y]\\n    return g\\n\\ng = f()\\ng(0)\\ng(1)\\ng(2)\\ng(3)\\ng(4)\\nprint(g(None))', 'def f(a, b, c, *args):\\n    num = a * 100 + b * 10 + c\\n    for i in args:\\n        num = num * 10 + i\\n    return num\\n\\nprint(f(1, 3, 7, 2, 5, 4, 3, 9, 6))', 'def f():\\n    ans = []\\n    def g(y):\\n        nonlocal ans\\n        if y is None:\\n            return ans\\n        ans += [y]\\n    return g\\n\\ng = f()\\ng(0)\\ng(1)\\ng(2)\\ng(3)\\ng(4)\\nprint(g(None))', 'def f(x, y):\\n    return x + y\\n\\ndef g():\\n    global f\\n    def f(x, y):\\n        return x * y\\n    \\nprint(f(5, 7))\\ng()\\nprint(f(5, 7))', 'print(globals())', 'print(locals())\\ndef f(x):\\n    a = 1\\n    b = 2\\n    def g():\\n        pass\\n    print(locals())\\nf(x=0)'], '_oh': {}, '_dh': [WindowsPath('d:/学习资料/2022-2023 下学期/python'), WindowsPath('d:/学习资料/2022-2023 下学期/python')], 'In': ['', 'num = [1, 2, 3] *3\\nnum\\nprint(id(num[0]), id(num[1]), id(num[2]))\\nprint(id(num[3]), id(num[4]), id(num[5]))', 'help(id)', 'num[3] = 4\\nprint(num)', 'num = [[1, 2, 3]] * 2\\nprint(num)\\nnum[0][0] = 0\\nprint(num)\\nnum[1][0] = 4\\nprint(num)', \"prices = [('Tomatoes', 4.8), ('Potatoes', 3.7), ('Cucumber', 4.7),\\n          ('Carrots', 3.0), ('Leek', 4.1), ('Eggs', 5.79), ('Chicken', 10.8), \\n          ('Pork', 16.6), ('Beef', 48.8), ('Lamb', 39.1), ('Orange', 7.5), \\n          ('Watermelon', 5.9), ('Pear', 5.2), ('Banana', 4.3)]\\nprint(prices)\", 'prices[0][1] = 4.6', 'num = [1, 2, 3] *3\\nnum\\nprint(id(num[0]), id(num[1]), id(num[2]))\\nprint(id(num[3]), id(num[4]), id(num[5]))', 'help(id)', 'num[3] = 4\\nprint(num)', 'num = [[1, 2, 3]] * 2\\nprint(num)\\nnum[0][0] = 0\\nprint(num)\\nnum[1][0] = 4\\nprint(num)', \"prices = [('Tomatoes', 4.8), ('Potatoes', 3.7), ('Cucumber', 4.7),\\n          ('Carrots', 3.0), ('Leek', 4.1), ('Eggs', 5.79), ('Chicken', 10.8), \\n          ('Pork', 16.6), ('Beef', 48.8), ('Lamb', 39.1), ('Orange', 7.5), \\n          ('Watermelon', 5.9), ('Pear', 5.2), ('Banana', 4.3)]\\nprint(prices)\", 'prices[0][1] = 4.6', 'num = [1, 2, 3] *3\\nnum\\nprint(id(num[0]), id(num[1]), id(num[2]))\\nprint(id(num[3]), id(num[4]), id(num[5]))', 'help(id)', 'num[3] = 4\\nprint(num)', 'num = [[1, 2, 3]] * 2\\nprint(num)\\nnum[0][0] = 0\\nprint(num)\\nnum[1][0] = 4\\nprint(num)', \"prices = [('Tomatoes', 4.8), ('Potatoes', 3.7), ('Cucumber', 4.7),\\n          ('Carrots', 3.0), ('Leek', 4.1), ('Eggs', 5.79), ('Chicken', 10.8), \\n          ('Pork', 16.6), ('Beef', 48.8), ('Lamb', 39.1), ('Orange', 7.5), \\n          ('Watermelon', 5.9), ('Pear', 5.2), ('Banana', 4.3)]\\nprint(prices)\", 'prices[0][1] = 4.6', \"eg_list = ['element1', 'element2', 'element3'] \\nprint(eg_list, '\\\\t\\\\t\\\\t', id(eg_list))\\neg_list.append('element_4')\\nprint(eg_list, '\\\\t', id(eg_list))\\nprint()\\n\\neg_dict = {'key_1': 1, 'key_2': 2, 'key_3': 3}\\nprint(eg_dict, '\\\\t\\\\t\\\\t', id(eg_dict))\\neg_dict['element_4'] = 4\\nprint(eg_dict, '\\\\t', id(eg_dict))\\nprint()\\n\\neg_set  = {'element1', 'element2', 'element3'}\\nprint(eg_set , '\\\\t\\\\t\\\\t', id(eg_set ))\\neg_set.add('element_4')\\nprint(eg_set , '\\\\t', id(eg_set ))\", \"eg_int = 10\\nprint(eg_int, id(eg_int))\\neg_int += 2\\nprint(eg_int, id(eg_int))\\nprint()\\n\\neg_tuple = (1, 3, 5, 7)\\nprint(eg_tuple, '\\\\t\\\\t', id(eg_tuple))\\neg_tuple += (9, 11)\\nprint(eg_tuple, '\\\\t', id(eg_tuple))\", \"ch_list = ['a','c','a','c']\\nprint(ch_list)\\n\\nch_list = list('acac')\\nprint(ch_list)\\n\\nch_list = a = [i for i in 'abcabc' if i != 'b']\\nprint(ch_list)\\n\\nch_list = []\\nfor ch in 'abcabc':\\n    if ch != 'b':\\n        ch_list.append(ch)\\nprint(ch_list)\", \"ch_tuple = ('a', 'c', 'a', 'c')\\nprint(ch_tuple)\\n\\nch_tuple = 'a', 'c', 'a', 'c'\\nprint(ch_tuple)\\n\\nch_tuple = tuple('acac')\\nprint(ch_tuple)\\n\\nch_tuple = tuple(['a', 'c', 'a', 'c'])\\nprint(ch_tuple)\", \"ch_generator = (i for i in 'abcabc' if i != 'b')\\nprint(ch_generator)\", \"lv = ['Excellent', 'Good     ', 'Medium   ', 'Pass     ', 'Fail     ']\\nprint('\\\\033[32mlv[ 0] =\\\\033[0m', lv[0])\\nprint('\\\\033[32mlv[ 1] =\\\\033[0m', lv[1])\\nprint('\\\\033[32mlv[ 2] =\\\\033[0m', lv[2])\\nprint('\\\\033[32mlv[ 3] =\\\\033[0m', lv[3])\\nprint('\\\\033[32mlv[ 4] =\\\\033[0m', lv[4])\\nprint()\\n\\nprint('\\\\033[32mlv[-1] =\\\\033[0m', lv[-1])\\nprint('\\\\033[32mlv[-2] =\\\\033[0m', lv[-2])\\nprint('\\\\033[32mlv[-3] =\\\\033[0m', lv[-3])\\nprint('\\\\033[32mlv[-4] =\\\\033[0m', lv[-4])\\nprint('\\\\033[32mlv[-5] =\\\\033[0m', lv[-5])\", \"lv = ['Excellent', 'Good     ', 'Medium   ', 'Pass     ', 'Fail     ']\\nprint('\\\\033[32mlv[  : 3]    =\\\\033[0m', lv[:3])\\nprint('\\\\033[32mlv[-3:  ]    =\\\\033[0m', lv[-3:])\\nprint('\\\\033[32mlv[ 1: 4]    =\\\\033[0m', lv[1:4])\\nprint('\\\\033[32mlv[ 1:-1]    =\\\\033[0m', lv[1:-1])\\nprint('\\\\033[32mlv[  :  ]    =\\\\033[0m', lv[:])\\nprint()\\n\\nprint('\\\\033[32mlv[  :  : 2] =\\\\033[0m', lv[::2])\\nprint('\\\\033[32mlv[ 1:  : 2] =\\\\033[0m', lv[1::2])\\nprint('\\\\033[32mlv[  :  :-1] =\\\\033[0m', lv[::-1])\\nprint('\\\\033[32mlv[ 3: 0:-1] =\\\\033[0m', lv[3:0:-1])\\nprint()\", \"lv = ['Excellent', 'Good     ', 'Medium   ', 'Pass     ', 'Fail     ']\\nprint('\\\\033[32mlv[ 9]    =\\\\033[0m', lv[9])\", \"lv = ['Excellent', 'Good     ', 'Medium   ', 'Pass     ', 'Fail     ']\\nprint('\\\\033[32mlv[ 9]    =\\\\033[0m', lv[9])\", \"lv = ['Excellent', 'Good     ', 'Medium   ', 'Pass     ', 'Fail     ']\\nprint('\\\\033[32mlv[ 2: 9]    =\\\\033[0m', lv[2:9])\\nprint('\\\\033[32mlv[-9:-2]    =\\\\033[0m', lv[-9:-2])\\nprint('\\\\033[32mlv[ 3: 2]    =\\\\033[0m', lv[3:2])\\nprint('\\\\033[32mlv[ 9:  :-1] =\\\\033[0m', lv[9::-1])\", 'a, b, c = 1, 2, 3\\nprint(a, b, c)\\na, b, c = c, a, b\\nprint(a, b, c)', \"s = list('Pthon')\\nprint(s) \\ns.insert(1, 'y')\\nprint(s)\", \"s = list('Pthon')\\nargs = (1, 'y')\\nprint(s) \\ns.insert(*args)\\nprint(s)\", 'a, b = 4, 5 \\neg_tuple = 1, 3 if a > b else 2, 4\\nprint(eg_tuple)\\neg_tuple = (1, 3) if a > b else (2, 4)\\nprint(eg_tuple)', 'num = [1, 2, 3, 4, 5]\\nprint(num)\\nnum.append(6)\\nprint(num)\\nnum.extend([7, 8])\\nprint(num)\\nnum += range(9, 12)\\nprint(num)\\nnum.insert(1, 0)\\nprint(num)', 'num = [1, 2, 3, 4, 5, 4, 3, 2, 1]\\nprint(num)\\nnum.remove(2)\\nprint(num)\\nnum.pop()\\nprint(num)\\nnum.clear()\\nprint(num)', 'num1 = [31, 12, 79, 46, 55]\\nnum2 = [26, 27, 48]\\nprint(num1 + num2)\\nprint(num1 * 2) \\nnum1.reverse()\\nprint(num1)\\nnum1.sort(key=(lambda x:x%10), reverse=True)\\nprint(num1)', 'num1 = [1, 1, 1, 2, 7, 11]\\nnum2 = [1, 1, 4]\\nprint(len(num1))\\nprint(num1 < num2)\\nprint(num1.count(1))\\nprint(7 in num1)\\nprint(num1.index(2))', 'num1 = [0, (1,), [2, 3]]\\nnum2 = num1.copy()\\nprint(num1, id(num1), id(num1[0]), id(num1[1]), id(num1[2]))\\nprint(num2, id(num2), id(num2[0]), id(num2[1]), id(num2[2]))', 'import copy\\nnum1 = [0, (1,), [2, 3]]\\nnum2 = copy.deepcopy(num1)\\nprint(num1, id(num1), id(num1[0]), id(num1[1]), id(num1[2]))\\nprint(num2, id(num2), id(num2[0]), id(num2[1]), id(num2[2]))', 'num1 = num1[0] = [0]\\nprint(num1)\\nnum2 = copy.deepcopy(num1)\\nprint(num1, id(num1), id(num1[0]), id(num1[0][0]), id(num1[0][0][0]))\\nprint(num2, id(num2), id(num2[0]), id(num2[0][0]), id(num2[0][0][0]))', \"prices = {'Tomatoes': 4.8, 'Potatoes': 3.7, 'Eggs': 5.79, 'Pork': 16.6, \\n          'Beef': 48.8, 'Orange': 7.2, 'Watermelon': 5.9}\\nprint(prices)\\nprices = dict([('Tomatoes', 4.8), ('Potatoes', 3.7), ('Eggs', 5.79), \\n               ('Pork', 16.6), ('Beef', 48.8), ('Orange', 7.2), \\n               ('Watermelon', 5.9)])\\nprint(prices)\", \"str_num = {str(i): i for i in range(100)}\\nprint(str_num)\\ntest_dict = dict.fromkeys('Python', 1)\\nprint(test_dict)\", \"prices = dict([('Tomatoes', 4.8), ('Potatoes', 3.7), ('Eggs', 5.79), \\n               ('Pork', 16.6), ('Beef', 48.8), ('Orange', 7.2), \\n               ('Watermelon', 5.9)])\\nprint(prices['Tomatoes'])\\nprint(prices.get('Tomatoes'))\", \"prices = dict([('Tomatoes', 4.8), ('Potatoes', 3.7), ('Eggs', 5.79), \\n               ('Pork', 16.6), ('Beef', 48.8), ('Orange', 7.2), \\n               ('Watermelon', 5.9)])\\nprint(prices['Apple'])\", \"prices = dict([('Tomatoes', 4.8), ('Potatoes', 3.7), ('Eggs', 5.79), \\n               ('Pork', 16.6), ('Beef', 48.8), ('Orange', 7.2), \\n               ('Watermelon', 5.9)])\\nprint(prices.get('Apple'))\", \"prices1 = dict([('Tomatoes', 4.8), ('Potatoes', 3.7), ('Eggs', 5.79), \\n                ('Pork', 16.6), ('Beef', 48.8), ('Orange', 7.2), \\n                ('Watermelon', 5.9)])\\nprices2 = dict([('Cucumber', 4.7), ('Carrots', 3.0), ('Leek', 4.1), \\n                ('Chicken', 10.8), ('Lamb', 39.1),  ('Pear', 5.2), \\n                ('Banana', 4.3)])\\na, *b = prices1\\nprint(b)\\nprices = {*prices1, *prices2}\\nprint(prices)\\nprices = {**prices1, **prices2}\\nprint(prices)\", \"prices = dict([('Tomatoes', 4.8), ('Potatoes', 3.7), ('Eggs', 5.79), \\n               ('Pork', 16.6), ('Beef', 48.8), ('Orange', 7.2), \\n               ('Watermelon', 5.9)])\\n\\nprint(prices.get('Tomatoes'))\\nprices['Tomatoes'] = 4.7\\nprint(prices.get('Tomatoes'))\\nprint()\\n\\nprint(prices.get('Chicken'))\\nprices['Chicken'] = 10.8\\nprint(prices.get('Chicken'))\", \"prices = dict([('Tomatoes', 4.8), ('Potatoes', 3.7), ('Eggs', 5.79), \\n               ('Pork', 16.6), ('Beef', 48.8), ('Orange', 7.2), \\n               ('Watermelon', 5.9)])\\n\\nprint(prices.get('Tomatoes'))\\nprices.setdefault('Tomatoes', 4.7)\\nprint(prices.get('Tomatoes'))\\nprint()\\n\\nprint(prices.get('Chicken'))\\nprices.setdefault('Chicken', 10.8)\\nprint(prices.get('Chicken'))\", \"prices = dict([('Tomatoes', 4.8), ('Potatoes', 3.7)])\\nprint(prices)\\nprices.update({'Carrot':3.0, 'Leek':4.6})\\nprint(prices)\\nprices |= [('Orange', 7.2),('Apple', 6.9)]\\nprint(prices)\", \"prices = dict([('Tomatoes', 4.8), ('Potatoes', 3.7), ('Eggs', 5.79), \\n               ('Pork', 16.6), ('Beef', 48.8), ('Orange', 7.5), \\n               ('Watermelon', 5.9)])\\ndel prices['Tomatoes']\\ndel prices['Potatoes']\\ndel prices['Eggs']\\ndel prices['Pork']\\ndel prices['Beef']\\nprint(prices)\\nprices.__delitem__('Orange')\\nprint(prices)\", \"prices = dict([('Tomatoes', 4.8), ('Potatoes', 3.7), ('Eggs', 5.79), \\n               ('Pork', 16.6), ('Beef', 48.8), ('Orange', 7.5), \\n               ('Watermelon', 5.9)])\\nprices['Tomatoes'] = None\\nprices['Potatoes'] = None\\nprices['Eggs'] = None\\nprices['Pork'] = None\\nprices['Beef'] = None\\nprint(prices)\\nprices.clear()\\nprint(prices)\", \"prices = dict([('Tomatoes', 4.8), ('Potatoes', 3.7), ('Eggs', 5.79), \\n               ('Pork', 16.6), ('Beef', 48.8), ('Orange', 7.5), \\n               ('Watermelon', 5.9)])\\nprint(len(prices))\\nprint(prices.items())\\nprint(prices.keys())\\nprint(prices.values())\\nprint('Tomatoes' in prices)\\n\\nprint()\\nprint(list(prices.items()))\", 'str_num = {0, 1, 2, 3, 4, 5, 6}\\nprint(str_num)\\nstr_num = set(range(100))\\nprint(str_num)\\nstr_num = frozenset(range(100))\\nprint(str_num)\\nstr_num = {str(i) for i in range(100)}\\nprint(str_num)', 'def f(x, y):\\n    return x + y\\nprint(f(5, 7))\\ng = f\\nprint()\\n\\ndef f(x, y):\\n    return x * y\\nprint(f(5, 7))\\nprint(g(5, 7))', 'def f(a, b, c):\\n    return a * 100 + b * 10 + c\\n\\nprint(f(3, 4, 5))\\nprint(f(c=3, b=4, a=5))', 'def f(a, b, c, /):\\n    return a * 100 + b * 10 + c\\n\\nprint(f(c=3, b=4, a=5))', 'def f(*, a, b, c):\\n    return a * 100 + b * 10 + c\\n\\nprint(f(3, 4, 5))', 'def f(a, b, c, *args):\\n    num = a * 100 + b * 10 + c\\n    for i in args:\\n        num = num * 10 + i\\n    return num\\n\\nprint(f(1, 3, 7, 2, 5, 4, 3, 9, 6))', 'def f(a, b, c, **kwargs):\\n    return kwargs\\n\\nprint(f(1, 2, 3, d=1, e=2))', 'def f(a: int, b: int, c: str):\\n    return a * 100 + b * 10 + c\\n\\nprint(f(1, 2, 3))', 'num = [1, 2, 3, 4, 5] \\nprint(num[::-1])', 'num = [1, 2, 3, 4, 5] \\nprint(num.reverse())\\nprint(num)', \"def f(x):\\n    try:\\n        print('before try')\\n        return 'return try'\\n        print('after try')\\n    except:\\n        pass\\n    finally:\\n        print('before finally')\\n        return 'return finally'\\n        print('after finally')\\n\\nprint(f(0))\", 'def f(x):\\n    def g(y):\\n        return x <= y\\n    return g\\n\\ngeq3 = f(3)\\n\\nprint(geq3(2))\\nprint(geq3(3))\\nprint(geq3(4))', \"def concat(*funcs):\\n    def _concat_func(arg):\\n        for func in funcs:\\n            arg = func(arg)\\n        return arg\\n    return _concat_func\\n\\nf = concat(sorted, ' > '.join, print)\\n\\nf(['apple', 'orange', 'banana', 'lemon'])\\nf(['Beijing', 'Shanghai', 'Guangzhou', 'Shenzhen'])\", 'def f(x, y, z):\\n    return x * 100 + y * 10 + z\\n\\ndef curry3(func):\\n    def _func_x(x):\\n        def _func_y(y):\\n            def _func_z(z):\\n                return func(x, y, z)\\n            return _func_z\\n        return _func_y\\n    return _func_x\\n\\nprint(f)\\nxf = curry3(f) \\nprint(xf)\\nyf = xf(3)\\nprint(yf)\\nzf = yf(1) \\nprint(zf)\\nans = zf(5)\\nprint(ans)', 'def curry(func):\\n    _arg_count = func.__code__.co_argcount\\n    def _get_curry_func(_args):\\n        def _curry_func(arg):\\n            if len(_args) + 1 == _arg_count:\\n                return func(*_args, arg)\\n            else:\\n                return _get_curry_func(_args + [arg])\\n        return _curry_func\\n    return _get_curry_func([])\\n\\ndef f(x0, x1, x2, x3, x4, x5, x6, x7, x8, x9):\\n    return ((((((((x0 * 10 + x1) * 10 + x2) * 10 + x3) * 10 + x4) * \\n               10 + x5) * 10 + x6) * 10 + x7) * 10 + x8) * 10 + x9\\n\\nx0f = curry(f)\\nprint(x0f)\\nx1f = x0f(6)\\nprint(x1f)\\nx2f = x1f(6)\\nprint(x2f)\\nx3f = x2f(6)\\nprint(x3f)\\nx4f = x3f(7)\\nprint(x4f)\\nx5f = x4f(7)\\nprint(x5f)\\nx6f = x5f(7)\\nprint(x6f)\\nx7f = x6f(8)\\nprint(x7f)\\nx8f = x7f(8)\\nprint(x8f)\\nx9f = x8f(8)\\nprint(x9f)\\nans = x9f(9)\\nprint(ans)', 'glb_a = 1', 'print(glb_a)', 'def f():\\n    print(glb_a)\\nf()', 'def f():\\n    glb_a =2\\n    print(glb_a)\\nf()\\nprint(glb_a)', 'def f():\\n    global glb_a\\n    glb_a =2\\n    print(glb_a)\\nf()\\nprint(glb_a)', 'def f():\\n    ans = []\\n    def g(y):\\n        if y is None:\\n            return ans\\n        ans.append(y)\\n    return g\\n\\ng = f()\\ng(0)\\ng(1)\\ng(2)\\ng(3)\\ng(4)\\nprint(g(None))', 'def f():\\n    ans = []\\n    def g(y):\\n        if y is None:\\n            return ans\\n        ans += [y]\\n    return g\\n\\ng = f()\\ng(0)\\ng(1)\\ng(2)\\ng(3)\\ng(4)\\nprint(g(None))', 'def f(a, b, c, *args):\\n    num = a * 100 + b * 10 + c\\n    for i in args:\\n        num = num * 10 + i\\n    return num\\n\\nprint(f(1, 3, 7, 2, 5, 4, 3, 9, 6))', 'def f():\\n    ans = []\\n    def g(y):\\n        nonlocal ans\\n        if y is None:\\n            return ans\\n        ans += [y]\\n    return g\\n\\ng = f()\\ng(0)\\ng(1)\\ng(2)\\ng(3)\\ng(4)\\nprint(g(None))', 'def f(x, y):\\n    return x + y\\n\\ndef g():\\n    global f\\n    def f(x, y):\\n        return x * y\\n    \\nprint(f(5, 7))\\ng()\\nprint(f(5, 7))', 'print(globals())', 'print(locals())\\ndef f(x):\\n    a = 1\\n    b = 2\\n    def g():\\n        pass\\n    print(locals())\\nf(x=0)'], 'Out': {}, 'get_ipython': <bound method InteractiveShell.get_ipython of <ipykernel.zmqshell.ZMQInteractiveShell object at 0x0000027AC51FB160>>, 'exit': <IPython.core.autocall.ZMQExitAutocall object at 0x0000027AC51FB880>, 'quit': <IPython.core.autocall.ZMQExitAutocall object at 0x0000027AC51FB880>, 'open': <function open at 0x0000027AC38A8A60>, '_': '', '__': '', '___': '', '__vsc_ipynb_file__': 'd:\\\\学习资料\\\\2022-2023 下学期\\\\python\\\\test.ipynb', '_i': 'print(globals())', '_ii': 'def f(x, y):\\n    return x + y\\n\\ndef g():\\n    global f\\n    def f(x, y):\\n        return x * y\\n    \\nprint(f(5, 7))\\ng()\\nprint(f(5, 7))', '_iii': 'def f():\\n    ans = []\\n    def g(y):\\n        nonlocal ans\\n        if y is None:\\n            return ans\\n        ans += [y]\\n    return g\\n\\ng = f()\\ng(0)\\ng(1)\\ng(2)\\ng(3)\\ng(4)\\nprint(g(None))', '_i1': 'num = [1, 2, 3] *3\\nnum\\nprint(id(num[0]), id(num[1]), id(num[2]))\\nprint(id(num[3]), id(num[4]), id(num[5]))', 'num': [5, 4, 3, 2, 1], '_i2': 'help(id)', '_i3': 'num[3] = 4\\nprint(num)', '_i4': 'num = [[1, 2, 3]] * 2\\nprint(num)\\nnum[0][0] = 0\\nprint(num)\\nnum[1][0] = 4\\nprint(num)', '_i5': \"prices = [('Tomatoes', 4.8), ('Potatoes', 3.7), ('Cucumber', 4.7),\\n          ('Carrots', 3.0), ('Leek', 4.1), ('Eggs', 5.79), ('Chicken', 10.8), \\n          ('Pork', 16.6), ('Beef', 48.8), ('Lamb', 39.1), ('Orange', 7.5), \\n          ('Watermelon', 5.9), ('Pear', 5.2), ('Banana', 4.3)]\\nprint(prices)\", 'prices': {'Tomatoes': 4.8, 'Potatoes': 3.7, 'Eggs': 5.79, 'Pork': 16.6, 'Beef': 48.8, 'Orange': 7.5, 'Watermelon': 5.9}, '_i6': 'prices[0][1] = 4.6', '_i7': 'num = [1, 2, 3] *3\\nnum\\nprint(id(num[0]), id(num[1]), id(num[2]))\\nprint(id(num[3]), id(num[4]), id(num[5]))', '_i8': 'help(id)', '_i9': 'num[3] = 4\\nprint(num)', '_i10': 'num = [[1, 2, 3]] * 2\\nprint(num)\\nnum[0][0] = 0\\nprint(num)\\nnum[1][0] = 4\\nprint(num)', '_i11': \"prices = [('Tomatoes', 4.8), ('Potatoes', 3.7), ('Cucumber', 4.7),\\n          ('Carrots', 3.0), ('Leek', 4.1), ('Eggs', 5.79), ('Chicken', 10.8), \\n          ('Pork', 16.6), ('Beef', 48.8), ('Lamb', 39.1), ('Orange', 7.5), \\n          ('Watermelon', 5.9), ('Pear', 5.2), ('Banana', 4.3)]\\nprint(prices)\", '_i12': 'prices[0][1] = 4.6', '_i13': 'num = [1, 2, 3] *3\\nnum\\nprint(id(num[0]), id(num[1]), id(num[2]))\\nprint(id(num[3]), id(num[4]), id(num[5]))', '_i14': 'help(id)', '_i15': 'num[3] = 4\\nprint(num)', '_i16': 'num = [[1, 2, 3]] * 2\\nprint(num)\\nnum[0][0] = 0\\nprint(num)\\nnum[1][0] = 4\\nprint(num)', '_i17': \"prices = [('Tomatoes', 4.8), ('Potatoes', 3.7), ('Cucumber', 4.7),\\n          ('Carrots', 3.0), ('Leek', 4.1), ('Eggs', 5.79), ('Chicken', 10.8), \\n          ('Pork', 16.6), ('Beef', 48.8), ('Lamb', 39.1), ('Orange', 7.5), \\n          ('Watermelon', 5.9), ('Pear', 5.2), ('Banana', 4.3)]\\nprint(prices)\", '_i18': 'prices[0][1] = 4.6', '_i19': \"eg_list = ['element1', 'element2', 'element3'] \\nprint(eg_list, '\\\\t\\\\t\\\\t', id(eg_list))\\neg_list.append('element_4')\\nprint(eg_list, '\\\\t', id(eg_list))\\nprint()\\n\\neg_dict = {'key_1': 1, 'key_2': 2, 'key_3': 3}\\nprint(eg_dict, '\\\\t\\\\t\\\\t', id(eg_dict))\\neg_dict['element_4'] = 4\\nprint(eg_dict, '\\\\t', id(eg_dict))\\nprint()\\n\\neg_set  = {'element1', 'element2', 'element3'}\\nprint(eg_set , '\\\\t\\\\t\\\\t', id(eg_set ))\\neg_set.add('element_4')\\nprint(eg_set , '\\\\t', id(eg_set ))\", 'eg_list': ['element1', 'element2', 'element3', 'element_4'], 'eg_dict': {'key_1': 1, 'key_2': 2, 'key_3': 3, 'element_4': 4}, 'eg_set': {'element1', 'element3', 'element2', 'element_4'}, '_i20': \"eg_int = 10\\nprint(eg_int, id(eg_int))\\neg_int += 2\\nprint(eg_int, id(eg_int))\\nprint()\\n\\neg_tuple = (1, 3, 5, 7)\\nprint(eg_tuple, '\\\\t\\\\t', id(eg_tuple))\\neg_tuple += (9, 11)\\nprint(eg_tuple, '\\\\t', id(eg_tuple))\", 'eg_int': 12, 'eg_tuple': (2, 4), '_i21': \"ch_list = ['a','c','a','c']\\nprint(ch_list)\\n\\nch_list = list('acac')\\nprint(ch_list)\\n\\nch_list = a = [i for i in 'abcabc' if i != 'b']\\nprint(ch_list)\\n\\nch_list = []\\nfor ch in 'abcabc':\\n    if ch != 'b':\\n        ch_list.append(ch)\\nprint(ch_list)\", 'ch_list': ['a', 'c', 'a', 'c'], 'a': 'Tomatoes', 'ch': 'c', '_i22': \"ch_tuple = ('a', 'c', 'a', 'c')\\nprint(ch_tuple)\\n\\nch_tuple = 'a', 'c', 'a', 'c'\\nprint(ch_tuple)\\n\\nch_tuple = tuple('acac')\\nprint(ch_tuple)\\n\\nch_tuple = tuple(['a', 'c', 'a', 'c'])\\nprint(ch_tuple)\", 'ch_tuple': ('a', 'c', 'a', 'c'), '_i23': \"ch_generator = (i for i in 'abcabc' if i != 'b')\\nprint(ch_generator)\", 'ch_generator': <generator object <genexpr> at 0x0000027AC67DB200>, '_i24': \"lv = ['Excellent', 'Good     ', 'Medium   ', 'Pass     ', 'Fail     ']\\nprint('\\\\033[32mlv[ 0] =\\\\033[0m', lv[0])\\nprint('\\\\033[32mlv[ 1] =\\\\033[0m', lv[1])\\nprint('\\\\033[32mlv[ 2] =\\\\033[0m', lv[2])\\nprint('\\\\033[32mlv[ 3] =\\\\033[0m', lv[3])\\nprint('\\\\033[32mlv[ 4] =\\\\033[0m', lv[4])\\nprint()\\n\\nprint('\\\\033[32mlv[-1] =\\\\033[0m', lv[-1])\\nprint('\\\\033[32mlv[-2] =\\\\033[0m', lv[-2])\\nprint('\\\\033[32mlv[-3] =\\\\033[0m', lv[-3])\\nprint('\\\\033[32mlv[-4] =\\\\033[0m', lv[-4])\\nprint('\\\\033[32mlv[-5] =\\\\033[0m', lv[-5])\", 'lv': ['Excellent', 'Good     ', 'Medium   ', 'Pass     ', 'Fail     '], '_i25': \"lv = ['Excellent', 'Good     ', 'Medium   ', 'Pass     ', 'Fail     ']\\nprint('\\\\033[32mlv[  : 3]    =\\\\033[0m', lv[:3])\\nprint('\\\\033[32mlv[-3:  ]    =\\\\033[0m', lv[-3:])\\nprint('\\\\033[32mlv[ 1: 4]    =\\\\033[0m', lv[1:4])\\nprint('\\\\033[32mlv[ 1:-1]    =\\\\033[0m', lv[1:-1])\\nprint('\\\\033[32mlv[  :  ]    =\\\\033[0m', lv[:])\\nprint()\\n\\nprint('\\\\033[32mlv[  :  : 2] =\\\\033[0m', lv[::2])\\nprint('\\\\033[32mlv[ 1:  : 2] =\\\\033[0m', lv[1::2])\\nprint('\\\\033[32mlv[  :  :-1] =\\\\033[0m', lv[::-1])\\nprint('\\\\033[32mlv[ 3: 0:-1] =\\\\033[0m', lv[3:0:-1])\\nprint()\", '_i26': \"lv = ['Excellent', 'Good     ', 'Medium   ', 'Pass     ', 'Fail     ']\\nprint('\\\\033[32mlv[ 9]    =\\\\033[0m', lv[9])\", '_i27': \"lv = ['Excellent', 'Good     ', 'Medium   ', 'Pass     ', 'Fail     ']\\nprint('\\\\033[32mlv[ 9]    =\\\\033[0m', lv[9])\", '_i28': \"lv = ['Excellent', 'Good     ', 'Medium   ', 'Pass     ', 'Fail     ']\\nprint('\\\\033[32mlv[ 2: 9]    =\\\\033[0m', lv[2:9])\\nprint('\\\\033[32mlv[-9:-2]    =\\\\033[0m', lv[-9:-2])\\nprint('\\\\033[32mlv[ 3: 2]    =\\\\033[0m', lv[3:2])\\nprint('\\\\033[32mlv[ 9:  :-1] =\\\\033[0m', lv[9::-1])\", '_i29': 'a, b, c = 1, 2, 3\\nprint(a, b, c)\\na, b, c = c, a, b\\nprint(a, b, c)', 'b': ['Potatoes', 'Eggs', 'Pork', 'Beef', 'Orange', 'Watermelon'], 'c': 2, '_i30': \"s = list('Pthon')\\nprint(s) \\ns.insert(1, 'y')\\nprint(s)\", 's': ['P', 'y', 't', 'h', 'o', 'n'], '_i31': \"s = list('Pthon')\\nargs = (1, 'y')\\nprint(s) \\ns.insert(*args)\\nprint(s)\", 'args': (1, 'y'), '_i32': 'a, b = 4, 5 \\neg_tuple = 1, 3 if a > b else 2, 4\\nprint(eg_tuple)\\neg_tuple = (1, 3) if a > b else (2, 4)\\nprint(eg_tuple)', '_i33': 'num = [1, 2, 3, 4, 5]\\nprint(num)\\nnum.append(6)\\nprint(num)\\nnum.extend([7, 8])\\nprint(num)\\nnum += range(9, 12)\\nprint(num)\\nnum.insert(1, 0)\\nprint(num)', '_i34': 'num = [1, 2, 3, 4, 5, 4, 3, 2, 1]\\nprint(num)\\nnum.remove(2)\\nprint(num)\\nnum.pop()\\nprint(num)\\nnum.clear()\\nprint(num)', '_i35': 'num1 = [31, 12, 79, 46, 55]\\nnum2 = [26, 27, 48]\\nprint(num1 + num2)\\nprint(num1 * 2) \\nnum1.reverse()\\nprint(num1)\\nnum1.sort(key=(lambda x:x%10), reverse=True)\\nprint(num1)', 'num1': [[...]], 'num2': [[...]], '_i36': 'num1 = [1, 1, 1, 2, 7, 11]\\nnum2 = [1, 1, 4]\\nprint(len(num1))\\nprint(num1 < num2)\\nprint(num1.count(1))\\nprint(7 in num1)\\nprint(num1.index(2))', '_i37': 'num1 = [0, (1,), [2, 3]]\\nnum2 = num1.copy()\\nprint(num1, id(num1), id(num1[0]), id(num1[1]), id(num1[2]))\\nprint(num2, id(num2), id(num2[0]), id(num2[1]), id(num2[2]))', '_i38': 'import copy\\nnum1 = [0, (1,), [2, 3]]\\nnum2 = copy.deepcopy(num1)\\nprint(num1, id(num1), id(num1[0]), id(num1[1]), id(num1[2]))\\nprint(num2, id(num2), id(num2[0]), id(num2[1]), id(num2[2]))', 'copy': <module 'copy' from 'c:\\\\Users\\\\pilxy\\\\AppData\\\\Local\\\\Programs\\\\Python\\\\Python39\\\\lib\\\\copy.py'>, '_i39': 'num1 = num1[0] = [0]\\nprint(num1)\\nnum2 = copy.deepcopy(num1)\\nprint(num1, id(num1), id(num1[0]), id(num1[0][0]), id(num1[0][0][0]))\\nprint(num2, id(num2), id(num2[0]), id(num2[0][0]), id(num2[0][0][0]))', '_i40': \"prices = {'Tomatoes': 4.8, 'Potatoes': 3.7, 'Eggs': 5.79, 'Pork': 16.6, \\n          'Beef': 48.8, 'Orange': 7.2, 'Watermelon': 5.9}\\nprint(prices)\\nprices = dict([('Tomatoes', 4.8), ('Potatoes', 3.7), ('Eggs', 5.79), \\n               ('Pork', 16.6), ('Beef', 48.8), ('Orange', 7.2), \\n               ('Watermelon', 5.9)])\\nprint(prices)\", '_i41': \"str_num = {str(i): i for i in range(100)}\\nprint(str_num)\\ntest_dict = dict.fromkeys('Python', 1)\\nprint(test_dict)\", 'str_num': {'87', '86', '17', '65', '21', '75', '46', '98', '93', '68', '74', '7', '79', '58', '30', '53', '38', '77', '2', '24', '16', '72', '44', '25', '49', '18', '27', '80', '6', '4', '0', '54', '76', '34', '26', '97', '23', '89', '63', '52', '85', '9', '28', '43', '96', '40', '88', '64', '94', '20', '48', '3', '31', '56', '37', '59', '91', '71', '60', '22', '42', '83', '47', '55', '10', '73', '39', '50', '13', '19', '69', '84', '14', '61', '33', '95', '12', '41', '92', '45', '66', '90', '1', '67', '15', '29', '82', '5', '11', '36', '78', '99', '32', '8', '51', '62', '81', '35', '70', '57'}, 'test_dict': {'P': 1, 'y': 1, 't': 1, 'h': 1, 'o': 1, 'n': 1}, '_i42': \"prices = dict([('Tomatoes', 4.8), ('Potatoes', 3.7), ('Eggs', 5.79), \\n               ('Pork', 16.6), ('Beef', 48.8), ('Orange', 7.2), \\n               ('Watermelon', 5.9)])\\nprint(prices['Tomatoes'])\\nprint(prices.get('Tomatoes'))\", '_i43': \"prices = dict([('Tomatoes', 4.8), ('Potatoes', 3.7), ('Eggs', 5.79), \\n               ('Pork', 16.6), ('Beef', 48.8), ('Orange', 7.2), \\n               ('Watermelon', 5.9)])\\nprint(prices['Apple'])\", '_i44': \"prices = dict([('Tomatoes', 4.8), ('Potatoes', 3.7), ('Eggs', 5.79), \\n               ('Pork', 16.6), ('Beef', 48.8), ('Orange', 7.2), \\n               ('Watermelon', 5.9)])\\nprint(prices.get('Apple'))\", '_i45': \"prices1 = dict([('Tomatoes', 4.8), ('Potatoes', 3.7), ('Eggs', 5.79), \\n                ('Pork', 16.6), ('Beef', 48.8), ('Orange', 7.2), \\n                ('Watermelon', 5.9)])\\nprices2 = dict([('Cucumber', 4.7), ('Carrots', 3.0), ('Leek', 4.1), \\n                ('Chicken', 10.8), ('Lamb', 39.1),  ('Pear', 5.2), \\n                ('Banana', 4.3)])\\na, *b = prices1\\nprint(b)\\nprices = {*prices1, *prices2}\\nprint(prices)\\nprices = {**prices1, **prices2}\\nprint(prices)\", 'prices1': {'Tomatoes': 4.8, 'Potatoes': 3.7, 'Eggs': 5.79, 'Pork': 16.6, 'Beef': 48.8, 'Orange': 7.2, 'Watermelon': 5.9}, 'prices2': {'Cucumber': 4.7, 'Carrots': 3.0, 'Leek': 4.1, 'Chicken': 10.8, 'Lamb': 39.1, 'Pear': 5.2, 'Banana': 4.3}, '_i46': \"prices = dict([('Tomatoes', 4.8), ('Potatoes', 3.7), ('Eggs', 5.79), \\n               ('Pork', 16.6), ('Beef', 48.8), ('Orange', 7.2), \\n               ('Watermelon', 5.9)])\\n\\nprint(prices.get('Tomatoes'))\\nprices['Tomatoes'] = 4.7\\nprint(prices.get('Tomatoes'))\\nprint()\\n\\nprint(prices.get('Chicken'))\\nprices['Chicken'] = 10.8\\nprint(prices.get('Chicken'))\", '_i47': \"prices = dict([('Tomatoes', 4.8), ('Potatoes', 3.7), ('Eggs', 5.79), \\n               ('Pork', 16.6), ('Beef', 48.8), ('Orange', 7.2), \\n               ('Watermelon', 5.9)])\\n\\nprint(prices.get('Tomatoes'))\\nprices.setdefault('Tomatoes', 4.7)\\nprint(prices.get('Tomatoes'))\\nprint()\\n\\nprint(prices.get('Chicken'))\\nprices.setdefault('Chicken', 10.8)\\nprint(prices.get('Chicken'))\", '_i48': \"prices = dict([('Tomatoes', 4.8), ('Potatoes', 3.7)])\\nprint(prices)\\nprices.update({'Carrot':3.0, 'Leek':4.6})\\nprint(prices)\\nprices |= [('Orange', 7.2),('Apple', 6.9)]\\nprint(prices)\", '_i49': \"prices = dict([('Tomatoes', 4.8), ('Potatoes', 3.7), ('Eggs', 5.79), \\n               ('Pork', 16.6), ('Beef', 48.8), ('Orange', 7.5), \\n               ('Watermelon', 5.9)])\\ndel prices['Tomatoes']\\ndel prices['Potatoes']\\ndel prices['Eggs']\\ndel prices['Pork']\\ndel prices['Beef']\\nprint(prices)\\nprices.__delitem__('Orange')\\nprint(prices)\", '_i50': \"prices = dict([('Tomatoes', 4.8), ('Potatoes', 3.7), ('Eggs', 5.79), \\n               ('Pork', 16.6), ('Beef', 48.8), ('Orange', 7.5), \\n               ('Watermelon', 5.9)])\\nprices['Tomatoes'] = None\\nprices['Potatoes'] = None\\nprices['Eggs'] = None\\nprices['Pork'] = None\\nprices['Beef'] = None\\nprint(prices)\\nprices.clear()\\nprint(prices)\", '_i51': \"prices = dict([('Tomatoes', 4.8), ('Potatoes', 3.7), ('Eggs', 5.79), \\n               ('Pork', 16.6), ('Beef', 48.8), ('Orange', 7.5), \\n               ('Watermelon', 5.9)])\\nprint(len(prices))\\nprint(prices.items())\\nprint(prices.keys())\\nprint(prices.values())\\nprint('Tomatoes' in prices)\\n\\nprint()\\nprint(list(prices.items()))\", '_i52': 'str_num = {0, 1, 2, 3, 4, 5, 6}\\nprint(str_num)\\nstr_num = set(range(100))\\nprint(str_num)\\nstr_num = frozenset(range(100))\\nprint(str_num)\\nstr_num = {str(i) for i in range(100)}\\nprint(str_num)', '_i53': 'def f(x, y):\\n    return x + y\\nprint(f(5, 7))\\ng = f\\nprint()\\n\\ndef f(x, y):\\n    return x * y\\nprint(f(5, 7))\\nprint(g(5, 7))', 'f': <function f at 0x0000027AC67D09D0>, 'g': <function g at 0x0000027AC683E1F0>, '_i54': 'def f(a, b, c):\\n    return a * 100 + b * 10 + c\\n\\nprint(f(3, 4, 5))\\nprint(f(c=3, b=4, a=5))', '_i55': 'def f(a, b, c, /):\\n    return a * 100 + b * 10 + c\\n\\nprint(f(c=3, b=4, a=5))', '_i56': 'def f(*, a, b, c):\\n    return a * 100 + b * 10 + c\\n\\nprint(f(3, 4, 5))', '_i57': 'def f(a, b, c, *args):\\n    num = a * 100 + b * 10 + c\\n    for i in args:\\n        num = num * 10 + i\\n    return num\\n\\nprint(f(1, 3, 7, 2, 5, 4, 3, 9, 6))', '_i58': 'def f(a, b, c, **kwargs):\\n    return kwargs\\n\\nprint(f(1, 2, 3, d=1, e=2))', '_i59': 'def f(a: int, b: int, c: str):\\n    return a * 100 + b * 10 + c\\n\\nprint(f(1, 2, 3))', '_i60': 'num = [1, 2, 3, 4, 5] \\nprint(num[::-1])', '_i61': 'num = [1, 2, 3, 4, 5] \\nprint(num.reverse())\\nprint(num)', '_i62': \"def f(x):\\n    try:\\n        print('before try')\\n        return 'return try'\\n        print('after try')\\n    except:\\n        pass\\n    finally:\\n        print('before finally')\\n        return 'return finally'\\n        print('after finally')\\n\\nprint(f(0))\", '_i63': 'def f(x):\\n    def g(y):\\n        return x <= y\\n    return g\\n\\ngeq3 = f(3)\\n\\nprint(geq3(2))\\nprint(geq3(3))\\nprint(geq3(4))', 'geq3': <function f.<locals>.g at 0x0000027AC687DD30>, '_i64': \"def concat(*funcs):\\n    def _concat_func(arg):\\n        for func in funcs:\\n            arg = func(arg)\\n        return arg\\n    return _concat_func\\n\\nf = concat(sorted, ' > '.join, print)\\n\\nf(['apple', 'orange', 'banana', 'lemon'])\\nf(['Beijing', 'Shanghai', 'Guangzhou', 'Shenzhen'])\", 'concat': <function concat at 0x0000027AC687D670>, '_i65': 'def f(x, y, z):\\n    return x * 100 + y * 10 + z\\n\\ndef curry3(func):\\n    def _func_x(x):\\n        def _func_y(y):\\n            def _func_z(z):\\n                return func(x, y, z)\\n            return _func_z\\n        return _func_y\\n    return _func_x\\n\\nprint(f)\\nxf = curry3(f) \\nprint(xf)\\nyf = xf(3)\\nprint(yf)\\nzf = yf(1) \\nprint(zf)\\nans = zf(5)\\nprint(ans)', 'curry3': <function curry3 at 0x0000027AC687D700>, 'xf': <function curry3.<locals>._func_x at 0x0000027AC68C2550>, 'yf': <function curry3.<locals>._func_x.<locals>._func_y at 0x0000027AC68C2790>, 'zf': <function curry3.<locals>._func_x.<locals>._func_y.<locals>._func_z at 0x0000027AC68C21F0>, 'ans': 6667778889, '_i66': 'def curry(func):\\n    _arg_count = func.__code__.co_argcount\\n    def _get_curry_func(_args):\\n        def _curry_func(arg):\\n            if len(_args) + 1 == _arg_count:\\n                return func(*_args, arg)\\n            else:\\n                return _get_curry_func(_args + [arg])\\n        return _curry_func\\n    return _get_curry_func([])\\n\\ndef f(x0, x1, x2, x3, x4, x5, x6, x7, x8, x9):\\n    return ((((((((x0 * 10 + x1) * 10 + x2) * 10 + x3) * 10 + x4) * \\n               10 + x5) * 10 + x6) * 10 + x7) * 10 + x8) * 10 + x9\\n\\nx0f = curry(f)\\nprint(x0f)\\nx1f = x0f(6)\\nprint(x1f)\\nx2f = x1f(6)\\nprint(x2f)\\nx3f = x2f(6)\\nprint(x3f)\\nx4f = x3f(7)\\nprint(x4f)\\nx5f = x4f(7)\\nprint(x5f)\\nx6f = x5f(7)\\nprint(x6f)\\nx7f = x6f(8)\\nprint(x7f)\\nx8f = x7f(8)\\nprint(x8f)\\nx9f = x8f(8)\\nprint(x9f)\\nans = x9f(9)\\nprint(ans)', 'curry': <function curry at 0x0000027AC68C2AF0>, 'x0f': <function curry.<locals>._get_curry_func.<locals>._curry_func at 0x0000027AC68C2B80>, 'x1f': <function curry.<locals>._get_curry_func.<locals>._curry_func at 0x0000027AC68C2DC0>, 'x2f': <function curry.<locals>._get_curry_func.<locals>._curry_func at 0x0000027AC68C2EE0>, 'x3f': <function curry.<locals>._get_curry_func.<locals>._curry_func at 0x0000027AC68C2E50>, 'x4f': <function curry.<locals>._get_curry_func.<locals>._curry_func at 0x0000027AC68C2F70>, 'x5f': <function curry.<locals>._get_curry_func.<locals>._curry_func at 0x0000027AC68C25E0>, 'x6f': <function curry.<locals>._get_curry_func.<locals>._curry_func at 0x0000027AC68ED040>, 'x7f': <function curry.<locals>._get_curry_func.<locals>._curry_func at 0x0000027AC68ED0D0>, 'x8f': <function curry.<locals>._get_curry_func.<locals>._curry_func at 0x0000027AC68ED160>, 'x9f': <function curry.<locals>._get_curry_func.<locals>._curry_func at 0x0000027AC68ED1F0>, '_i67': 'glb_a = 1', 'glb_a': 2, '_i68': 'print(glb_a)', '_i69': 'def f():\\n    print(glb_a)\\nf()', '_i70': 'def f():\\n    glb_a =2\\n    print(glb_a)\\nf()\\nprint(glb_a)', '_i71': 'def f():\\n    global glb_a\\n    glb_a =2\\n    print(glb_a)\\nf()\\nprint(glb_a)', '_i72': 'def f():\\n    ans = []\\n    def g(y):\\n        if y is None:\\n            return ans\\n        ans.append(y)\\n    return g\\n\\ng = f()\\ng(0)\\ng(1)\\ng(2)\\ng(3)\\ng(4)\\nprint(g(None))', '_i73': 'def f():\\n    ans = []\\n    def g(y):\\n        if y is None:\\n            return ans\\n        ans += [y]\\n    return g\\n\\ng = f()\\ng(0)\\ng(1)\\ng(2)\\ng(3)\\ng(4)\\nprint(g(None))', '_i74': 'def f(a, b, c, *args):\\n    num = a * 100 + b * 10 + c\\n    for i in args:\\n        num = num * 10 + i\\n    return num\\n\\nprint(f(1, 3, 7, 2, 5, 4, 3, 9, 6))', '_i75': 'def f():\\n    ans = []\\n    def g(y):\\n        nonlocal ans\\n        if y is None:\\n            return ans\\n        ans += [y]\\n    return g\\n\\ng = f()\\ng(0)\\ng(1)\\ng(2)\\ng(3)\\ng(4)\\nprint(g(None))', '_i76': 'def f(x, y):\\n    return x + y\\n\\ndef g():\\n    global f\\n    def f(x, y):\\n        return x * y\\n    \\nprint(f(5, 7))\\ng()\\nprint(f(5, 7))', '_i77': 'print(globals())', '_i78': 'print(locals())\\ndef f(x):\\n    a = 1\\n    b = 2\\n    def g():\\n        pass\\n    print(locals())\\nf(x=0)'}\n",
      "{'x': 0, 'a': 1, 'b': 2, 'g': <function f.<locals>.g at 0x0000027AC67D09D0>}\n"
     ]
    }
   ],
   "source": [
    "print(locals())\n",
    "def f(x):\n",
    "    a = 1\n",
    "    b = 2\n",
    "    def g():\n",
    "        pass\n",
    "    print(locals())\n",
    "f(x=0)"
   ]
  },
  {
   "cell_type": "code",
   "execution_count": 79,
   "metadata": {},
   "outputs": [
    {
     "name": "stdout",
     "output_type": "stream",
     "text": [
      "{'__name__': '__main__', '__doc__': 'Automatically created module for IPython interactive environment', '__package__': None, '__loader__': None, '__spec__': None, '__builtin__': <module 'builtins' (built-in)>, '__builtins__': <module 'builtins' (built-in)>, '_ih': ['', 'num = [1, 2, 3] *3\\nnum\\nprint(id(num[0]), id(num[1]), id(num[2]))\\nprint(id(num[3]), id(num[4]), id(num[5]))', 'help(id)', 'num[3] = 4\\nprint(num)', 'num = [[1, 2, 3]] * 2\\nprint(num)\\nnum[0][0] = 0\\nprint(num)\\nnum[1][0] = 4\\nprint(num)', \"prices = [('Tomatoes', 4.8), ('Potatoes', 3.7), ('Cucumber', 4.7),\\n          ('Carrots', 3.0), ('Leek', 4.1), ('Eggs', 5.79), ('Chicken', 10.8), \\n          ('Pork', 16.6), ('Beef', 48.8), ('Lamb', 39.1), ('Orange', 7.5), \\n          ('Watermelon', 5.9), ('Pear', 5.2), ('Banana', 4.3)]\\nprint(prices)\", 'prices[0][1] = 4.6', 'num = [1, 2, 3] *3\\nnum\\nprint(id(num[0]), id(num[1]), id(num[2]))\\nprint(id(num[3]), id(num[4]), id(num[5]))', 'help(id)', 'num[3] = 4\\nprint(num)', 'num = [[1, 2, 3]] * 2\\nprint(num)\\nnum[0][0] = 0\\nprint(num)\\nnum[1][0] = 4\\nprint(num)', \"prices = [('Tomatoes', 4.8), ('Potatoes', 3.7), ('Cucumber', 4.7),\\n          ('Carrots', 3.0), ('Leek', 4.1), ('Eggs', 5.79), ('Chicken', 10.8), \\n          ('Pork', 16.6), ('Beef', 48.8), ('Lamb', 39.1), ('Orange', 7.5), \\n          ('Watermelon', 5.9), ('Pear', 5.2), ('Banana', 4.3)]\\nprint(prices)\", 'prices[0][1] = 4.6', 'num = [1, 2, 3] *3\\nnum\\nprint(id(num[0]), id(num[1]), id(num[2]))\\nprint(id(num[3]), id(num[4]), id(num[5]))', 'help(id)', 'num[3] = 4\\nprint(num)', 'num = [[1, 2, 3]] * 2\\nprint(num)\\nnum[0][0] = 0\\nprint(num)\\nnum[1][0] = 4\\nprint(num)', \"prices = [('Tomatoes', 4.8), ('Potatoes', 3.7), ('Cucumber', 4.7),\\n          ('Carrots', 3.0), ('Leek', 4.1), ('Eggs', 5.79), ('Chicken', 10.8), \\n          ('Pork', 16.6), ('Beef', 48.8), ('Lamb', 39.1), ('Orange', 7.5), \\n          ('Watermelon', 5.9), ('Pear', 5.2), ('Banana', 4.3)]\\nprint(prices)\", 'prices[0][1] = 4.6', \"eg_list = ['element1', 'element2', 'element3'] \\nprint(eg_list, '\\\\t\\\\t\\\\t', id(eg_list))\\neg_list.append('element_4')\\nprint(eg_list, '\\\\t', id(eg_list))\\nprint()\\n\\neg_dict = {'key_1': 1, 'key_2': 2, 'key_3': 3}\\nprint(eg_dict, '\\\\t\\\\t\\\\t', id(eg_dict))\\neg_dict['element_4'] = 4\\nprint(eg_dict, '\\\\t', id(eg_dict))\\nprint()\\n\\neg_set  = {'element1', 'element2', 'element3'}\\nprint(eg_set , '\\\\t\\\\t\\\\t', id(eg_set ))\\neg_set.add('element_4')\\nprint(eg_set , '\\\\t', id(eg_set ))\", \"eg_int = 10\\nprint(eg_int, id(eg_int))\\neg_int += 2\\nprint(eg_int, id(eg_int))\\nprint()\\n\\neg_tuple = (1, 3, 5, 7)\\nprint(eg_tuple, '\\\\t\\\\t', id(eg_tuple))\\neg_tuple += (9, 11)\\nprint(eg_tuple, '\\\\t', id(eg_tuple))\", \"ch_list = ['a','c','a','c']\\nprint(ch_list)\\n\\nch_list = list('acac')\\nprint(ch_list)\\n\\nch_list = a = [i for i in 'abcabc' if i != 'b']\\nprint(ch_list)\\n\\nch_list = []\\nfor ch in 'abcabc':\\n    if ch != 'b':\\n        ch_list.append(ch)\\nprint(ch_list)\", \"ch_tuple = ('a', 'c', 'a', 'c')\\nprint(ch_tuple)\\n\\nch_tuple = 'a', 'c', 'a', 'c'\\nprint(ch_tuple)\\n\\nch_tuple = tuple('acac')\\nprint(ch_tuple)\\n\\nch_tuple = tuple(['a', 'c', 'a', 'c'])\\nprint(ch_tuple)\", \"ch_generator = (i for i in 'abcabc' if i != 'b')\\nprint(ch_generator)\", \"lv = ['Excellent', 'Good     ', 'Medium   ', 'Pass     ', 'Fail     ']\\nprint('\\\\033[32mlv[ 0] =\\\\033[0m', lv[0])\\nprint('\\\\033[32mlv[ 1] =\\\\033[0m', lv[1])\\nprint('\\\\033[32mlv[ 2] =\\\\033[0m', lv[2])\\nprint('\\\\033[32mlv[ 3] =\\\\033[0m', lv[3])\\nprint('\\\\033[32mlv[ 4] =\\\\033[0m', lv[4])\\nprint()\\n\\nprint('\\\\033[32mlv[-1] =\\\\033[0m', lv[-1])\\nprint('\\\\033[32mlv[-2] =\\\\033[0m', lv[-2])\\nprint('\\\\033[32mlv[-3] =\\\\033[0m', lv[-3])\\nprint('\\\\033[32mlv[-4] =\\\\033[0m', lv[-4])\\nprint('\\\\033[32mlv[-5] =\\\\033[0m', lv[-5])\", \"lv = ['Excellent', 'Good     ', 'Medium   ', 'Pass     ', 'Fail     ']\\nprint('\\\\033[32mlv[  : 3]    =\\\\033[0m', lv[:3])\\nprint('\\\\033[32mlv[-3:  ]    =\\\\033[0m', lv[-3:])\\nprint('\\\\033[32mlv[ 1: 4]    =\\\\033[0m', lv[1:4])\\nprint('\\\\033[32mlv[ 1:-1]    =\\\\033[0m', lv[1:-1])\\nprint('\\\\033[32mlv[  :  ]    =\\\\033[0m', lv[:])\\nprint()\\n\\nprint('\\\\033[32mlv[  :  : 2] =\\\\033[0m', lv[::2])\\nprint('\\\\033[32mlv[ 1:  : 2] =\\\\033[0m', lv[1::2])\\nprint('\\\\033[32mlv[  :  :-1] =\\\\033[0m', lv[::-1])\\nprint('\\\\033[32mlv[ 3: 0:-1] =\\\\033[0m', lv[3:0:-1])\\nprint()\", \"lv = ['Excellent', 'Good     ', 'Medium   ', 'Pass     ', 'Fail     ']\\nprint('\\\\033[32mlv[ 9]    =\\\\033[0m', lv[9])\", \"lv = ['Excellent', 'Good     ', 'Medium   ', 'Pass     ', 'Fail     ']\\nprint('\\\\033[32mlv[ 9]    =\\\\033[0m', lv[9])\", \"lv = ['Excellent', 'Good     ', 'Medium   ', 'Pass     ', 'Fail     ']\\nprint('\\\\033[32mlv[ 2: 9]    =\\\\033[0m', lv[2:9])\\nprint('\\\\033[32mlv[-9:-2]    =\\\\033[0m', lv[-9:-2])\\nprint('\\\\033[32mlv[ 3: 2]    =\\\\033[0m', lv[3:2])\\nprint('\\\\033[32mlv[ 9:  :-1] =\\\\033[0m', lv[9::-1])\", 'a, b, c = 1, 2, 3\\nprint(a, b, c)\\na, b, c = c, a, b\\nprint(a, b, c)', \"s = list('Pthon')\\nprint(s) \\ns.insert(1, 'y')\\nprint(s)\", \"s = list('Pthon')\\nargs = (1, 'y')\\nprint(s) \\ns.insert(*args)\\nprint(s)\", 'a, b = 4, 5 \\neg_tuple = 1, 3 if a > b else 2, 4\\nprint(eg_tuple)\\neg_tuple = (1, 3) if a > b else (2, 4)\\nprint(eg_tuple)', 'num = [1, 2, 3, 4, 5]\\nprint(num)\\nnum.append(6)\\nprint(num)\\nnum.extend([7, 8])\\nprint(num)\\nnum += range(9, 12)\\nprint(num)\\nnum.insert(1, 0)\\nprint(num)', 'num = [1, 2, 3, 4, 5, 4, 3, 2, 1]\\nprint(num)\\nnum.remove(2)\\nprint(num)\\nnum.pop()\\nprint(num)\\nnum.clear()\\nprint(num)', 'num1 = [31, 12, 79, 46, 55]\\nnum2 = [26, 27, 48]\\nprint(num1 + num2)\\nprint(num1 * 2) \\nnum1.reverse()\\nprint(num1)\\nnum1.sort(key=(lambda x:x%10), reverse=True)\\nprint(num1)', 'num1 = [1, 1, 1, 2, 7, 11]\\nnum2 = [1, 1, 4]\\nprint(len(num1))\\nprint(num1 < num2)\\nprint(num1.count(1))\\nprint(7 in num1)\\nprint(num1.index(2))', 'num1 = [0, (1,), [2, 3]]\\nnum2 = num1.copy()\\nprint(num1, id(num1), id(num1[0]), id(num1[1]), id(num1[2]))\\nprint(num2, id(num2), id(num2[0]), id(num2[1]), id(num2[2]))', 'import copy\\nnum1 = [0, (1,), [2, 3]]\\nnum2 = copy.deepcopy(num1)\\nprint(num1, id(num1), id(num1[0]), id(num1[1]), id(num1[2]))\\nprint(num2, id(num2), id(num2[0]), id(num2[1]), id(num2[2]))', 'num1 = num1[0] = [0]\\nprint(num1)\\nnum2 = copy.deepcopy(num1)\\nprint(num1, id(num1), id(num1[0]), id(num1[0][0]), id(num1[0][0][0]))\\nprint(num2, id(num2), id(num2[0]), id(num2[0][0]), id(num2[0][0][0]))', \"prices = {'Tomatoes': 4.8, 'Potatoes': 3.7, 'Eggs': 5.79, 'Pork': 16.6, \\n          'Beef': 48.8, 'Orange': 7.2, 'Watermelon': 5.9}\\nprint(prices)\\nprices = dict([('Tomatoes', 4.8), ('Potatoes', 3.7), ('Eggs', 5.79), \\n               ('Pork', 16.6), ('Beef', 48.8), ('Orange', 7.2), \\n               ('Watermelon', 5.9)])\\nprint(prices)\", \"str_num = {str(i): i for i in range(100)}\\nprint(str_num)\\ntest_dict = dict.fromkeys('Python', 1)\\nprint(test_dict)\", \"prices = dict([('Tomatoes', 4.8), ('Potatoes', 3.7), ('Eggs', 5.79), \\n               ('Pork', 16.6), ('Beef', 48.8), ('Orange', 7.2), \\n               ('Watermelon', 5.9)])\\nprint(prices['Tomatoes'])\\nprint(prices.get('Tomatoes'))\", \"prices = dict([('Tomatoes', 4.8), ('Potatoes', 3.7), ('Eggs', 5.79), \\n               ('Pork', 16.6), ('Beef', 48.8), ('Orange', 7.2), \\n               ('Watermelon', 5.9)])\\nprint(prices['Apple'])\", \"prices = dict([('Tomatoes', 4.8), ('Potatoes', 3.7), ('Eggs', 5.79), \\n               ('Pork', 16.6), ('Beef', 48.8), ('Orange', 7.2), \\n               ('Watermelon', 5.9)])\\nprint(prices.get('Apple'))\", \"prices1 = dict([('Tomatoes', 4.8), ('Potatoes', 3.7), ('Eggs', 5.79), \\n                ('Pork', 16.6), ('Beef', 48.8), ('Orange', 7.2), \\n                ('Watermelon', 5.9)])\\nprices2 = dict([('Cucumber', 4.7), ('Carrots', 3.0), ('Leek', 4.1), \\n                ('Chicken', 10.8), ('Lamb', 39.1),  ('Pear', 5.2), \\n                ('Banana', 4.3)])\\na, *b = prices1\\nprint(b)\\nprices = {*prices1, *prices2}\\nprint(prices)\\nprices = {**prices1, **prices2}\\nprint(prices)\", \"prices = dict([('Tomatoes', 4.8), ('Potatoes', 3.7), ('Eggs', 5.79), \\n               ('Pork', 16.6), ('Beef', 48.8), ('Orange', 7.2), \\n               ('Watermelon', 5.9)])\\n\\nprint(prices.get('Tomatoes'))\\nprices['Tomatoes'] = 4.7\\nprint(prices.get('Tomatoes'))\\nprint()\\n\\nprint(prices.get('Chicken'))\\nprices['Chicken'] = 10.8\\nprint(prices.get('Chicken'))\", \"prices = dict([('Tomatoes', 4.8), ('Potatoes', 3.7), ('Eggs', 5.79), \\n               ('Pork', 16.6), ('Beef', 48.8), ('Orange', 7.2), \\n               ('Watermelon', 5.9)])\\n\\nprint(prices.get('Tomatoes'))\\nprices.setdefault('Tomatoes', 4.7)\\nprint(prices.get('Tomatoes'))\\nprint()\\n\\nprint(prices.get('Chicken'))\\nprices.setdefault('Chicken', 10.8)\\nprint(prices.get('Chicken'))\", \"prices = dict([('Tomatoes', 4.8), ('Potatoes', 3.7)])\\nprint(prices)\\nprices.update({'Carrot':3.0, 'Leek':4.6})\\nprint(prices)\\nprices |= [('Orange', 7.2),('Apple', 6.9)]\\nprint(prices)\", \"prices = dict([('Tomatoes', 4.8), ('Potatoes', 3.7), ('Eggs', 5.79), \\n               ('Pork', 16.6), ('Beef', 48.8), ('Orange', 7.5), \\n               ('Watermelon', 5.9)])\\ndel prices['Tomatoes']\\ndel prices['Potatoes']\\ndel prices['Eggs']\\ndel prices['Pork']\\ndel prices['Beef']\\nprint(prices)\\nprices.__delitem__('Orange')\\nprint(prices)\", \"prices = dict([('Tomatoes', 4.8), ('Potatoes', 3.7), ('Eggs', 5.79), \\n               ('Pork', 16.6), ('Beef', 48.8), ('Orange', 7.5), \\n               ('Watermelon', 5.9)])\\nprices['Tomatoes'] = None\\nprices['Potatoes'] = None\\nprices['Eggs'] = None\\nprices['Pork'] = None\\nprices['Beef'] = None\\nprint(prices)\\nprices.clear()\\nprint(prices)\", \"prices = dict([('Tomatoes', 4.8), ('Potatoes', 3.7), ('Eggs', 5.79), \\n               ('Pork', 16.6), ('Beef', 48.8), ('Orange', 7.5), \\n               ('Watermelon', 5.9)])\\nprint(len(prices))\\nprint(prices.items())\\nprint(prices.keys())\\nprint(prices.values())\\nprint('Tomatoes' in prices)\\n\\nprint()\\nprint(list(prices.items()))\", 'str_num = {0, 1, 2, 3, 4, 5, 6}\\nprint(str_num)\\nstr_num = set(range(100))\\nprint(str_num)\\nstr_num = frozenset(range(100))\\nprint(str_num)\\nstr_num = {str(i) for i in range(100)}\\nprint(str_num)', 'def f(x, y):\\n    return x + y\\nprint(f(5, 7))\\ng = f\\nprint()\\n\\ndef f(x, y):\\n    return x * y\\nprint(f(5, 7))\\nprint(g(5, 7))', 'def f(a, b, c):\\n    return a * 100 + b * 10 + c\\n\\nprint(f(3, 4, 5))\\nprint(f(c=3, b=4, a=5))', 'def f(a, b, c, /):\\n    return a * 100 + b * 10 + c\\n\\nprint(f(c=3, b=4, a=5))', 'def f(*, a, b, c):\\n    return a * 100 + b * 10 + c\\n\\nprint(f(3, 4, 5))', 'def f(a, b, c, *args):\\n    num = a * 100 + b * 10 + c\\n    for i in args:\\n        num = num * 10 + i\\n    return num\\n\\nprint(f(1, 3, 7, 2, 5, 4, 3, 9, 6))', 'def f(a, b, c, **kwargs):\\n    return kwargs\\n\\nprint(f(1, 2, 3, d=1, e=2))', 'def f(a: int, b: int, c: str):\\n    return a * 100 + b * 10 + c\\n\\nprint(f(1, 2, 3))', 'num = [1, 2, 3, 4, 5] \\nprint(num[::-1])', 'num = [1, 2, 3, 4, 5] \\nprint(num.reverse())\\nprint(num)', \"def f(x):\\n    try:\\n        print('before try')\\n        return 'return try'\\n        print('after try')\\n    except:\\n        pass\\n    finally:\\n        print('before finally')\\n        return 'return finally'\\n        print('after finally')\\n\\nprint(f(0))\", 'def f(x):\\n    def g(y):\\n        return x <= y\\n    return g\\n\\ngeq3 = f(3)\\n\\nprint(geq3(2))\\nprint(geq3(3))\\nprint(geq3(4))', \"def concat(*funcs):\\n    def _concat_func(arg):\\n        for func in funcs:\\n            arg = func(arg)\\n        return arg\\n    return _concat_func\\n\\nf = concat(sorted, ' > '.join, print)\\n\\nf(['apple', 'orange', 'banana', 'lemon'])\\nf(['Beijing', 'Shanghai', 'Guangzhou', 'Shenzhen'])\", 'def f(x, y, z):\\n    return x * 100 + y * 10 + z\\n\\ndef curry3(func):\\n    def _func_x(x):\\n        def _func_y(y):\\n            def _func_z(z):\\n                return func(x, y, z)\\n            return _func_z\\n        return _func_y\\n    return _func_x\\n\\nprint(f)\\nxf = curry3(f) \\nprint(xf)\\nyf = xf(3)\\nprint(yf)\\nzf = yf(1) \\nprint(zf)\\nans = zf(5)\\nprint(ans)', 'def curry(func):\\n    _arg_count = func.__code__.co_argcount\\n    def _get_curry_func(_args):\\n        def _curry_func(arg):\\n            if len(_args) + 1 == _arg_count:\\n                return func(*_args, arg)\\n            else:\\n                return _get_curry_func(_args + [arg])\\n        return _curry_func\\n    return _get_curry_func([])\\n\\ndef f(x0, x1, x2, x3, x4, x5, x6, x7, x8, x9):\\n    return ((((((((x0 * 10 + x1) * 10 + x2) * 10 + x3) * 10 + x4) * \\n               10 + x5) * 10 + x6) * 10 + x7) * 10 + x8) * 10 + x9\\n\\nx0f = curry(f)\\nprint(x0f)\\nx1f = x0f(6)\\nprint(x1f)\\nx2f = x1f(6)\\nprint(x2f)\\nx3f = x2f(6)\\nprint(x3f)\\nx4f = x3f(7)\\nprint(x4f)\\nx5f = x4f(7)\\nprint(x5f)\\nx6f = x5f(7)\\nprint(x6f)\\nx7f = x6f(8)\\nprint(x7f)\\nx8f = x7f(8)\\nprint(x8f)\\nx9f = x8f(8)\\nprint(x9f)\\nans = x9f(9)\\nprint(ans)', 'glb_a = 1', 'print(glb_a)', 'def f():\\n    print(glb_a)\\nf()', 'def f():\\n    glb_a =2\\n    print(glb_a)\\nf()\\nprint(glb_a)', 'def f():\\n    global glb_a\\n    glb_a =2\\n    print(glb_a)\\nf()\\nprint(glb_a)', 'def f():\\n    ans = []\\n    def g(y):\\n        if y is None:\\n            return ans\\n        ans.append(y)\\n    return g\\n\\ng = f()\\ng(0)\\ng(1)\\ng(2)\\ng(3)\\ng(4)\\nprint(g(None))', 'def f():\\n    ans = []\\n    def g(y):\\n        if y is None:\\n            return ans\\n        ans += [y]\\n    return g\\n\\ng = f()\\ng(0)\\ng(1)\\ng(2)\\ng(3)\\ng(4)\\nprint(g(None))', 'def f(a, b, c, *args):\\n    num = a * 100 + b * 10 + c\\n    for i in args:\\n        num = num * 10 + i\\n    return num\\n\\nprint(f(1, 3, 7, 2, 5, 4, 3, 9, 6))', 'def f():\\n    ans = []\\n    def g(y):\\n        nonlocal ans\\n        if y is None:\\n            return ans\\n        ans += [y]\\n    return g\\n\\ng = f()\\ng(0)\\ng(1)\\ng(2)\\ng(3)\\ng(4)\\nprint(g(None))', 'def f(x, y):\\n    return x + y\\n\\ndef g():\\n    global f\\n    def f(x, y):\\n        return x * y\\n    \\nprint(f(5, 7))\\ng()\\nprint(f(5, 7))', 'print(globals())', 'print(locals())\\ndef f(x):\\n    a = 1\\n    b = 2\\n    def g():\\n        pass\\n    print(locals())\\nf(x=0)', 'print(locals())\\ndef f(x):\\n    global glb_a\\n    a = 1\\n    b = 2\\n    def g():\\n        pass\\n    print(locals())\\nf(x=0)'], '_oh': {}, '_dh': [WindowsPath('d:/学习资料/2022-2023 下学期/python'), WindowsPath('d:/学习资料/2022-2023 下学期/python')], 'In': ['', 'num = [1, 2, 3] *3\\nnum\\nprint(id(num[0]), id(num[1]), id(num[2]))\\nprint(id(num[3]), id(num[4]), id(num[5]))', 'help(id)', 'num[3] = 4\\nprint(num)', 'num = [[1, 2, 3]] * 2\\nprint(num)\\nnum[0][0] = 0\\nprint(num)\\nnum[1][0] = 4\\nprint(num)', \"prices = [('Tomatoes', 4.8), ('Potatoes', 3.7), ('Cucumber', 4.7),\\n          ('Carrots', 3.0), ('Leek', 4.1), ('Eggs', 5.79), ('Chicken', 10.8), \\n          ('Pork', 16.6), ('Beef', 48.8), ('Lamb', 39.1), ('Orange', 7.5), \\n          ('Watermelon', 5.9), ('Pear', 5.2), ('Banana', 4.3)]\\nprint(prices)\", 'prices[0][1] = 4.6', 'num = [1, 2, 3] *3\\nnum\\nprint(id(num[0]), id(num[1]), id(num[2]))\\nprint(id(num[3]), id(num[4]), id(num[5]))', 'help(id)', 'num[3] = 4\\nprint(num)', 'num = [[1, 2, 3]] * 2\\nprint(num)\\nnum[0][0] = 0\\nprint(num)\\nnum[1][0] = 4\\nprint(num)', \"prices = [('Tomatoes', 4.8), ('Potatoes', 3.7), ('Cucumber', 4.7),\\n          ('Carrots', 3.0), ('Leek', 4.1), ('Eggs', 5.79), ('Chicken', 10.8), \\n          ('Pork', 16.6), ('Beef', 48.8), ('Lamb', 39.1), ('Orange', 7.5), \\n          ('Watermelon', 5.9), ('Pear', 5.2), ('Banana', 4.3)]\\nprint(prices)\", 'prices[0][1] = 4.6', 'num = [1, 2, 3] *3\\nnum\\nprint(id(num[0]), id(num[1]), id(num[2]))\\nprint(id(num[3]), id(num[4]), id(num[5]))', 'help(id)', 'num[3] = 4\\nprint(num)', 'num = [[1, 2, 3]] * 2\\nprint(num)\\nnum[0][0] = 0\\nprint(num)\\nnum[1][0] = 4\\nprint(num)', \"prices = [('Tomatoes', 4.8), ('Potatoes', 3.7), ('Cucumber', 4.7),\\n          ('Carrots', 3.0), ('Leek', 4.1), ('Eggs', 5.79), ('Chicken', 10.8), \\n          ('Pork', 16.6), ('Beef', 48.8), ('Lamb', 39.1), ('Orange', 7.5), \\n          ('Watermelon', 5.9), ('Pear', 5.2), ('Banana', 4.3)]\\nprint(prices)\", 'prices[0][1] = 4.6', \"eg_list = ['element1', 'element2', 'element3'] \\nprint(eg_list, '\\\\t\\\\t\\\\t', id(eg_list))\\neg_list.append('element_4')\\nprint(eg_list, '\\\\t', id(eg_list))\\nprint()\\n\\neg_dict = {'key_1': 1, 'key_2': 2, 'key_3': 3}\\nprint(eg_dict, '\\\\t\\\\t\\\\t', id(eg_dict))\\neg_dict['element_4'] = 4\\nprint(eg_dict, '\\\\t', id(eg_dict))\\nprint()\\n\\neg_set  = {'element1', 'element2', 'element3'}\\nprint(eg_set , '\\\\t\\\\t\\\\t', id(eg_set ))\\neg_set.add('element_4')\\nprint(eg_set , '\\\\t', id(eg_set ))\", \"eg_int = 10\\nprint(eg_int, id(eg_int))\\neg_int += 2\\nprint(eg_int, id(eg_int))\\nprint()\\n\\neg_tuple = (1, 3, 5, 7)\\nprint(eg_tuple, '\\\\t\\\\t', id(eg_tuple))\\neg_tuple += (9, 11)\\nprint(eg_tuple, '\\\\t', id(eg_tuple))\", \"ch_list = ['a','c','a','c']\\nprint(ch_list)\\n\\nch_list = list('acac')\\nprint(ch_list)\\n\\nch_list = a = [i for i in 'abcabc' if i != 'b']\\nprint(ch_list)\\n\\nch_list = []\\nfor ch in 'abcabc':\\n    if ch != 'b':\\n        ch_list.append(ch)\\nprint(ch_list)\", \"ch_tuple = ('a', 'c', 'a', 'c')\\nprint(ch_tuple)\\n\\nch_tuple = 'a', 'c', 'a', 'c'\\nprint(ch_tuple)\\n\\nch_tuple = tuple('acac')\\nprint(ch_tuple)\\n\\nch_tuple = tuple(['a', 'c', 'a', 'c'])\\nprint(ch_tuple)\", \"ch_generator = (i for i in 'abcabc' if i != 'b')\\nprint(ch_generator)\", \"lv = ['Excellent', 'Good     ', 'Medium   ', 'Pass     ', 'Fail     ']\\nprint('\\\\033[32mlv[ 0] =\\\\033[0m', lv[0])\\nprint('\\\\033[32mlv[ 1] =\\\\033[0m', lv[1])\\nprint('\\\\033[32mlv[ 2] =\\\\033[0m', lv[2])\\nprint('\\\\033[32mlv[ 3] =\\\\033[0m', lv[3])\\nprint('\\\\033[32mlv[ 4] =\\\\033[0m', lv[4])\\nprint()\\n\\nprint('\\\\033[32mlv[-1] =\\\\033[0m', lv[-1])\\nprint('\\\\033[32mlv[-2] =\\\\033[0m', lv[-2])\\nprint('\\\\033[32mlv[-3] =\\\\033[0m', lv[-3])\\nprint('\\\\033[32mlv[-4] =\\\\033[0m', lv[-4])\\nprint('\\\\033[32mlv[-5] =\\\\033[0m', lv[-5])\", \"lv = ['Excellent', 'Good     ', 'Medium   ', 'Pass     ', 'Fail     ']\\nprint('\\\\033[32mlv[  : 3]    =\\\\033[0m', lv[:3])\\nprint('\\\\033[32mlv[-3:  ]    =\\\\033[0m', lv[-3:])\\nprint('\\\\033[32mlv[ 1: 4]    =\\\\033[0m', lv[1:4])\\nprint('\\\\033[32mlv[ 1:-1]    =\\\\033[0m', lv[1:-1])\\nprint('\\\\033[32mlv[  :  ]    =\\\\033[0m', lv[:])\\nprint()\\n\\nprint('\\\\033[32mlv[  :  : 2] =\\\\033[0m', lv[::2])\\nprint('\\\\033[32mlv[ 1:  : 2] =\\\\033[0m', lv[1::2])\\nprint('\\\\033[32mlv[  :  :-1] =\\\\033[0m', lv[::-1])\\nprint('\\\\033[32mlv[ 3: 0:-1] =\\\\033[0m', lv[3:0:-1])\\nprint()\", \"lv = ['Excellent', 'Good     ', 'Medium   ', 'Pass     ', 'Fail     ']\\nprint('\\\\033[32mlv[ 9]    =\\\\033[0m', lv[9])\", \"lv = ['Excellent', 'Good     ', 'Medium   ', 'Pass     ', 'Fail     ']\\nprint('\\\\033[32mlv[ 9]    =\\\\033[0m', lv[9])\", \"lv = ['Excellent', 'Good     ', 'Medium   ', 'Pass     ', 'Fail     ']\\nprint('\\\\033[32mlv[ 2: 9]    =\\\\033[0m', lv[2:9])\\nprint('\\\\033[32mlv[-9:-2]    =\\\\033[0m', lv[-9:-2])\\nprint('\\\\033[32mlv[ 3: 2]    =\\\\033[0m', lv[3:2])\\nprint('\\\\033[32mlv[ 9:  :-1] =\\\\033[0m', lv[9::-1])\", 'a, b, c = 1, 2, 3\\nprint(a, b, c)\\na, b, c = c, a, b\\nprint(a, b, c)', \"s = list('Pthon')\\nprint(s) \\ns.insert(1, 'y')\\nprint(s)\", \"s = list('Pthon')\\nargs = (1, 'y')\\nprint(s) \\ns.insert(*args)\\nprint(s)\", 'a, b = 4, 5 \\neg_tuple = 1, 3 if a > b else 2, 4\\nprint(eg_tuple)\\neg_tuple = (1, 3) if a > b else (2, 4)\\nprint(eg_tuple)', 'num = [1, 2, 3, 4, 5]\\nprint(num)\\nnum.append(6)\\nprint(num)\\nnum.extend([7, 8])\\nprint(num)\\nnum += range(9, 12)\\nprint(num)\\nnum.insert(1, 0)\\nprint(num)', 'num = [1, 2, 3, 4, 5, 4, 3, 2, 1]\\nprint(num)\\nnum.remove(2)\\nprint(num)\\nnum.pop()\\nprint(num)\\nnum.clear()\\nprint(num)', 'num1 = [31, 12, 79, 46, 55]\\nnum2 = [26, 27, 48]\\nprint(num1 + num2)\\nprint(num1 * 2) \\nnum1.reverse()\\nprint(num1)\\nnum1.sort(key=(lambda x:x%10), reverse=True)\\nprint(num1)', 'num1 = [1, 1, 1, 2, 7, 11]\\nnum2 = [1, 1, 4]\\nprint(len(num1))\\nprint(num1 < num2)\\nprint(num1.count(1))\\nprint(7 in num1)\\nprint(num1.index(2))', 'num1 = [0, (1,), [2, 3]]\\nnum2 = num1.copy()\\nprint(num1, id(num1), id(num1[0]), id(num1[1]), id(num1[2]))\\nprint(num2, id(num2), id(num2[0]), id(num2[1]), id(num2[2]))', 'import copy\\nnum1 = [0, (1,), [2, 3]]\\nnum2 = copy.deepcopy(num1)\\nprint(num1, id(num1), id(num1[0]), id(num1[1]), id(num1[2]))\\nprint(num2, id(num2), id(num2[0]), id(num2[1]), id(num2[2]))', 'num1 = num1[0] = [0]\\nprint(num1)\\nnum2 = copy.deepcopy(num1)\\nprint(num1, id(num1), id(num1[0]), id(num1[0][0]), id(num1[0][0][0]))\\nprint(num2, id(num2), id(num2[0]), id(num2[0][0]), id(num2[0][0][0]))', \"prices = {'Tomatoes': 4.8, 'Potatoes': 3.7, 'Eggs': 5.79, 'Pork': 16.6, \\n          'Beef': 48.8, 'Orange': 7.2, 'Watermelon': 5.9}\\nprint(prices)\\nprices = dict([('Tomatoes', 4.8), ('Potatoes', 3.7), ('Eggs', 5.79), \\n               ('Pork', 16.6), ('Beef', 48.8), ('Orange', 7.2), \\n               ('Watermelon', 5.9)])\\nprint(prices)\", \"str_num = {str(i): i for i in range(100)}\\nprint(str_num)\\ntest_dict = dict.fromkeys('Python', 1)\\nprint(test_dict)\", \"prices = dict([('Tomatoes', 4.8), ('Potatoes', 3.7), ('Eggs', 5.79), \\n               ('Pork', 16.6), ('Beef', 48.8), ('Orange', 7.2), \\n               ('Watermelon', 5.9)])\\nprint(prices['Tomatoes'])\\nprint(prices.get('Tomatoes'))\", \"prices = dict([('Tomatoes', 4.8), ('Potatoes', 3.7), ('Eggs', 5.79), \\n               ('Pork', 16.6), ('Beef', 48.8), ('Orange', 7.2), \\n               ('Watermelon', 5.9)])\\nprint(prices['Apple'])\", \"prices = dict([('Tomatoes', 4.8), ('Potatoes', 3.7), ('Eggs', 5.79), \\n               ('Pork', 16.6), ('Beef', 48.8), ('Orange', 7.2), \\n               ('Watermelon', 5.9)])\\nprint(prices.get('Apple'))\", \"prices1 = dict([('Tomatoes', 4.8), ('Potatoes', 3.7), ('Eggs', 5.79), \\n                ('Pork', 16.6), ('Beef', 48.8), ('Orange', 7.2), \\n                ('Watermelon', 5.9)])\\nprices2 = dict([('Cucumber', 4.7), ('Carrots', 3.0), ('Leek', 4.1), \\n                ('Chicken', 10.8), ('Lamb', 39.1),  ('Pear', 5.2), \\n                ('Banana', 4.3)])\\na, *b = prices1\\nprint(b)\\nprices = {*prices1, *prices2}\\nprint(prices)\\nprices = {**prices1, **prices2}\\nprint(prices)\", \"prices = dict([('Tomatoes', 4.8), ('Potatoes', 3.7), ('Eggs', 5.79), \\n               ('Pork', 16.6), ('Beef', 48.8), ('Orange', 7.2), \\n               ('Watermelon', 5.9)])\\n\\nprint(prices.get('Tomatoes'))\\nprices['Tomatoes'] = 4.7\\nprint(prices.get('Tomatoes'))\\nprint()\\n\\nprint(prices.get('Chicken'))\\nprices['Chicken'] = 10.8\\nprint(prices.get('Chicken'))\", \"prices = dict([('Tomatoes', 4.8), ('Potatoes', 3.7), ('Eggs', 5.79), \\n               ('Pork', 16.6), ('Beef', 48.8), ('Orange', 7.2), \\n               ('Watermelon', 5.9)])\\n\\nprint(prices.get('Tomatoes'))\\nprices.setdefault('Tomatoes', 4.7)\\nprint(prices.get('Tomatoes'))\\nprint()\\n\\nprint(prices.get('Chicken'))\\nprices.setdefault('Chicken', 10.8)\\nprint(prices.get('Chicken'))\", \"prices = dict([('Tomatoes', 4.8), ('Potatoes', 3.7)])\\nprint(prices)\\nprices.update({'Carrot':3.0, 'Leek':4.6})\\nprint(prices)\\nprices |= [('Orange', 7.2),('Apple', 6.9)]\\nprint(prices)\", \"prices = dict([('Tomatoes', 4.8), ('Potatoes', 3.7), ('Eggs', 5.79), \\n               ('Pork', 16.6), ('Beef', 48.8), ('Orange', 7.5), \\n               ('Watermelon', 5.9)])\\ndel prices['Tomatoes']\\ndel prices['Potatoes']\\ndel prices['Eggs']\\ndel prices['Pork']\\ndel prices['Beef']\\nprint(prices)\\nprices.__delitem__('Orange')\\nprint(prices)\", \"prices = dict([('Tomatoes', 4.8), ('Potatoes', 3.7), ('Eggs', 5.79), \\n               ('Pork', 16.6), ('Beef', 48.8), ('Orange', 7.5), \\n               ('Watermelon', 5.9)])\\nprices['Tomatoes'] = None\\nprices['Potatoes'] = None\\nprices['Eggs'] = None\\nprices['Pork'] = None\\nprices['Beef'] = None\\nprint(prices)\\nprices.clear()\\nprint(prices)\", \"prices = dict([('Tomatoes', 4.8), ('Potatoes', 3.7), ('Eggs', 5.79), \\n               ('Pork', 16.6), ('Beef', 48.8), ('Orange', 7.5), \\n               ('Watermelon', 5.9)])\\nprint(len(prices))\\nprint(prices.items())\\nprint(prices.keys())\\nprint(prices.values())\\nprint('Tomatoes' in prices)\\n\\nprint()\\nprint(list(prices.items()))\", 'str_num = {0, 1, 2, 3, 4, 5, 6}\\nprint(str_num)\\nstr_num = set(range(100))\\nprint(str_num)\\nstr_num = frozenset(range(100))\\nprint(str_num)\\nstr_num = {str(i) for i in range(100)}\\nprint(str_num)', 'def f(x, y):\\n    return x + y\\nprint(f(5, 7))\\ng = f\\nprint()\\n\\ndef f(x, y):\\n    return x * y\\nprint(f(5, 7))\\nprint(g(5, 7))', 'def f(a, b, c):\\n    return a * 100 + b * 10 + c\\n\\nprint(f(3, 4, 5))\\nprint(f(c=3, b=4, a=5))', 'def f(a, b, c, /):\\n    return a * 100 + b * 10 + c\\n\\nprint(f(c=3, b=4, a=5))', 'def f(*, a, b, c):\\n    return a * 100 + b * 10 + c\\n\\nprint(f(3, 4, 5))', 'def f(a, b, c, *args):\\n    num = a * 100 + b * 10 + c\\n    for i in args:\\n        num = num * 10 + i\\n    return num\\n\\nprint(f(1, 3, 7, 2, 5, 4, 3, 9, 6))', 'def f(a, b, c, **kwargs):\\n    return kwargs\\n\\nprint(f(1, 2, 3, d=1, e=2))', 'def f(a: int, b: int, c: str):\\n    return a * 100 + b * 10 + c\\n\\nprint(f(1, 2, 3))', 'num = [1, 2, 3, 4, 5] \\nprint(num[::-1])', 'num = [1, 2, 3, 4, 5] \\nprint(num.reverse())\\nprint(num)', \"def f(x):\\n    try:\\n        print('before try')\\n        return 'return try'\\n        print('after try')\\n    except:\\n        pass\\n    finally:\\n        print('before finally')\\n        return 'return finally'\\n        print('after finally')\\n\\nprint(f(0))\", 'def f(x):\\n    def g(y):\\n        return x <= y\\n    return g\\n\\ngeq3 = f(3)\\n\\nprint(geq3(2))\\nprint(geq3(3))\\nprint(geq3(4))', \"def concat(*funcs):\\n    def _concat_func(arg):\\n        for func in funcs:\\n            arg = func(arg)\\n        return arg\\n    return _concat_func\\n\\nf = concat(sorted, ' > '.join, print)\\n\\nf(['apple', 'orange', 'banana', 'lemon'])\\nf(['Beijing', 'Shanghai', 'Guangzhou', 'Shenzhen'])\", 'def f(x, y, z):\\n    return x * 100 + y * 10 + z\\n\\ndef curry3(func):\\n    def _func_x(x):\\n        def _func_y(y):\\n            def _func_z(z):\\n                return func(x, y, z)\\n            return _func_z\\n        return _func_y\\n    return _func_x\\n\\nprint(f)\\nxf = curry3(f) \\nprint(xf)\\nyf = xf(3)\\nprint(yf)\\nzf = yf(1) \\nprint(zf)\\nans = zf(5)\\nprint(ans)', 'def curry(func):\\n    _arg_count = func.__code__.co_argcount\\n    def _get_curry_func(_args):\\n        def _curry_func(arg):\\n            if len(_args) + 1 == _arg_count:\\n                return func(*_args, arg)\\n            else:\\n                return _get_curry_func(_args + [arg])\\n        return _curry_func\\n    return _get_curry_func([])\\n\\ndef f(x0, x1, x2, x3, x4, x5, x6, x7, x8, x9):\\n    return ((((((((x0 * 10 + x1) * 10 + x2) * 10 + x3) * 10 + x4) * \\n               10 + x5) * 10 + x6) * 10 + x7) * 10 + x8) * 10 + x9\\n\\nx0f = curry(f)\\nprint(x0f)\\nx1f = x0f(6)\\nprint(x1f)\\nx2f = x1f(6)\\nprint(x2f)\\nx3f = x2f(6)\\nprint(x3f)\\nx4f = x3f(7)\\nprint(x4f)\\nx5f = x4f(7)\\nprint(x5f)\\nx6f = x5f(7)\\nprint(x6f)\\nx7f = x6f(8)\\nprint(x7f)\\nx8f = x7f(8)\\nprint(x8f)\\nx9f = x8f(8)\\nprint(x9f)\\nans = x9f(9)\\nprint(ans)', 'glb_a = 1', 'print(glb_a)', 'def f():\\n    print(glb_a)\\nf()', 'def f():\\n    glb_a =2\\n    print(glb_a)\\nf()\\nprint(glb_a)', 'def f():\\n    global glb_a\\n    glb_a =2\\n    print(glb_a)\\nf()\\nprint(glb_a)', 'def f():\\n    ans = []\\n    def g(y):\\n        if y is None:\\n            return ans\\n        ans.append(y)\\n    return g\\n\\ng = f()\\ng(0)\\ng(1)\\ng(2)\\ng(3)\\ng(4)\\nprint(g(None))', 'def f():\\n    ans = []\\n    def g(y):\\n        if y is None:\\n            return ans\\n        ans += [y]\\n    return g\\n\\ng = f()\\ng(0)\\ng(1)\\ng(2)\\ng(3)\\ng(4)\\nprint(g(None))', 'def f(a, b, c, *args):\\n    num = a * 100 + b * 10 + c\\n    for i in args:\\n        num = num * 10 + i\\n    return num\\n\\nprint(f(1, 3, 7, 2, 5, 4, 3, 9, 6))', 'def f():\\n    ans = []\\n    def g(y):\\n        nonlocal ans\\n        if y is None:\\n            return ans\\n        ans += [y]\\n    return g\\n\\ng = f()\\ng(0)\\ng(1)\\ng(2)\\ng(3)\\ng(4)\\nprint(g(None))', 'def f(x, y):\\n    return x + y\\n\\ndef g():\\n    global f\\n    def f(x, y):\\n        return x * y\\n    \\nprint(f(5, 7))\\ng()\\nprint(f(5, 7))', 'print(globals())', 'print(locals())\\ndef f(x):\\n    a = 1\\n    b = 2\\n    def g():\\n        pass\\n    print(locals())\\nf(x=0)', 'print(locals())\\ndef f(x):\\n    global glb_a\\n    a = 1\\n    b = 2\\n    def g():\\n        pass\\n    print(locals())\\nf(x=0)'], 'Out': {}, 'get_ipython': <bound method InteractiveShell.get_ipython of <ipykernel.zmqshell.ZMQInteractiveShell object at 0x0000027AC51FB160>>, 'exit': <IPython.core.autocall.ZMQExitAutocall object at 0x0000027AC51FB880>, 'quit': <IPython.core.autocall.ZMQExitAutocall object at 0x0000027AC51FB880>, 'open': <function open at 0x0000027AC38A8A60>, '_': '', '__': '', '___': '', '__vsc_ipynb_file__': 'd:\\\\学习资料\\\\2022-2023 下学期\\\\python\\\\test.ipynb', '_i': 'print(locals())\\ndef f(x):\\n    a = 1\\n    b = 2\\n    def g():\\n        pass\\n    print(locals())\\nf(x=0)', '_ii': 'print(globals())', '_iii': 'def f(x, y):\\n    return x + y\\n\\ndef g():\\n    global f\\n    def f(x, y):\\n        return x * y\\n    \\nprint(f(5, 7))\\ng()\\nprint(f(5, 7))', '_i1': 'num = [1, 2, 3] *3\\nnum\\nprint(id(num[0]), id(num[1]), id(num[2]))\\nprint(id(num[3]), id(num[4]), id(num[5]))', 'num': [5, 4, 3, 2, 1], '_i2': 'help(id)', '_i3': 'num[3] = 4\\nprint(num)', '_i4': 'num = [[1, 2, 3]] * 2\\nprint(num)\\nnum[0][0] = 0\\nprint(num)\\nnum[1][0] = 4\\nprint(num)', '_i5': \"prices = [('Tomatoes', 4.8), ('Potatoes', 3.7), ('Cucumber', 4.7),\\n          ('Carrots', 3.0), ('Leek', 4.1), ('Eggs', 5.79), ('Chicken', 10.8), \\n          ('Pork', 16.6), ('Beef', 48.8), ('Lamb', 39.1), ('Orange', 7.5), \\n          ('Watermelon', 5.9), ('Pear', 5.2), ('Banana', 4.3)]\\nprint(prices)\", 'prices': {'Tomatoes': 4.8, 'Potatoes': 3.7, 'Eggs': 5.79, 'Pork': 16.6, 'Beef': 48.8, 'Orange': 7.5, 'Watermelon': 5.9}, '_i6': 'prices[0][1] = 4.6', '_i7': 'num = [1, 2, 3] *3\\nnum\\nprint(id(num[0]), id(num[1]), id(num[2]))\\nprint(id(num[3]), id(num[4]), id(num[5]))', '_i8': 'help(id)', '_i9': 'num[3] = 4\\nprint(num)', '_i10': 'num = [[1, 2, 3]] * 2\\nprint(num)\\nnum[0][0] = 0\\nprint(num)\\nnum[1][0] = 4\\nprint(num)', '_i11': \"prices = [('Tomatoes', 4.8), ('Potatoes', 3.7), ('Cucumber', 4.7),\\n          ('Carrots', 3.0), ('Leek', 4.1), ('Eggs', 5.79), ('Chicken', 10.8), \\n          ('Pork', 16.6), ('Beef', 48.8), ('Lamb', 39.1), ('Orange', 7.5), \\n          ('Watermelon', 5.9), ('Pear', 5.2), ('Banana', 4.3)]\\nprint(prices)\", '_i12': 'prices[0][1] = 4.6', '_i13': 'num = [1, 2, 3] *3\\nnum\\nprint(id(num[0]), id(num[1]), id(num[2]))\\nprint(id(num[3]), id(num[4]), id(num[5]))', '_i14': 'help(id)', '_i15': 'num[3] = 4\\nprint(num)', '_i16': 'num = [[1, 2, 3]] * 2\\nprint(num)\\nnum[0][0] = 0\\nprint(num)\\nnum[1][0] = 4\\nprint(num)', '_i17': \"prices = [('Tomatoes', 4.8), ('Potatoes', 3.7), ('Cucumber', 4.7),\\n          ('Carrots', 3.0), ('Leek', 4.1), ('Eggs', 5.79), ('Chicken', 10.8), \\n          ('Pork', 16.6), ('Beef', 48.8), ('Lamb', 39.1), ('Orange', 7.5), \\n          ('Watermelon', 5.9), ('Pear', 5.2), ('Banana', 4.3)]\\nprint(prices)\", '_i18': 'prices[0][1] = 4.6', '_i19': \"eg_list = ['element1', 'element2', 'element3'] \\nprint(eg_list, '\\\\t\\\\t\\\\t', id(eg_list))\\neg_list.append('element_4')\\nprint(eg_list, '\\\\t', id(eg_list))\\nprint()\\n\\neg_dict = {'key_1': 1, 'key_2': 2, 'key_3': 3}\\nprint(eg_dict, '\\\\t\\\\t\\\\t', id(eg_dict))\\neg_dict['element_4'] = 4\\nprint(eg_dict, '\\\\t', id(eg_dict))\\nprint()\\n\\neg_set  = {'element1', 'element2', 'element3'}\\nprint(eg_set , '\\\\t\\\\t\\\\t', id(eg_set ))\\neg_set.add('element_4')\\nprint(eg_set , '\\\\t', id(eg_set ))\", 'eg_list': ['element1', 'element2', 'element3', 'element_4'], 'eg_dict': {'key_1': 1, 'key_2': 2, 'key_3': 3, 'element_4': 4}, 'eg_set': {'element1', 'element3', 'element2', 'element_4'}, '_i20': \"eg_int = 10\\nprint(eg_int, id(eg_int))\\neg_int += 2\\nprint(eg_int, id(eg_int))\\nprint()\\n\\neg_tuple = (1, 3, 5, 7)\\nprint(eg_tuple, '\\\\t\\\\t', id(eg_tuple))\\neg_tuple += (9, 11)\\nprint(eg_tuple, '\\\\t', id(eg_tuple))\", 'eg_int': 12, 'eg_tuple': (2, 4), '_i21': \"ch_list = ['a','c','a','c']\\nprint(ch_list)\\n\\nch_list = list('acac')\\nprint(ch_list)\\n\\nch_list = a = [i for i in 'abcabc' if i != 'b']\\nprint(ch_list)\\n\\nch_list = []\\nfor ch in 'abcabc':\\n    if ch != 'b':\\n        ch_list.append(ch)\\nprint(ch_list)\", 'ch_list': ['a', 'c', 'a', 'c'], 'a': 'Tomatoes', 'ch': 'c', '_i22': \"ch_tuple = ('a', 'c', 'a', 'c')\\nprint(ch_tuple)\\n\\nch_tuple = 'a', 'c', 'a', 'c'\\nprint(ch_tuple)\\n\\nch_tuple = tuple('acac')\\nprint(ch_tuple)\\n\\nch_tuple = tuple(['a', 'c', 'a', 'c'])\\nprint(ch_tuple)\", 'ch_tuple': ('a', 'c', 'a', 'c'), '_i23': \"ch_generator = (i for i in 'abcabc' if i != 'b')\\nprint(ch_generator)\", 'ch_generator': <generator object <genexpr> at 0x0000027AC67DB200>, '_i24': \"lv = ['Excellent', 'Good     ', 'Medium   ', 'Pass     ', 'Fail     ']\\nprint('\\\\033[32mlv[ 0] =\\\\033[0m', lv[0])\\nprint('\\\\033[32mlv[ 1] =\\\\033[0m', lv[1])\\nprint('\\\\033[32mlv[ 2] =\\\\033[0m', lv[2])\\nprint('\\\\033[32mlv[ 3] =\\\\033[0m', lv[3])\\nprint('\\\\033[32mlv[ 4] =\\\\033[0m', lv[4])\\nprint()\\n\\nprint('\\\\033[32mlv[-1] =\\\\033[0m', lv[-1])\\nprint('\\\\033[32mlv[-2] =\\\\033[0m', lv[-2])\\nprint('\\\\033[32mlv[-3] =\\\\033[0m', lv[-3])\\nprint('\\\\033[32mlv[-4] =\\\\033[0m', lv[-4])\\nprint('\\\\033[32mlv[-5] =\\\\033[0m', lv[-5])\", 'lv': ['Excellent', 'Good     ', 'Medium   ', 'Pass     ', 'Fail     '], '_i25': \"lv = ['Excellent', 'Good     ', 'Medium   ', 'Pass     ', 'Fail     ']\\nprint('\\\\033[32mlv[  : 3]    =\\\\033[0m', lv[:3])\\nprint('\\\\033[32mlv[-3:  ]    =\\\\033[0m', lv[-3:])\\nprint('\\\\033[32mlv[ 1: 4]    =\\\\033[0m', lv[1:4])\\nprint('\\\\033[32mlv[ 1:-1]    =\\\\033[0m', lv[1:-1])\\nprint('\\\\033[32mlv[  :  ]    =\\\\033[0m', lv[:])\\nprint()\\n\\nprint('\\\\033[32mlv[  :  : 2] =\\\\033[0m', lv[::2])\\nprint('\\\\033[32mlv[ 1:  : 2] =\\\\033[0m', lv[1::2])\\nprint('\\\\033[32mlv[  :  :-1] =\\\\033[0m', lv[::-1])\\nprint('\\\\033[32mlv[ 3: 0:-1] =\\\\033[0m', lv[3:0:-1])\\nprint()\", '_i26': \"lv = ['Excellent', 'Good     ', 'Medium   ', 'Pass     ', 'Fail     ']\\nprint('\\\\033[32mlv[ 9]    =\\\\033[0m', lv[9])\", '_i27': \"lv = ['Excellent', 'Good     ', 'Medium   ', 'Pass     ', 'Fail     ']\\nprint('\\\\033[32mlv[ 9]    =\\\\033[0m', lv[9])\", '_i28': \"lv = ['Excellent', 'Good     ', 'Medium   ', 'Pass     ', 'Fail     ']\\nprint('\\\\033[32mlv[ 2: 9]    =\\\\033[0m', lv[2:9])\\nprint('\\\\033[32mlv[-9:-2]    =\\\\033[0m', lv[-9:-2])\\nprint('\\\\033[32mlv[ 3: 2]    =\\\\033[0m', lv[3:2])\\nprint('\\\\033[32mlv[ 9:  :-1] =\\\\033[0m', lv[9::-1])\", '_i29': 'a, b, c = 1, 2, 3\\nprint(a, b, c)\\na, b, c = c, a, b\\nprint(a, b, c)', 'b': ['Potatoes', 'Eggs', 'Pork', 'Beef', 'Orange', 'Watermelon'], 'c': 2, '_i30': \"s = list('Pthon')\\nprint(s) \\ns.insert(1, 'y')\\nprint(s)\", 's': ['P', 'y', 't', 'h', 'o', 'n'], '_i31': \"s = list('Pthon')\\nargs = (1, 'y')\\nprint(s) \\ns.insert(*args)\\nprint(s)\", 'args': (1, 'y'), '_i32': 'a, b = 4, 5 \\neg_tuple = 1, 3 if a > b else 2, 4\\nprint(eg_tuple)\\neg_tuple = (1, 3) if a > b else (2, 4)\\nprint(eg_tuple)', '_i33': 'num = [1, 2, 3, 4, 5]\\nprint(num)\\nnum.append(6)\\nprint(num)\\nnum.extend([7, 8])\\nprint(num)\\nnum += range(9, 12)\\nprint(num)\\nnum.insert(1, 0)\\nprint(num)', '_i34': 'num = [1, 2, 3, 4, 5, 4, 3, 2, 1]\\nprint(num)\\nnum.remove(2)\\nprint(num)\\nnum.pop()\\nprint(num)\\nnum.clear()\\nprint(num)', '_i35': 'num1 = [31, 12, 79, 46, 55]\\nnum2 = [26, 27, 48]\\nprint(num1 + num2)\\nprint(num1 * 2) \\nnum1.reverse()\\nprint(num1)\\nnum1.sort(key=(lambda x:x%10), reverse=True)\\nprint(num1)', 'num1': [[...]], 'num2': [[...]], '_i36': 'num1 = [1, 1, 1, 2, 7, 11]\\nnum2 = [1, 1, 4]\\nprint(len(num1))\\nprint(num1 < num2)\\nprint(num1.count(1))\\nprint(7 in num1)\\nprint(num1.index(2))', '_i37': 'num1 = [0, (1,), [2, 3]]\\nnum2 = num1.copy()\\nprint(num1, id(num1), id(num1[0]), id(num1[1]), id(num1[2]))\\nprint(num2, id(num2), id(num2[0]), id(num2[1]), id(num2[2]))', '_i38': 'import copy\\nnum1 = [0, (1,), [2, 3]]\\nnum2 = copy.deepcopy(num1)\\nprint(num1, id(num1), id(num1[0]), id(num1[1]), id(num1[2]))\\nprint(num2, id(num2), id(num2[0]), id(num2[1]), id(num2[2]))', 'copy': <module 'copy' from 'c:\\\\Users\\\\pilxy\\\\AppData\\\\Local\\\\Programs\\\\Python\\\\Python39\\\\lib\\\\copy.py'>, '_i39': 'num1 = num1[0] = [0]\\nprint(num1)\\nnum2 = copy.deepcopy(num1)\\nprint(num1, id(num1), id(num1[0]), id(num1[0][0]), id(num1[0][0][0]))\\nprint(num2, id(num2), id(num2[0]), id(num2[0][0]), id(num2[0][0][0]))', '_i40': \"prices = {'Tomatoes': 4.8, 'Potatoes': 3.7, 'Eggs': 5.79, 'Pork': 16.6, \\n          'Beef': 48.8, 'Orange': 7.2, 'Watermelon': 5.9}\\nprint(prices)\\nprices = dict([('Tomatoes', 4.8), ('Potatoes', 3.7), ('Eggs', 5.79), \\n               ('Pork', 16.6), ('Beef', 48.8), ('Orange', 7.2), \\n               ('Watermelon', 5.9)])\\nprint(prices)\", '_i41': \"str_num = {str(i): i for i in range(100)}\\nprint(str_num)\\ntest_dict = dict.fromkeys('Python', 1)\\nprint(test_dict)\", 'str_num': {'87', '86', '17', '65', '21', '75', '46', '98', '93', '68', '74', '7', '79', '58', '30', '53', '38', '77', '2', '24', '16', '72', '44', '25', '49', '18', '27', '80', '6', '4', '0', '54', '76', '34', '26', '97', '23', '89', '63', '52', '85', '9', '28', '43', '96', '40', '88', '64', '94', '20', '48', '3', '31', '56', '37', '59', '91', '71', '60', '22', '42', '83', '47', '55', '10', '73', '39', '50', '13', '19', '69', '84', '14', '61', '33', '95', '12', '41', '92', '45', '66', '90', '1', '67', '15', '29', '82', '5', '11', '36', '78', '99', '32', '8', '51', '62', '81', '35', '70', '57'}, 'test_dict': {'P': 1, 'y': 1, 't': 1, 'h': 1, 'o': 1, 'n': 1}, '_i42': \"prices = dict([('Tomatoes', 4.8), ('Potatoes', 3.7), ('Eggs', 5.79), \\n               ('Pork', 16.6), ('Beef', 48.8), ('Orange', 7.2), \\n               ('Watermelon', 5.9)])\\nprint(prices['Tomatoes'])\\nprint(prices.get('Tomatoes'))\", '_i43': \"prices = dict([('Tomatoes', 4.8), ('Potatoes', 3.7), ('Eggs', 5.79), \\n               ('Pork', 16.6), ('Beef', 48.8), ('Orange', 7.2), \\n               ('Watermelon', 5.9)])\\nprint(prices['Apple'])\", '_i44': \"prices = dict([('Tomatoes', 4.8), ('Potatoes', 3.7), ('Eggs', 5.79), \\n               ('Pork', 16.6), ('Beef', 48.8), ('Orange', 7.2), \\n               ('Watermelon', 5.9)])\\nprint(prices.get('Apple'))\", '_i45': \"prices1 = dict([('Tomatoes', 4.8), ('Potatoes', 3.7), ('Eggs', 5.79), \\n                ('Pork', 16.6), ('Beef', 48.8), ('Orange', 7.2), \\n                ('Watermelon', 5.9)])\\nprices2 = dict([('Cucumber', 4.7), ('Carrots', 3.0), ('Leek', 4.1), \\n                ('Chicken', 10.8), ('Lamb', 39.1),  ('Pear', 5.2), \\n                ('Banana', 4.3)])\\na, *b = prices1\\nprint(b)\\nprices = {*prices1, *prices2}\\nprint(prices)\\nprices = {**prices1, **prices2}\\nprint(prices)\", 'prices1': {'Tomatoes': 4.8, 'Potatoes': 3.7, 'Eggs': 5.79, 'Pork': 16.6, 'Beef': 48.8, 'Orange': 7.2, 'Watermelon': 5.9}, 'prices2': {'Cucumber': 4.7, 'Carrots': 3.0, 'Leek': 4.1, 'Chicken': 10.8, 'Lamb': 39.1, 'Pear': 5.2, 'Banana': 4.3}, '_i46': \"prices = dict([('Tomatoes', 4.8), ('Potatoes', 3.7), ('Eggs', 5.79), \\n               ('Pork', 16.6), ('Beef', 48.8), ('Orange', 7.2), \\n               ('Watermelon', 5.9)])\\n\\nprint(prices.get('Tomatoes'))\\nprices['Tomatoes'] = 4.7\\nprint(prices.get('Tomatoes'))\\nprint()\\n\\nprint(prices.get('Chicken'))\\nprices['Chicken'] = 10.8\\nprint(prices.get('Chicken'))\", '_i47': \"prices = dict([('Tomatoes', 4.8), ('Potatoes', 3.7), ('Eggs', 5.79), \\n               ('Pork', 16.6), ('Beef', 48.8), ('Orange', 7.2), \\n               ('Watermelon', 5.9)])\\n\\nprint(prices.get('Tomatoes'))\\nprices.setdefault('Tomatoes', 4.7)\\nprint(prices.get('Tomatoes'))\\nprint()\\n\\nprint(prices.get('Chicken'))\\nprices.setdefault('Chicken', 10.8)\\nprint(prices.get('Chicken'))\", '_i48': \"prices = dict([('Tomatoes', 4.8), ('Potatoes', 3.7)])\\nprint(prices)\\nprices.update({'Carrot':3.0, 'Leek':4.6})\\nprint(prices)\\nprices |= [('Orange', 7.2),('Apple', 6.9)]\\nprint(prices)\", '_i49': \"prices = dict([('Tomatoes', 4.8), ('Potatoes', 3.7), ('Eggs', 5.79), \\n               ('Pork', 16.6), ('Beef', 48.8), ('Orange', 7.5), \\n               ('Watermelon', 5.9)])\\ndel prices['Tomatoes']\\ndel prices['Potatoes']\\ndel prices['Eggs']\\ndel prices['Pork']\\ndel prices['Beef']\\nprint(prices)\\nprices.__delitem__('Orange')\\nprint(prices)\", '_i50': \"prices = dict([('Tomatoes', 4.8), ('Potatoes', 3.7), ('Eggs', 5.79), \\n               ('Pork', 16.6), ('Beef', 48.8), ('Orange', 7.5), \\n               ('Watermelon', 5.9)])\\nprices['Tomatoes'] = None\\nprices['Potatoes'] = None\\nprices['Eggs'] = None\\nprices['Pork'] = None\\nprices['Beef'] = None\\nprint(prices)\\nprices.clear()\\nprint(prices)\", '_i51': \"prices = dict([('Tomatoes', 4.8), ('Potatoes', 3.7), ('Eggs', 5.79), \\n               ('Pork', 16.6), ('Beef', 48.8), ('Orange', 7.5), \\n               ('Watermelon', 5.9)])\\nprint(len(prices))\\nprint(prices.items())\\nprint(prices.keys())\\nprint(prices.values())\\nprint('Tomatoes' in prices)\\n\\nprint()\\nprint(list(prices.items()))\", '_i52': 'str_num = {0, 1, 2, 3, 4, 5, 6}\\nprint(str_num)\\nstr_num = set(range(100))\\nprint(str_num)\\nstr_num = frozenset(range(100))\\nprint(str_num)\\nstr_num = {str(i) for i in range(100)}\\nprint(str_num)', '_i53': 'def f(x, y):\\n    return x + y\\nprint(f(5, 7))\\ng = f\\nprint()\\n\\ndef f(x, y):\\n    return x * y\\nprint(f(5, 7))\\nprint(g(5, 7))', 'f': <function f at 0x0000027AC68ED4C0>, 'g': <function g at 0x0000027AC683E1F0>, '_i54': 'def f(a, b, c):\\n    return a * 100 + b * 10 + c\\n\\nprint(f(3, 4, 5))\\nprint(f(c=3, b=4, a=5))', '_i55': 'def f(a, b, c, /):\\n    return a * 100 + b * 10 + c\\n\\nprint(f(c=3, b=4, a=5))', '_i56': 'def f(*, a, b, c):\\n    return a * 100 + b * 10 + c\\n\\nprint(f(3, 4, 5))', '_i57': 'def f(a, b, c, *args):\\n    num = a * 100 + b * 10 + c\\n    for i in args:\\n        num = num * 10 + i\\n    return num\\n\\nprint(f(1, 3, 7, 2, 5, 4, 3, 9, 6))', '_i58': 'def f(a, b, c, **kwargs):\\n    return kwargs\\n\\nprint(f(1, 2, 3, d=1, e=2))', '_i59': 'def f(a: int, b: int, c: str):\\n    return a * 100 + b * 10 + c\\n\\nprint(f(1, 2, 3))', '_i60': 'num = [1, 2, 3, 4, 5] \\nprint(num[::-1])', '_i61': 'num = [1, 2, 3, 4, 5] \\nprint(num.reverse())\\nprint(num)', '_i62': \"def f(x):\\n    try:\\n        print('before try')\\n        return 'return try'\\n        print('after try')\\n    except:\\n        pass\\n    finally:\\n        print('before finally')\\n        return 'return finally'\\n        print('after finally')\\n\\nprint(f(0))\", '_i63': 'def f(x):\\n    def g(y):\\n        return x <= y\\n    return g\\n\\ngeq3 = f(3)\\n\\nprint(geq3(2))\\nprint(geq3(3))\\nprint(geq3(4))', 'geq3': <function f.<locals>.g at 0x0000027AC687DD30>, '_i64': \"def concat(*funcs):\\n    def _concat_func(arg):\\n        for func in funcs:\\n            arg = func(arg)\\n        return arg\\n    return _concat_func\\n\\nf = concat(sorted, ' > '.join, print)\\n\\nf(['apple', 'orange', 'banana', 'lemon'])\\nf(['Beijing', 'Shanghai', 'Guangzhou', 'Shenzhen'])\", 'concat': <function concat at 0x0000027AC687D670>, '_i65': 'def f(x, y, z):\\n    return x * 100 + y * 10 + z\\n\\ndef curry3(func):\\n    def _func_x(x):\\n        def _func_y(y):\\n            def _func_z(z):\\n                return func(x, y, z)\\n            return _func_z\\n        return _func_y\\n    return _func_x\\n\\nprint(f)\\nxf = curry3(f) \\nprint(xf)\\nyf = xf(3)\\nprint(yf)\\nzf = yf(1) \\nprint(zf)\\nans = zf(5)\\nprint(ans)', 'curry3': <function curry3 at 0x0000027AC687D700>, 'xf': <function curry3.<locals>._func_x at 0x0000027AC68C2550>, 'yf': <function curry3.<locals>._func_x.<locals>._func_y at 0x0000027AC68C2790>, 'zf': <function curry3.<locals>._func_x.<locals>._func_y.<locals>._func_z at 0x0000027AC68C21F0>, 'ans': 6667778889, '_i66': 'def curry(func):\\n    _arg_count = func.__code__.co_argcount\\n    def _get_curry_func(_args):\\n        def _curry_func(arg):\\n            if len(_args) + 1 == _arg_count:\\n                return func(*_args, arg)\\n            else:\\n                return _get_curry_func(_args + [arg])\\n        return _curry_func\\n    return _get_curry_func([])\\n\\ndef f(x0, x1, x2, x3, x4, x5, x6, x7, x8, x9):\\n    return ((((((((x0 * 10 + x1) * 10 + x2) * 10 + x3) * 10 + x4) * \\n               10 + x5) * 10 + x6) * 10 + x7) * 10 + x8) * 10 + x9\\n\\nx0f = curry(f)\\nprint(x0f)\\nx1f = x0f(6)\\nprint(x1f)\\nx2f = x1f(6)\\nprint(x2f)\\nx3f = x2f(6)\\nprint(x3f)\\nx4f = x3f(7)\\nprint(x4f)\\nx5f = x4f(7)\\nprint(x5f)\\nx6f = x5f(7)\\nprint(x6f)\\nx7f = x6f(8)\\nprint(x7f)\\nx8f = x7f(8)\\nprint(x8f)\\nx9f = x8f(8)\\nprint(x9f)\\nans = x9f(9)\\nprint(ans)', 'curry': <function curry at 0x0000027AC68C2AF0>, 'x0f': <function curry.<locals>._get_curry_func.<locals>._curry_func at 0x0000027AC68C2B80>, 'x1f': <function curry.<locals>._get_curry_func.<locals>._curry_func at 0x0000027AC68C2DC0>, 'x2f': <function curry.<locals>._get_curry_func.<locals>._curry_func at 0x0000027AC68C2EE0>, 'x3f': <function curry.<locals>._get_curry_func.<locals>._curry_func at 0x0000027AC68C2E50>, 'x4f': <function curry.<locals>._get_curry_func.<locals>._curry_func at 0x0000027AC68C2F70>, 'x5f': <function curry.<locals>._get_curry_func.<locals>._curry_func at 0x0000027AC68C25E0>, 'x6f': <function curry.<locals>._get_curry_func.<locals>._curry_func at 0x0000027AC68ED040>, 'x7f': <function curry.<locals>._get_curry_func.<locals>._curry_func at 0x0000027AC68ED0D0>, 'x8f': <function curry.<locals>._get_curry_func.<locals>._curry_func at 0x0000027AC68ED160>, 'x9f': <function curry.<locals>._get_curry_func.<locals>._curry_func at 0x0000027AC68ED1F0>, '_i67': 'glb_a = 1', 'glb_a': 2, '_i68': 'print(glb_a)', '_i69': 'def f():\\n    print(glb_a)\\nf()', '_i70': 'def f():\\n    glb_a =2\\n    print(glb_a)\\nf()\\nprint(glb_a)', '_i71': 'def f():\\n    global glb_a\\n    glb_a =2\\n    print(glb_a)\\nf()\\nprint(glb_a)', '_i72': 'def f():\\n    ans = []\\n    def g(y):\\n        if y is None:\\n            return ans\\n        ans.append(y)\\n    return g\\n\\ng = f()\\ng(0)\\ng(1)\\ng(2)\\ng(3)\\ng(4)\\nprint(g(None))', '_i73': 'def f():\\n    ans = []\\n    def g(y):\\n        if y is None:\\n            return ans\\n        ans += [y]\\n    return g\\n\\ng = f()\\ng(0)\\ng(1)\\ng(2)\\ng(3)\\ng(4)\\nprint(g(None))', '_i74': 'def f(a, b, c, *args):\\n    num = a * 100 + b * 10 + c\\n    for i in args:\\n        num = num * 10 + i\\n    return num\\n\\nprint(f(1, 3, 7, 2, 5, 4, 3, 9, 6))', '_i75': 'def f():\\n    ans = []\\n    def g(y):\\n        nonlocal ans\\n        if y is None:\\n            return ans\\n        ans += [y]\\n    return g\\n\\ng = f()\\ng(0)\\ng(1)\\ng(2)\\ng(3)\\ng(4)\\nprint(g(None))', '_i76': 'def f(x, y):\\n    return x + y\\n\\ndef g():\\n    global f\\n    def f(x, y):\\n        return x * y\\n    \\nprint(f(5, 7))\\ng()\\nprint(f(5, 7))', '_i77': 'print(globals())', '_i78': 'print(locals())\\ndef f(x):\\n    a = 1\\n    b = 2\\n    def g():\\n        pass\\n    print(locals())\\nf(x=0)', '_i79': 'print(locals())\\ndef f(x):\\n    global glb_a\\n    a = 1\\n    b = 2\\n    def g():\\n        pass\\n    print(locals())\\nf(x=0)'}\n",
      "{'x': 0, 'a': 1, 'b': 2, 'g': <function f.<locals>.g at 0x0000027AC68ED4C0>}\n"
     ]
    }
   ],
   "source": [
    "print(locals())\n",
    "def f(x):\n",
    "    global glb_a\n",
    "    a = 1\n",
    "    b = 2\n",
    "    def g():\n",
    "        pass\n",
    "    print(locals())\n",
    "f(x=0)"
   ]
  },
  {
   "cell_type": "code",
   "execution_count": 80,
   "metadata": {},
   "outputs": [
    {
     "name": "stdout",
     "output_type": "stream",
     "text": [
      "1\n",
      "4\n",
      "9\n",
      "16\n",
      "25\n",
      "36\n",
      "49\n",
      "64\n"
     ]
    }
   ],
   "source": [
    "def square():\n",
    "     i = 1\n",
    "     while True:\n",
    "         yield i ** 2\n",
    "         i += 1\n",
    "         \n",
    "for i in square():\n",
    "    print(i)\n",
    "    if i > 50:\n",
    "        break\n"
   ]
  },
  {
   "cell_type": "code",
   "execution_count": 81,
   "metadata": {},
   "outputs": [
    {
     "name": "stdout",
     "output_type": "stream",
     "text": [
      "1\n",
      "2\n",
      "3\n",
      "4\n"
     ]
    }
   ],
   "source": [
    "it = iter([1,2,3,4])\n",
    "for e in it:\n",
    "    print(e)"
   ]
  },
  {
   "cell_type": "code",
   "execution_count": 82,
   "metadata": {},
   "outputs": [
    {
     "name": "stdout",
     "output_type": "stream",
     "text": [
      "0\n",
      "1\n",
      "2\n",
      "3\n",
      "4\n",
      "5\n",
      "6\n",
      "7\n",
      "8\n",
      "9\n"
     ]
    }
   ],
   "source": [
    "it = range(10)\n",
    "for e in it:\n",
    "    print(e)"
   ]
  },
  {
   "cell_type": "code",
   "execution_count": 83,
   "metadata": {},
   "outputs": [
    {
     "name": "stdout",
     "output_type": "stream",
     "text": [
      "0\n",
      "1\n",
      "2\n",
      "3\n",
      "4\n",
      "5\n",
      "6\n",
      "7\n",
      "8\n",
      "9\n"
     ]
    }
   ],
   "source": [
    "it = (i for i in range(10))\n",
    "for e in it:\n",
    "    print(e)"
   ]
  },
  {
   "cell_type": "code",
   "execution_count": 84,
   "metadata": {},
   "outputs": [
    {
     "name": "stdout",
     "output_type": "stream",
     "text": [
      "(0, 'P')\n",
      "(1, 'y')\n",
      "(2, 't')\n",
      "(3, 'h')\n",
      "(4, 'o')\n",
      "(5, 'n')\n"
     ]
    }
   ],
   "source": [
    "for e in enumerate('Python'):\n",
    "    print(e)\n"
   ]
  },
  {
   "cell_type": "code",
   "execution_count": 85,
   "metadata": {},
   "outputs": [
    {
     "name": "stdout",
     "output_type": "stream",
     "text": [
      "0 - P\n",
      "1 - y\n",
      "2 - t\n",
      "3 - h\n",
      "4 - o\n",
      "5 - n\n"
     ]
    }
   ],
   "source": [
    "for i, ch in enumerate('Python'):\n",
    "    print(i, '-', ch)"
   ]
  },
  {
   "cell_type": "code",
   "execution_count": 86,
   "metadata": {},
   "outputs": [
    {
     "name": "stdout",
     "output_type": "stream",
     "text": [
      "6\n",
      "7\n",
      "8\n",
      "9\n"
     ]
    }
   ],
   "source": [
    "it = filter(lambda x: x > 5, range(10))\n",
    "for e in it:\n",
    "    print(e)"
   ]
  },
  {
   "cell_type": "code",
   "execution_count": 87,
   "metadata": {},
   "outputs": [
    {
     "name": "stdout",
     "output_type": "stream",
     "text": [
      "('A', 'a', '1')\n",
      "('B', 'b', '2')\n",
      "('C', 'c', '3')\n",
      "('D', 'd', '4')\n",
      "('E', 'e', '5')\n",
      "('F', 'f', '6')\n",
      "('G', 'g', '7')\n"
     ]
    }
   ],
   "source": [
    "it = zip('ABCDEFG', 'abcdefg', '1234567')\n",
    "for e in it:\n",
    "    print(e)"
   ]
  },
  {
   "cell_type": "code",
   "execution_count": 88,
   "metadata": {},
   "outputs": [
    {
     "name": "stdout",
     "output_type": "stream",
     "text": [
      "('A', '1')\n",
      "('A', '2')\n",
      "('B', '1')\n",
      "('B', '2')\n"
     ]
    }
   ],
   "source": [
    "import itertools\n",
    "it = itertools.product('AB','12')\n",
    "for e in it:\n",
    "    print(e)"
   ]
  },
  {
   "cell_type": "code",
   "execution_count": 89,
   "metadata": {},
   "outputs": [
    {
     "name": "stdout",
     "output_type": "stream",
     "text": [
      "('A', 'A', 'A')\n",
      "('A', 'A', 'B')\n",
      "('A', 'A', 'C')\n",
      "('A', 'B', 'A')\n",
      "('A', 'B', 'B')\n",
      "('A', 'B', 'C')\n",
      "('A', 'C', 'A')\n",
      "('A', 'C', 'B')\n",
      "('A', 'C', 'C')\n",
      "('B', 'A', 'A')\n",
      "('B', 'A', 'B')\n",
      "('B', 'A', 'C')\n",
      "('B', 'B', 'A')\n",
      "('B', 'B', 'B')\n",
      "('B', 'B', 'C')\n",
      "('B', 'C', 'A')\n",
      "('B', 'C', 'B')\n",
      "('B', 'C', 'C')\n",
      "('C', 'A', 'A')\n",
      "('C', 'A', 'B')\n",
      "('C', 'A', 'C')\n",
      "('C', 'B', 'A')\n",
      "('C', 'B', 'B')\n",
      "('C', 'B', 'C')\n",
      "('C', 'C', 'A')\n",
      "('C', 'C', 'B')\n",
      "('C', 'C', 'C')\n"
     ]
    }
   ],
   "source": [
    "import itertools\n",
    "it = itertools.product('ABC', repeat=3)\n",
    "for e in it:\n",
    "    print(e)"
   ]
  },
  {
   "cell_type": "code",
   "execution_count": 90,
   "metadata": {},
   "outputs": [
    {
     "name": "stdout",
     "output_type": "stream",
     "text": [
      "('A', 'B', 'C', 'D')\n",
      "('A', 'B', 'D', 'C')\n",
      "('A', 'C', 'B', 'D')\n",
      "('A', 'C', 'D', 'B')\n",
      "('A', 'D', 'B', 'C')\n",
      "('A', 'D', 'C', 'B')\n",
      "('B', 'A', 'C', 'D')\n",
      "('B', 'A', 'D', 'C')\n",
      "('B', 'C', 'A', 'D')\n",
      "('B', 'C', 'D', 'A')\n",
      "('B', 'D', 'A', 'C')\n",
      "('B', 'D', 'C', 'A')\n",
      "('C', 'A', 'B', 'D')\n",
      "('C', 'A', 'D', 'B')\n",
      "('C', 'B', 'A', 'D')\n",
      "('C', 'B', 'D', 'A')\n",
      "('C', 'D', 'A', 'B')\n",
      "('C', 'D', 'B', 'A')\n",
      "('D', 'A', 'B', 'C')\n",
      "('D', 'A', 'C', 'B')\n",
      "('D', 'B', 'A', 'C')\n",
      "('D', 'B', 'C', 'A')\n",
      "('D', 'C', 'A', 'B')\n",
      "('D', 'C', 'B', 'A')\n"
     ]
    }
   ],
   "source": [
    "import itertools\n",
    "it = itertools.permutations('ABCD')\n",
    "for e in it:\n",
    "    print(e)"
   ]
  },
  {
   "cell_type": "code",
   "execution_count": 91,
   "metadata": {},
   "outputs": [
    {
     "name": "stdout",
     "output_type": "stream",
     "text": [
      "('A', 'B', 'C')\n",
      "('A', 'B', 'D')\n",
      "('A', 'C', 'B')\n",
      "('A', 'C', 'D')\n",
      "('A', 'D', 'B')\n",
      "('A', 'D', 'C')\n",
      "('B', 'A', 'C')\n",
      "('B', 'A', 'D')\n",
      "('B', 'C', 'A')\n",
      "('B', 'C', 'D')\n",
      "('B', 'D', 'A')\n",
      "('B', 'D', 'C')\n",
      "('C', 'A', 'B')\n",
      "('C', 'A', 'D')\n",
      "('C', 'B', 'A')\n",
      "('C', 'B', 'D')\n",
      "('C', 'D', 'A')\n",
      "('C', 'D', 'B')\n",
      "('D', 'A', 'B')\n",
      "('D', 'A', 'C')\n",
      "('D', 'B', 'A')\n",
      "('D', 'B', 'C')\n",
      "('D', 'C', 'A')\n",
      "('D', 'C', 'B')\n"
     ]
    }
   ],
   "source": [
    "import itertools\n",
    "it = itertools.permutations('ABCD', 3)\n",
    "for e in it:\n",
    "    print(e)"
   ]
  },
  {
   "cell_type": "code",
   "execution_count": 92,
   "metadata": {},
   "outputs": [
    {
     "name": "stdout",
     "output_type": "stream",
     "text": [
      "('A', 'B')\n",
      "('A', 'C')\n",
      "('A', 'D')\n",
      "('B', 'C')\n",
      "('B', 'D')\n",
      "('C', 'D')\n"
     ]
    }
   ],
   "source": [
    "import itertools\n",
    "it = itertools.combinations('ABCD',2)\n",
    "for e in it:\n",
    "    print(e)"
   ]
  },
  {
   "cell_type": "code",
   "execution_count": 93,
   "metadata": {},
   "outputs": [
    {
     "name": "stdout",
     "output_type": "stream",
     "text": [
      "('A', 'A')\n",
      "('A', 'B')\n",
      "('A', 'C')\n",
      "('A', 'D')\n",
      "('B', 'B')\n",
      "('B', 'C')\n",
      "('B', 'D')\n",
      "('C', 'C')\n",
      "('C', 'D')\n",
      "('D', 'D')\n"
     ]
    }
   ],
   "source": [
    "import itertools\n",
    "it = itertools.combinations_with_replacement('ABCD',2)\n",
    "for e in it:\n",
    "    print(e)"
   ]
  },
  {
   "cell_type": "code",
   "execution_count": 94,
   "metadata": {},
   "outputs": [
    {
     "name": "stdout",
     "output_type": "stream",
     "text": [
      "<__main__.mycls object at 0x0000027AC6573DF0>\n"
     ]
    }
   ],
   "source": [
    "class mycls:\n",
    "    def __init__(self):\n",
    "        pass\n",
    "    \n",
    "    def func(self):\n",
    "        print(self)\n",
    "\n",
    "mycls().func()"
   ]
  },
  {
   "cell_type": "code",
   "execution_count": 95,
   "metadata": {},
   "outputs": [
    {
     "name": "stdout",
     "output_type": "stream",
     "text": [
      "<class '__main__.mycls'>\n"
     ]
    }
   ],
   "source": [
    "class mycls:\n",
    "    def __init__(self):\n",
    "        pass\n",
    "    \n",
    "    @classmethod\n",
    "    def func(self):\n",
    "        print(self)\n",
    "\n",
    "mycls().func()"
   ]
  },
  {
   "cell_type": "code",
   "execution_count": 96,
   "metadata": {},
   "outputs": [
    {
     "name": "stdout",
     "output_type": "stream",
     "text": [
      "<class '__main__.mycls'>\n"
     ]
    }
   ],
   "source": [
    "def cls(func):\n",
    "    def _cls_func(self, *args, **kwargs):\n",
    "        return func(self.__class__, *args, **kwargs)\n",
    "    return _cls_func\n",
    "\n",
    "class mycls:\n",
    "    def __init__(self):\n",
    "        pass\n",
    "    \n",
    "    @classmethod\n",
    "    def func(self):\n",
    "        print(self)\n",
    "\n",
    "mycls().func()\n"
   ]
  },
  {
   "cell_type": "code",
   "execution_count": 97,
   "metadata": {},
   "outputs": [
    {
     "name": "stdout",
     "output_type": "stream",
     "text": [
      "<class '__main__.mycls'>\n"
     ]
    }
   ],
   "source": [
    "def cls(func):\n",
    "    cls_name = func.__code__.co_varnames[0]\n",
    "    local ={'func': func, '_cls_func': None} | globals()\n",
    "    exec(f'''def _cls_func({cls_name}, *args, **kwargs):\n",
    "    return func({cls_name}.__class__, *args, **kwargs)''', local)\n",
    "    return local['_cls_func']\n",
    "\n",
    "class mycls:\n",
    "    def __init__(self):\n",
    "        pass\n",
    "    \n",
    "    @cls\n",
    "    def func(self):\n",
    "        print(self)\n",
    "\n",
    "mycls().func()\n"
   ]
  },
  {
   "cell_type": "code",
   "execution_count": 98,
   "metadata": {},
   "outputs": [
    {
     "name": "stdout",
     "output_type": "stream",
     "text": [
      "102334155\n"
     ]
    }
   ],
   "source": [
    "def fibonacci(n):\n",
    "    return fibonacci(n-1)+fibonacci(n-2) if n > 2 else 1\n",
    "\n",
    "print(fibonacci(40))"
   ]
  },
  {
   "cell_type": "code",
   "execution_count": 99,
   "metadata": {},
   "outputs": [
    {
     "name": "stdout",
     "output_type": "stream",
     "text": [
      "102334155\n",
      "43466557686937456435688527675040625802564660517371780402481729089536555417949051890403879840079255169295922593080322634775209689623239873322471161642996440906533187938298969649928516003704476137795166849228875\n"
     ]
    }
   ],
   "source": [
    "import functools\n",
    "@functools.cache\n",
    "def fibonacci_cache(n):\n",
    "    return fibonacci_cache(n-1)+fibonacci_cache(n-2) if n > 2 else 1\n",
    "\n",
    "print(fibonacci_cache(40))\n",
    "print(fibonacci_cache(1000))"
   ]
  },
  {
   "cell_type": "code",
   "execution_count": 392,
   "metadata": {},
   "outputs": [
    {
     "name": "stdout",
     "output_type": "stream",
     "text": [
      "43466557686937456435688527675040625802564660517371780402481729089536555417949051890403879840079255169295922593080322634775209689623239873322471161642996440906533187938298969649928516003704476137795166849228875\n"
     ]
    }
   ],
   "source": [
    "import functools\n",
    "@functools.cache\n",
    "def fibonacci_cache(n):\n",
    "    return fibonacci_cache(n-1)+fibonacci_cache(n-2) if n > 2 else 1\n",
    "\n",
    "print(fibonacci_cache(1000))"
   ]
  },
  {
   "cell_type": "code",
   "execution_count": 1,
   "metadata": {},
   "outputs": [
    {
     "name": "stdout",
     "output_type": "stream",
     "text": [
      "a + b\ta - b\ta * b\ta / b\n",
      "621/136\t-93/136\t693/136\t88/119\n",
      "5 + b\t5 - b\t5 * b\t5 / b\ta ** 2\n",
      "61/8\t19/8\t105/8\t40/21\t1089/289\n",
      "a + 5\ta - 5\ta * 5\ta / 5\tb ** 3\n",
      "61/8\t19/8\t105/8\t40/21\t9261/512\n",
      "\n",
      "+b\t-b\tabs(b)\n",
      "21/8\t-21/8\t21/8\n",
      "\n",
      "a > b\ta < b\ta == b\ta != b\ta >= b\ta <= b\n",
      "False\tTrue\tFalse\tTrue\tFalse\tTrue\n",
      "a > 1\ta < 1\ta == 1\ta != 1\ta >= 1\ta <= 1\n",
      "False\tTrue\tFalse\tTrue\tFalse\tTrue\n",
      "2 > b\t2 < b\t2 == b\t2 != b\t2 >= b\t2 <= b\n",
      "\n",
      "ceil(a)\tfloor(b)\n",
      "2\t2\n",
      "\n",
      "int(a)\tfloat(b)\tcomplex(b)\n",
      "1   \t2.625   \t(2.625+0j)\n"
     ]
    }
   ],
   "source": [
    "# A simple fraction class that implements common operations between fractions, or between fractions and integers\n",
    "# Note: Pure dazzling skills, do not learn such coding style. Just make sure you understand.\n",
    "import functools\n",
    "import math\n",
    "\n",
    "def gcd(x, y):\n",
    "    \"\"\"Calculate the greatest common divisor by recursion, and the sign of result is the same as y.\"\"\"\n",
    "    return gcd(y, x % y) if x % y else y\n",
    "\n",
    "\n",
    "def define(clsA, clss:list, name:str, ret:function):\n",
    "    \"\"\"Add a method to the class clsA, which performs a type check and then directly calculates the result based on the anonymous function ret.\"\"\"\n",
    "    def _func(self, *other): # other 是这个ret函数也即_func函数的参数序列,实际上_func函数对ret函数的参数做了进一步的处理即上面英文所说的type check (_func 是一个返回函数 返回了函数ret)\n",
    "        other = list(other)\n",
    "        # 这里的逻辑就是检查所有clss中所有元素的类型,如果_func的参数不符合clss中对应位置的类型,就强制类型转换\n",
    "        # 就像这个分数类,由于加减乘除正常都应为 a._func(b) 的类型,即第二个操作对象只有一个 所以 clss中只有一个元素 由于 正负这种 没有第二个操作对象,所以clss为空\n",
    "        for i, cls in enumerate(clss):\n",
    "            if not isinstance(other[i], cls): other[i] = cls(other[i])\n",
    "        return ret(self, *other)\n",
    "    exec(f'clsA.{name}=_func')\n",
    "\n",
    "\n",
    "class frac:\n",
    "    def __init__(self, nume, deno=1):\n",
    "        \"\"\"Create a new score object, ensuring that it is simple and has a positive denominator.\"\"\"\n",
    "        if not (isinstance(nume, int) and isinstance(deno, int)): raise TypeError \n",
    "        d = gcd(nume, deno)\n",
    "        self.nume, self.deno = nume // d, deno // d\n",
    "\n",
    "\n",
    "\"\"\"The following implementation of addition, subtraction, multiplication, and division can only perform operations between fractions and between fractions and integers.\"\"\"\n",
    "define(frac, [frac], '__add__'     , (lambda a, b: frac(a.nume * b.deno + a.deno * b.nume, a.deno * b.deno)))\n",
    "define(frac, [frac], '__sub__'     , (lambda a, b: frac(a.nume * b.deno - a.deno * b.nume, a.deno * b.deno)))\n",
    "define(frac, [frac], '__mul__'     , (lambda a, b: frac(a.nume * b.nume                  , a.deno * b.deno)))\n",
    "define(frac, [frac], '__truediv__' , (lambda a, b: frac(a.nume * b.deno                  , a.deno * b.nume)))\n",
    "define(frac, [frac], '__radd__'    , (lambda a, b: frac(a.deno * b.nume + a.nume * b.deno, a.deno * b.deno)))\n",
    "define(frac, [frac], '__rsub__'    , (lambda a, b: frac(a.deno * b.nume - a.nume * b.deno, a.deno * b.deno)))\n",
    "define(frac, [frac], '__rmul__'    , (lambda a, b: frac(a.nume * b.nume                  , a.deno * b.deno)))\n",
    "define(frac, [frac], '__rtruediv__', (lambda a, b: frac(a.deno * b.nume                  , a.nume * b.deno)))\n",
    "\n",
    "\"\"\"The following implementation of power can only perform operations between fractions and integers.\"\"\"\n",
    "define(frac, [int ], '__pow__'     , (lambda a, b: frac(a.nume ** b                      , a.deno ** b    )))\n",
    "\n",
    "\"\"\"The following implements positive, negative, and absolute values.\"\"\"\n",
    "define(frac, [    ], '__pos__'     , (lambda a   : frac(a.nume                           , a.deno         )))\n",
    "define(frac, [    ], '__neg__'     , (lambda a   : frac(a.nume.__neg__()                 , a.deno         )))\n",
    "define(frac, [    ], '__abs__'     , (lambda a   : frac(a.nume.__abs__()                 , a.deno         )))\n",
    "\n",
    "\"\"\"The following implements comparison methods\"\"\"\n",
    "define(frac, [frac], '__gt__'      ,  lambda a, b:      a.nume * b.deno > a.deno * b.nume                   )\n",
    "frac = functools.total_ordering(frac)\n",
    "\n",
    "\"\"\"The following implements rounding methods\"\"\"\n",
    "define(frac, [    ], '__ceil__'    ,  lambda a   :      (a.nume - 1) // a.deno + 1                          )\n",
    "define(frac, [    ], '__floor__'   ,  lambda a   :      a.nume // a.deno                                    )\n",
    "\n",
    "\"\"\"The following implements type conversion methods\"\"\"\n",
    "define(frac, [    ], '__int__'     ,  lambda a   :      a.nume // a.deno                                    )\n",
    "define(frac, [    ], '__float__'   ,  lambda a   :      a.nume / a.deno                                     )\n",
    "define(frac, [    ], '__str__'     ,  lambda a   :      f'{a.nume}/{a.deno}'                                )\n",
    "\n",
    "\n",
    "\"\"\"Test cases\"\"\"\n",
    "a = frac(33,17)\n",
    "b = frac(21,8)\n",
    "print('a + b', 'a - b', 'a * b', 'a / b', sep='\\t')\n",
    "print(a + b, a - b, a * b, a / b, sep='\\t')\n",
    "print('5 + b', '5 - b', '5 * b', '5 / b', 'a ** 2', sep='\\t')\n",
    "print(5 + b, 5 - b, 5 * b, 5 / b, a ** 2, sep = '\\t')\n",
    "print('a + 5', 'a - 5', 'a * 5', 'a / 5', 'b ** 3', sep='\\t')\n",
    "print(5 + b, 5 - b, 5 * b, 5 / b, b ** 3, sep = '\\t')\n",
    "print()\n",
    "print('+b', '-b', 'abs(b)', sep='\\t')\n",
    "print(+b, -b, abs(b), sep='\\t')\n",
    "print()\n",
    "print('a > b', 'a < b', 'a == b', 'a != b', 'a >= b', 'a <= b', sep='\\t')\n",
    "print(a > b, a < b, a == b, a != b, a >= b, a <= b, sep = '\\t')\n",
    "print('a > 1', 'a < 1', 'a == 1', 'a != 1', 'a >= 1', 'a <= 1', sep='\\t')\n",
    "print(a > b, a < b, a == b, a != b, a >= b, a <= b, sep = '\\t')\n",
    "print('2 > b', '2 < b', '2 == b', '2 != b', '2 >= b', '2 <= b', sep='\\t')\n",
    "print()\n",
    "print('ceil(a)', 'floor(b)', sep='\\t')\n",
    "print(math.ceil(a), b.__floor__(), sep='\\t')\n",
    "print()\n",
    "print('int(a)', 'float(b)', 'complex(b)', sep='\\t')\n",
    "print(int(a), float(b), complex(b), sep='   \\t')"
   ]
  }
 ],
 "metadata": {
  "kernelspec": {
   "display_name": "Python 3",
   "language": "python",
   "name": "python3"
  },
  "language_info": {
   "codemirror_mode": {
    "name": "ipython",
    "version": 3
   },
   "file_extension": ".py",
   "mimetype": "text/x-python",
   "name": "python",
   "nbconvert_exporter": "python",
   "pygments_lexer": "ipython3",
   "version": "3.10.9"
  },
  "orig_nbformat": 4,
  "vscode": {
   "interpreter": {
    "hash": "ed9cbe6b832d7302034a490386741861c08076763132f2375c3230054ad11dc1"
   }
  }
 },
 "nbformat": 4,
 "nbformat_minor": 2
}
