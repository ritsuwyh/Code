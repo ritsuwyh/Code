{
 "cells": [
  {
   "cell_type": "code",
   "execution_count": null,
   "metadata": {},
   "outputs": [],
   "source": [
    "num = [1, 2, 3] *3\n",
    "num\n",
    "print(id(num[0]), id(num[1]), id(num[2]))\n",
    "print(id(num[3]), id(num[4]), id(num[5]))"
   ]
  },
  {
   "cell_type": "code",
   "execution_count": null,
   "metadata": {},
   "outputs": [],
   "source": [
    "help(id)"
   ]
  },
  {
   "cell_type": "code",
   "execution_count": null,
   "metadata": {},
   "outputs": [],
   "source": [
    "num[3] = 4\n",
    "print(num)"
   ]
  },
  {
   "cell_type": "code",
   "execution_count": null,
   "metadata": {},
   "outputs": [],
   "source": [
    "num = [[1, 2, 3]] * 2\n",
    "print(num)\n",
    "num[0][0] = 0\n",
    "print(num)\n",
    "num[1][0] = 4\n",
    "print(num)\n"
   ]
  },
  {
   "cell_type": "code",
   "execution_count": null,
   "metadata": {},
   "outputs": [],
   "source": [
    "prices = [('Tomatoes', 4.8), ('Potatoes', 3.7), ('Cucumber', 4.7),\n",
    "          ('Carrots', 3.0), ('Leek', 4.1), ('Eggs', 5.79), ('Chicken', 10.8), \n",
    "          ('Pork', 16.6), ('Beef', 48.8), ('Lamb', 39.1), ('Orange', 7.5), \n",
    "          ('Watermelon', 5.9), ('Pear', 5.2), ('Banana', 4.3)]\n",
    "print(prices)"
   ]
  },
  {
   "cell_type": "code",
   "execution_count": null,
   "metadata": {},
   "outputs": [],
   "source": [
    "prices[0][1] = 4.6"
   ]
  },
  {
   "cell_type": "code",
   "execution_count": null,
   "metadata": {},
   "outputs": [],
   "source": [
    "eg_list = ['element1', 'element2', 'element3'] \n",
    "print(eg_list, '\\t\\t\\t', id(eg_list))\n",
    "eg_list.append('element_4')\n",
    "print(eg_list, '\\t', id(eg_list))\n",
    "print()\n",
    "\n",
    "eg_dict = {'key_1': 1, 'key_2': 2, 'key_3': 3}\n",
    "print(eg_dict, '\\t\\t\\t', id(eg_dict))\n",
    "eg_dict['element_4'] = 4\n",
    "print(eg_dict, '\\t', id(eg_dict))\n",
    "print()\n",
    "\n",
    "eg_set  = {'element1', 'element2', 'element3'}\n",
    "print(eg_set , '\\t\\t\\t', id(eg_set ))\n",
    "eg_set.add('element_4')\n",
    "print(eg_set , '\\t', id(eg_set ))"
   ]
  },
  {
   "cell_type": "code",
   "execution_count": null,
   "metadata": {},
   "outputs": [],
   "source": [
    "eg_int = 10\n",
    "print(eg_int, id(eg_int))\n",
    "eg_int += 2\n",
    "print(eg_int, id(eg_int))\n",
    "print()\n",
    "\n",
    "eg_tuple = (1, 3, 5, 7)\n",
    "print(eg_tuple, '\\t\\t', id(eg_tuple))\n",
    "eg_tuple += (9, 11)\n",
    "print(eg_tuple, '\\t', id(eg_tuple))"
   ]
  },
  {
   "cell_type": "code",
   "execution_count": null,
   "metadata": {},
   "outputs": [],
   "source": [
    "ch_list = ['a','c','a','c']\n",
    "print(ch_list)\n",
    "\n",
    "ch_list = list('acac')\n",
    "print(ch_list)\n",
    "\n",
    "ch_list = a = [i for i in 'abcabc' if i != 'b']\n",
    "print(ch_list)\n",
    "\n",
    "ch_list = []\n",
    "for ch in 'abcabc':\n",
    "    if ch != 'b':\n",
    "        ch_list.append(ch)\n",
    "print(ch_list)"
   ]
  },
  {
   "cell_type": "code",
   "execution_count": null,
   "metadata": {},
   "outputs": [],
   "source": [
    "ch_tuple = ('a', 'c', 'a', 'c')\n",
    "print(ch_tuple)\n",
    "\n",
    "ch_tuple = 'a', 'c', 'a', 'c'\n",
    "print(ch_tuple)\n",
    "\n",
    "ch_tuple = tuple('acac')\n",
    "print(ch_tuple)\n",
    "\n",
    "ch_tuple = tuple(['a', 'c', 'a', 'c'])\n",
    "print(ch_tuple)"
   ]
  },
  {
   "cell_type": "code",
   "execution_count": null,
   "metadata": {},
   "outputs": [],
   "source": [
    "ch_generator = (i for i in 'abcabc' if i != 'b')\n",
    "print(ch_generator)"
   ]
  },
  {
   "cell_type": "code",
   "execution_count": null,
   "metadata": {},
   "outputs": [],
   "source": [
    "lv = ['Excellent', 'Good     ', 'Medium   ', 'Pass     ', 'Fail     ']\n",
    "print('\\033[32mlv[ 0] =\\033[0m', lv[0])\n",
    "print('\\033[32mlv[ 1] =\\033[0m', lv[1])\n",
    "print('\\033[32mlv[ 2] =\\033[0m', lv[2])\n",
    "print('\\033[32mlv[ 3] =\\033[0m', lv[3])\n",
    "print('\\033[32mlv[ 4] =\\033[0m', lv[4])\n",
    "print()\n",
    "\n",
    "print('\\033[32mlv[-1] =\\033[0m', lv[-1])\n",
    "print('\\033[32mlv[-2] =\\033[0m', lv[-2])\n",
    "print('\\033[32mlv[-3] =\\033[0m', lv[-3])\n",
    "print('\\033[32mlv[-4] =\\033[0m', lv[-4])\n",
    "print('\\033[32mlv[-5] =\\033[0m', lv[-5])"
   ]
  },
  {
   "cell_type": "code",
   "execution_count": null,
   "metadata": {},
   "outputs": [],
   "source": [
    "lv = ['Excellent', 'Good     ', 'Medium   ', 'Pass     ', 'Fail     ']\n",
    "print('\\033[32mlv[  : 3]    =\\033[0m', lv[:3])\n",
    "print('\\033[32mlv[-3:  ]    =\\033[0m', lv[-3:])\n",
    "print('\\033[32mlv[ 1: 4]    =\\033[0m', lv[1:4])\n",
    "print('\\033[32mlv[ 1:-1]    =\\033[0m', lv[1:-1])\n",
    "print('\\033[32mlv[  :  ]    =\\033[0m', lv[:])\n",
    "print()\n",
    "\n",
    "print('\\033[32mlv[  :  : 2] =\\033[0m', lv[::2])\n",
    "print('\\033[32mlv[ 1:  : 2] =\\033[0m', lv[1::2])\n",
    "print('\\033[32mlv[  :  :-1] =\\033[0m', lv[::-1])\n",
    "print('\\033[32mlv[ 3: 0:-1] =\\033[0m', lv[3:0:-1])\n",
    "print()"
   ]
  },
  {
   "cell_type": "code",
   "execution_count": null,
   "metadata": {},
   "outputs": [],
   "source": [
    "lv = ['Excellent', 'Good     ', 'Medium   ', 'Pass     ', 'Fail     ']\n",
    "print('\\033[32mlv[ 9]    =\\033[0m', lv[9])"
   ]
  },
  {
   "cell_type": "code",
   "execution_count": null,
   "metadata": {},
   "outputs": [],
   "source": [
    "lv = ['Excellent', 'Good     ', 'Medium   ', 'Pass     ', 'Fail     ']\n",
    "print('\\033[32mlv[ 2: 9]    =\\033[0m', lv[2:9])\n",
    "print('\\033[32mlv[-9:-2]    =\\033[0m', lv[-9:-2])\n",
    "print('\\033[32mlv[ 3: 2]    =\\033[0m', lv[3:2])\n",
    "print('\\033[32mlv[ 9:  :-1] =\\033[0m', lv[9::-1])"
   ]
  },
  {
   "cell_type": "code",
   "execution_count": null,
   "metadata": {},
   "outputs": [],
   "source": [
    "a, b, c = 1, 2, 3\n",
    "print(a, b, c)\n",
    "a, b, c = c, a, b\n",
    "print(a, b, c)"
   ]
  },
  {
   "cell_type": "code",
   "execution_count": null,
   "metadata": {},
   "outputs": [],
   "source": [
    "s = list('Pthon')\n",
    "print(s) \n",
    "s.insert(1, 'y')\n",
    "print(s)"
   ]
  },
  {
   "cell_type": "code",
   "execution_count": null,
   "metadata": {},
   "outputs": [],
   "source": [
    "s = list('Pthon')\n",
    "args = (1, 'y')\n",
    "print(s) \n",
    "s.insert(*args)\n",
    "print(s)"
   ]
  },
  {
   "cell_type": "code",
   "execution_count": null,
   "metadata": {},
   "outputs": [],
   "source": [
    "a, b = 4, 5 \n",
    "eg_tuple = 1, 3 if a > b else 2, 4\n",
    "print(eg_tuple)\n",
    "eg_tuple = (1, 3) if a > b else (2, 4)\n",
    "print(eg_tuple)"
   ]
  },
  {
   "cell_type": "code",
   "execution_count": null,
   "metadata": {},
   "outputs": [],
   "source": [
    "num = [1, 2, 3, 4, 5]\n",
    "print(num)\n",
    "num.append(6)\n",
    "print(num)\n",
    "num.extend([7, 8])\n",
    "print(num)\n",
    "num += range(9, 12)\n",
    "print(num)\n",
    "num.insert(1, 0)\n",
    "print(num)"
   ]
  },
  {
   "cell_type": "code",
   "execution_count": null,
   "metadata": {},
   "outputs": [],
   "source": [
    "num = [1, 2, 3, 4, 5, 4, 3, 2, 1]\n",
    "print(num)\n",
    "num.remove(2)\n",
    "print(num)\n",
    "num.pop()\n",
    "print(num)\n",
    "num.clear()\n",
    "print(num)"
   ]
  },
  {
   "cell_type": "code",
   "execution_count": null,
   "metadata": {},
   "outputs": [],
   "source": [
    "num1 = [31, 12, 79, 46, 55]\n",
    "num2 = [26, 27, 48]\n",
    "print(num1 + num2)\n",
    "print(num1 * 2) \n",
    "num1.reverse()\n",
    "print(num1)\n",
    "num1.sort(key=(lambda x:x%10), reverse=True)\n",
    "print(num1)"
   ]
  },
  {
   "cell_type": "code",
   "execution_count": null,
   "metadata": {},
   "outputs": [],
   "source": [
    "num1 = [1, 1, 1, 2, 7, 11]\n",
    "num2 = [1, 1, 4]\n",
    "print(len(num1))\n",
    "print(num1 < num2)\n",
    "print(num1.count(1))\n",
    "print(7 in num1)\n",
    "print(num1.index(2))"
   ]
  },
  {
   "cell_type": "code",
   "execution_count": null,
   "metadata": {},
   "outputs": [],
   "source": [
    "num1 = [0, (1,), [2, 3]]\n",
    "num2 = num1.copy()\n",
    "print(num1, id(num1), id(num1[0]), id(num1[1]), id(num1[2]))\n",
    "print(num2, id(num2), id(num2[0]), id(num2[1]), id(num2[2]))"
   ]
  },
  {
   "cell_type": "code",
   "execution_count": null,
   "metadata": {},
   "outputs": [],
   "source": [
    "import copy\n",
    "num1 = [0, (1,), [2, 3]]\n",
    "num2 = copy.deepcopy(num1)\n",
    "print(num1, id(num1), id(num1[0]), id(num1[1]), id(num1[2]))\n",
    "print(num2, id(num2), id(num2[0]), id(num2[1]), id(num2[2]))"
   ]
  },
  {
   "cell_type": "code",
   "execution_count": null,
   "metadata": {},
   "outputs": [],
   "source": [
    "num1 = num1[0] = [0]\n",
    "print(num1)\n",
    "num2 = copy.deepcopy(num1)\n",
    "print(num1, id(num1), id(num1[0]), id(num1[0][0]), id(num1[0][0][0]))\n",
    "print(num2, id(num2), id(num2[0]), id(num2[0][0]), id(num2[0][0][0]))"
   ]
  },
  {
   "cell_type": "code",
   "execution_count": null,
   "metadata": {},
   "outputs": [],
   "source": [
    "prices = {'Tomatoes': 4.8, 'Potatoes': 3.7, 'Eggs': 5.79, 'Pork': 16.6, \n",
    "          'Beef': 48.8, 'Orange': 7.2, 'Watermelon': 5.9}\n",
    "print(prices)\n",
    "prices = dict([('Tomatoes', 4.8), ('Potatoes', 3.7), ('Eggs', 5.79), \n",
    "               ('Pork', 16.6), ('Beef', 48.8), ('Orange', 7.2), \n",
    "               ('Watermelon', 5.9)])\n",
    "print(prices)\n"
   ]
  },
  {
   "cell_type": "code",
   "execution_count": null,
   "metadata": {},
   "outputs": [],
   "source": [
    "str_num = {str(i): i for i in range(100)}\n",
    "print(str_num)\n",
    "test_dict = dict.fromkeys('Python', 1)\n",
    "print(test_dict)\n"
   ]
  },
  {
   "cell_type": "code",
   "execution_count": null,
   "metadata": {},
   "outputs": [],
   "source": [
    "prices = dict([('Tomatoes', 4.8), ('Potatoes', 3.7), ('Eggs', 5.79), \n",
    "               ('Pork', 16.6), ('Beef', 48.8), ('Orange', 7.2), \n",
    "               ('Watermelon', 5.9)])\n",
    "print(prices['Tomatoes'])\n",
    "print(prices.get('Tomatoes'))\n"
   ]
  },
  {
   "cell_type": "code",
   "execution_count": null,
   "metadata": {},
   "outputs": [],
   "source": [
    "prices = dict([('Tomatoes', 4.8), ('Potatoes', 3.7), ('Eggs', 5.79), \n",
    "               ('Pork', 16.6), ('Beef', 48.8), ('Orange', 7.2), \n",
    "               ('Watermelon', 5.9)])\n",
    "print(prices['Apple'])"
   ]
  },
  {
   "cell_type": "code",
   "execution_count": null,
   "metadata": {},
   "outputs": [],
   "source": [
    "prices = dict([('Tomatoes', 4.8), ('Potatoes', 3.7), ('Eggs', 5.79), \n",
    "               ('Pork', 16.6), ('Beef', 48.8), ('Orange', 7.2), \n",
    "               ('Watermelon', 5.9)])\n",
    "print(prices.get('Apple'))"
   ]
  },
  {
   "cell_type": "code",
   "execution_count": null,
   "metadata": {},
   "outputs": [],
   "source": [
    "prices1 = dict([('Tomatoes', 4.8), ('Potatoes', 3.7), ('Eggs', 5.79), \n",
    "                ('Pork', 16.6), ('Beef', 48.8), ('Orange', 7.2), \n",
    "                ('Watermelon', 5.9)])\n",
    "prices2 = dict([('Cucumber', 4.7), ('Carrots', 3.0), ('Leek', 4.1), \n",
    "                ('Chicken', 10.8), ('Lamb', 39.1),  ('Pear', 5.2), \n",
    "                ('Banana', 4.3)])\n",
    "a, *b = prices1\n",
    "print(b)\n",
    "prices = {*prices1, *prices2}\n",
    "print(prices)\n",
    "prices = {**prices1, **prices2}\n",
    "print(prices)"
   ]
  },
  {
   "cell_type": "code",
   "execution_count": null,
   "metadata": {},
   "outputs": [],
   "source": [
    "prices = dict([('Tomatoes', 4.8), ('Potatoes', 3.7), ('Eggs', 5.79), \n",
    "               ('Pork', 16.6), ('Beef', 48.8), ('Orange', 7.2), \n",
    "               ('Watermelon', 5.9)])\n",
    "\n",
    "print(prices.get('Tomatoes'))\n",
    "prices['Tomatoes'] = 4.7\n",
    "print(prices.get('Tomatoes'))\n",
    "print()\n",
    "\n",
    "print(prices.get('Chicken'))\n",
    "prices['Chicken'] = 10.8\n",
    "print(prices.get('Chicken'))"
   ]
  },
  {
   "cell_type": "code",
   "execution_count": null,
   "metadata": {},
   "outputs": [],
   "source": [
    "prices = dict([('Tomatoes', 4.8), ('Potatoes', 3.7), ('Eggs', 5.79), \n",
    "               ('Pork', 16.6), ('Beef', 48.8), ('Orange', 7.2), \n",
    "               ('Watermelon', 5.9)])\n",
    "\n",
    "print(prices.get('Tomatoes'))\n",
    "prices.setdefault('Tomatoes', 4.7)\n",
    "print(prices.get('Tomatoes'))\n",
    "print()\n",
    "\n",
    "print(prices.get('Chicken'))\n",
    "prices.setdefault('Chicken', 10.8)\n",
    "print(prices.get('Chicken'))"
   ]
  },
  {
   "cell_type": "code",
   "execution_count": null,
   "metadata": {},
   "outputs": [],
   "source": [
    "prices = dict([('Tomatoes', 4.8), ('Potatoes', 3.7)])\n",
    "print(prices)\n",
    "prices.update({'Carrot':3.0, 'Leek':4.6})\n",
    "print(prices)\n",
    "prices |= [('Orange', 7.2),('Apple', 6.9)]\n",
    "print(prices)\n",
    "\n"
   ]
  },
  {
   "cell_type": "code",
   "execution_count": null,
   "metadata": {},
   "outputs": [],
   "source": [
    "prices = dict([('Tomatoes', 4.8), ('Potatoes', 3.7), ('Eggs', 5.79), \n",
    "               ('Pork', 16.6), ('Beef', 48.8), ('Orange', 7.5), \n",
    "               ('Watermelon', 5.9)])\n",
    "del prices['Tomatoes']\n",
    "del prices['Potatoes']\n",
    "del prices['Eggs']\n",
    "del prices['Pork']\n",
    "del prices['Beef']\n",
    "print(prices)\n",
    "prices.__delitem__('Orange')\n",
    "print(prices)\n"
   ]
  },
  {
   "cell_type": "code",
   "execution_count": null,
   "metadata": {},
   "outputs": [],
   "source": [
    "prices = dict([('Tomatoes', 4.8), ('Potatoes', 3.7), ('Eggs', 5.79), \n",
    "               ('Pork', 16.6), ('Beef', 48.8), ('Orange', 7.5), \n",
    "               ('Watermelon', 5.9)])\n",
    "prices['Tomatoes'] = None\n",
    "prices['Potatoes'] = None\n",
    "prices['Eggs'] = None\n",
    "prices['Pork'] = None\n",
    "prices['Beef'] = None\n",
    "print(prices)\n",
    "prices.clear()\n",
    "print(prices)"
   ]
  },
  {
   "cell_type": "code",
   "execution_count": null,
   "metadata": {},
   "outputs": [],
   "source": [
    "prices = dict([('Tomatoes', 4.8), ('Potatoes', 3.7), ('Eggs', 5.79), \n",
    "               ('Pork', 16.6), ('Beef', 48.8), ('Orange', 7.5), \n",
    "               ('Watermelon', 5.9)])\n",
    "print(len(prices))\n",
    "print(prices.items())\n",
    "print(prices.keys())\n",
    "print(prices.values())\n",
    "print('Tomatoes' in prices)\n",
    "\n",
    "print()\n",
    "print(list(prices.items()))"
   ]
  },
  {
   "cell_type": "code",
   "execution_count": null,
   "metadata": {},
   "outputs": [],
   "source": [
    "str_num = {0, 1, 2, 3, 4, 5, 6}\n",
    "print(str_num)\n",
    "str_num = set(range(100))\n",
    "print(str_num)\n",
    "str_num = frozenset(range(100))\n",
    "print(str_num)\n",
    "str_num = {str(i) for i in range(100)}\n",
    "print(str_num)"
   ]
  },
  {
   "cell_type": "code",
   "execution_count": null,
   "metadata": {},
   "outputs": [],
   "source": [
    "def f(x, y):\n",
    "    return x + y\n",
    "print(f(5, 7))\n",
    "g = f\n",
    "print()\n",
    "\n",
    "def f(x, y):\n",
    "    return x * y\n",
    "print(f(5, 7))\n",
    "print(g(5, 7))\n"
   ]
  },
  {
   "cell_type": "code",
   "execution_count": null,
   "metadata": {},
   "outputs": [],
   "source": [
    "def f(a, b, c):\n",
    "    return a * 100 + b * 10 + c\n",
    "\n",
    "print(f(3, 4, 5))\n",
    "print(f(c=3, b=4, a=5))"
   ]
  },
  {
   "cell_type": "code",
   "execution_count": null,
   "metadata": {},
   "outputs": [],
   "source": [
    "def f(a, b, c, /):\n",
    "    return a * 100 + b * 10 + c\n",
    "\n",
    "print(f(c=3, b=4, a=5))"
   ]
  },
  {
   "cell_type": "code",
   "execution_count": null,
   "metadata": {},
   "outputs": [],
   "source": [
    "def f(*, a, b, c):\n",
    "    return a * 100 + b * 10 + c\n",
    "\n",
    "print(f(3, 4, 5))"
   ]
  },
  {
   "cell_type": "code",
   "execution_count": null,
   "metadata": {},
   "outputs": [],
   "source": [
    "def f(a, b, c, *args):\n",
    "    num = a * 100 + b * 10 + c\n",
    "    for i in args:\n",
    "        num = num * 10 + i\n",
    "    return num\n",
    "\n",
    "print(f(1, 3, 7, 2, 5, 4, 3, 9, 6))"
   ]
  },
  {
   "cell_type": "code",
   "execution_count": null,
   "metadata": {},
   "outputs": [],
   "source": [
    "def f(a, b, c, **kwargs):\n",
    "    return kwargs\n",
    "\n",
    "print(f(1, 2, 3, d=1, e=2))"
   ]
  },
  {
   "cell_type": "code",
   "execution_count": null,
   "metadata": {},
   "outputs": [],
   "source": [
    "def f(a: int, b: int, c: str):\n",
    "    return a * 100 + b * 10 + c\n",
    "\n",
    "print(f(1, 2, 3))"
   ]
  },
  {
   "cell_type": "code",
   "execution_count": null,
   "metadata": {},
   "outputs": [],
   "source": [
    "num = [1, 2, 3, 4, 5] \n",
    "print(num[::-1])"
   ]
  },
  {
   "cell_type": "code",
   "execution_count": null,
   "metadata": {},
   "outputs": [],
   "source": [
    "num = [1, 2, 3, 4, 5] \n",
    "print(num.reverse())\n",
    "print(num)"
   ]
  },
  {
   "cell_type": "code",
   "execution_count": null,
   "metadata": {},
   "outputs": [],
   "source": [
    "def f(x):\n",
    "    try:\n",
    "        print('before try')\n",
    "        return 'return try'\n",
    "        print('after try')\n",
    "    except:\n",
    "        pass\n",
    "    finally:\n",
    "        print('before finally')\n",
    "        return 'return finally'\n",
    "        print('after finally')\n",
    "\n",
    "print(f(0))"
   ]
  },
  {
   "cell_type": "code",
   "execution_count": null,
   "metadata": {},
   "outputs": [],
   "source": [
    "def f(x):\n",
    "    def g(y):\n",
    "        return x <= y\n",
    "    return g\n",
    "\n",
    "geq3 = f(3)\n",
    "\n",
    "print(geq3(2))\n",
    "print(geq3(3))\n",
    "print(geq3(4))\n"
   ]
  },
  {
   "cell_type": "code",
   "execution_count": null,
   "metadata": {},
   "outputs": [],
   "source": [
    "def concat(*funcs):\n",
    "    def _concat_func(arg):\n",
    "        for func in funcs:\n",
    "            arg = func(arg)\n",
    "        return arg\n",
    "    return _concat_func\n",
    "\n",
    "f = concat(sorted, ' > '.join, print)\n",
    "\n",
    "f(['apple', 'orange', 'banana', 'lemon'])\n",
    "f(['Beijing', 'Shanghai', 'Guangzhou', 'Shenzhen'])\n"
   ]
  },
  {
   "cell_type": "code",
   "execution_count": null,
   "metadata": {},
   "outputs": [],
   "source": [
    "def f(x, y, z):\n",
    "    return x * 100 + y * 10 + z\n",
    "\n",
    "def curry3(func):\n",
    "    def _func_x(x):\n",
    "        def _func_y(y):\n",
    "            def _func_z(z):\n",
    "                return func(x, y, z)\n",
    "            return _func_z\n",
    "        return _func_y\n",
    "    return _func_x\n",
    "\n",
    "print(f)\n",
    "xf = curry3(f) \n",
    "print(xf)\n",
    "yf = xf(3)\n",
    "print(yf)\n",
    "zf = yf(1) \n",
    "print(zf)\n",
    "ans = zf(5)\n",
    "print(ans)\n"
   ]
  },
  {
   "cell_type": "code",
   "execution_count": null,
   "metadata": {},
   "outputs": [],
   "source": [
    "def curry(func):\n",
    "    _arg_count = func.__code__.co_argcount\n",
    "    def _get_curry_func(_args):\n",
    "        def _curry_func(arg):\n",
    "            if len(_args) + 1 == _arg_count:\n",
    "                return func(*_args, arg)\n",
    "            else:\n",
    "                return _get_curry_func(_args + [arg])\n",
    "        return _curry_func\n",
    "    return _get_curry_func([])\n",
    "\n",
    "def f(x0, x1, x2, x3, x4, x5, x6, x7, x8, x9):\n",
    "    return ((((((((x0 * 10 + x1) * 10 + x2) * 10 + x3) * 10 + x4) * \n",
    "               10 + x5) * 10 + x6) * 10 + x7) * 10 + x8) * 10 + x9\n",
    "\n",
    "x0f = curry(f)\n",
    "print(x0f)\n",
    "x1f = x0f(6)\n",
    "print(x1f)\n",
    "x2f = x1f(6)\n",
    "print(x2f)\n",
    "x3f = x2f(6)\n",
    "print(x3f)\n",
    "x4f = x3f(7)\n",
    "print(x4f)\n",
    "x5f = x4f(7)\n",
    "print(x5f)\n",
    "x6f = x5f(7)\n",
    "print(x6f)\n",
    "x7f = x6f(8)\n",
    "print(x7f)\n",
    "x8f = x7f(8)\n",
    "print(x8f)\n",
    "x9f = x8f(8)\n",
    "print(x9f)\n",
    "ans = x9f(9)\n",
    "print(ans)"
   ]
  },
  {
   "cell_type": "code",
   "execution_count": null,
   "metadata": {},
   "outputs": [],
   "source": [
    "glb_a = 1"
   ]
  },
  {
   "cell_type": "code",
   "execution_count": null,
   "metadata": {},
   "outputs": [],
   "source": [
    "print(glb_a)"
   ]
  },
  {
   "cell_type": "code",
   "execution_count": null,
   "metadata": {},
   "outputs": [],
   "source": [
    "def f():\n",
    "    print(glb_a)\n",
    "f()"
   ]
  },
  {
   "cell_type": "code",
   "execution_count": null,
   "metadata": {},
   "outputs": [],
   "source": [
    "def f():\n",
    "    glb_a =2\n",
    "    print(glb_a)\n",
    "f()\n",
    "print(glb_a)"
   ]
  },
  {
   "cell_type": "code",
   "execution_count": null,
   "metadata": {},
   "outputs": [],
   "source": [
    "def f():\n",
    "    global glb_a\n",
    "    glb_a =2\n",
    "    print(glb_a)\n",
    "f()\n",
    "print(glb_a)"
   ]
  },
  {
   "cell_type": "code",
   "execution_count": null,
   "metadata": {},
   "outputs": [],
   "source": [
    "def f():\n",
    "    ans = []\n",
    "    def g(y):\n",
    "        if y is None:\n",
    "            return ans\n",
    "        ans.append(y)\n",
    "    return g\n",
    "\n",
    "g = f()\n",
    "g(0)\n",
    "g(1)\n",
    "g(2)\n",
    "g(3)\n",
    "g(4)\n",
    "print(g(None))"
   ]
  },
  {
   "cell_type": "code",
   "execution_count": null,
   "metadata": {},
   "outputs": [],
   "source": [
    "def f():\n",
    "    ans = []\n",
    "    def g(y):\n",
    "        if y is None:\n",
    "            return ans\n",
    "        ans += [y]\n",
    "    return g\n",
    "\n",
    "g = f()\n",
    "g(0)\n",
    "g(1)\n",
    "g(2)\n",
    "g(3)\n",
    "g(4)\n",
    "print(g(None))"
   ]
  },
  {
   "cell_type": "code",
   "execution_count": null,
   "metadata": {},
   "outputs": [],
   "source": [
    "def f():\n",
    "    ans = []\n",
    "    def g(y):\n",
    "        nonlocal ans\n",
    "        if y is None:\n",
    "            return ans\n",
    "        ans += [y]\n",
    "    return g\n",
    "\n",
    "g = f()\n",
    "g(0)\n",
    "g(1)\n",
    "g(2)\n",
    "g(3)\n",
    "g(4)\n",
    "print(g(None))"
   ]
  },
  {
   "cell_type": "code",
   "execution_count": null,
   "metadata": {},
   "outputs": [],
   "source": [
    "def f(x, y):\n",
    "    return x + y\n",
    "\n",
    "def g():\n",
    "    global f\n",
    "    def f(x, y):\n",
    "        return x * y\n",
    "    \n",
    "print(f(5, 7))\n",
    "g()\n",
    "print(f(5, 7))"
   ]
  },
  {
   "cell_type": "code",
   "execution_count": null,
   "metadata": {},
   "outputs": [],
   "source": [
    "print(globals())"
   ]
  },
  {
   "cell_type": "code",
   "execution_count": null,
   "metadata": {},
   "outputs": [],
   "source": [
    "print(locals())\n",
    "def f(x):\n",
    "    a = 1\n",
    "    b = 2\n",
    "    def g():\n",
    "        pass\n",
    "    print(locals())\n",
    "f(x=0)"
   ]
  },
  {
   "cell_type": "code",
   "execution_count": null,
   "metadata": {},
   "outputs": [],
   "source": [
    "print(locals())\n",
    "def f(x):\n",
    "    global glb_a\n",
    "    a = 1\n",
    "    b = 2\n",
    "    def g():\n",
    "        pass\n",
    "    print(locals())\n",
    "f(x=0)"
   ]
  },
  {
   "cell_type": "code",
   "execution_count": null,
   "metadata": {},
   "outputs": [],
   "source": [
    "def square():\n",
    "     i = 1\n",
    "     while True:\n",
    "         yield i ** 2\n",
    "         i += 1\n",
    "         \n",
    "for i in square():\n",
    "    print(i)\n",
    "    if i > 50:\n",
    "        break\n"
   ]
  },
  {
   "cell_type": "code",
   "execution_count": null,
   "metadata": {},
   "outputs": [],
   "source": [
    "it = iter([1,2,3,4])\n",
    "for e in it:\n",
    "    print(e)"
   ]
  },
  {
   "cell_type": "code",
   "execution_count": null,
   "metadata": {},
   "outputs": [],
   "source": [
    "it = range(10)\n",
    "for e in it:\n",
    "    print(e)"
   ]
  },
  {
   "cell_type": "code",
   "execution_count": null,
   "metadata": {},
   "outputs": [],
   "source": [
    "it = (i for i in range(10))\n",
    "for e in it:\n",
    "    print(e)"
   ]
  },
  {
   "cell_type": "code",
   "execution_count": null,
   "metadata": {},
   "outputs": [],
   "source": [
    "for e in enumerate('Python'):\n",
    "    print(e)\n"
   ]
  },
  {
   "cell_type": "code",
   "execution_count": null,
   "metadata": {},
   "outputs": [],
   "source": [
    "for i, ch in enumerate('Python'):\n",
    "    print(i, '-', ch)"
   ]
  },
  {
   "cell_type": "code",
   "execution_count": null,
   "metadata": {},
   "outputs": [],
   "source": [
    "it = filter(lambda x: x > 5, range(10))\n",
    "for e in it:\n",
    "    print(e)"
   ]
  },
  {
   "cell_type": "code",
   "execution_count": null,
   "metadata": {},
   "outputs": [],
   "source": [
    "it = zip('ABCDEFG', 'abcdefg', '1234567')\n",
    "for e in it:\n",
    "    print(e)"
   ]
  },
  {
   "cell_type": "code",
   "execution_count": null,
   "metadata": {},
   "outputs": [],
   "source": [
    "import itertools\n",
    "it = itertools.product('AB','12')\n",
    "for e in it:\n",
    "    print(e)"
   ]
  },
  {
   "cell_type": "code",
   "execution_count": null,
   "metadata": {},
   "outputs": [],
   "source": [
    "import itertools\n",
    "it = itertools.product('ABC', repeat=3)\n",
    "for e in it:\n",
    "    print(e)"
   ]
  },
  {
   "cell_type": "code",
   "execution_count": null,
   "metadata": {},
   "outputs": [],
   "source": [
    "import itertools\n",
    "it = itertools.permutations('ABCD')\n",
    "for e in it:\n",
    "    print(e)"
   ]
  },
  {
   "cell_type": "code",
   "execution_count": null,
   "metadata": {},
   "outputs": [],
   "source": [
    "import itertools\n",
    "it = itertools.permutations('ABCD', 3)\n",
    "for e in it:\n",
    "    print(e)"
   ]
  },
  {
   "cell_type": "code",
   "execution_count": null,
   "metadata": {},
   "outputs": [],
   "source": [
    "import itertools\n",
    "it = itertools.combinations('ABCD',2)\n",
    "for e in it:\n",
    "    print(e)"
   ]
  },
  {
   "cell_type": "code",
   "execution_count": null,
   "metadata": {},
   "outputs": [],
   "source": [
    "import itertools\n",
    "it = itertools.combinations_with_replacement('ABCD',2)\n",
    "for e in it:\n",
    "    print(e)"
   ]
  },
  {
   "cell_type": "code",
   "execution_count": null,
   "metadata": {},
   "outputs": [],
   "source": [
    "class mycls:\n",
    "    def __init__(self):\n",
    "        pass\n",
    "    \n",
    "    def func(self):\n",
    "        print(self)\n",
    "\n",
    "mycls().func()"
   ]
  },
  {
   "cell_type": "code",
   "execution_count": null,
   "metadata": {},
   "outputs": [],
   "source": [
    "class mycls:\n",
    "    def __init__(self):\n",
    "        pass\n",
    "    \n",
    "    @classmethod\n",
    "    def func(self):\n",
    "        print(self)\n",
    "\n",
    "mycls().func()"
   ]
  },
  {
   "cell_type": "code",
   "execution_count": null,
   "metadata": {},
   "outputs": [],
   "source": [
    "def cls(func):\n",
    "    def _cls_func(self, *args, **kwargs):\n",
    "        return func(self.__class__, *args, **kwargs)\n",
    "    return _cls_func\n",
    "\n",
    "class mycls:\n",
    "    def __init__(self):\n",
    "        pass\n",
    "    \n",
    "    @classmethod\n",
    "    def func(self):\n",
    "        print(self)\n",
    "\n",
    "mycls().func()\n"
   ]
  },
  {
   "cell_type": "code",
   "execution_count": null,
   "metadata": {},
   "outputs": [],
   "source": [
    "def cls(func):\n",
    "    cls_name = func.__code__.co_varnames[0]\n",
    "    local ={'func': func, '_cls_func': None} | globals()\n",
    "    exec(f'''def _cls_func({cls_name}, *args, **kwargs):\n",
    "    return func({cls_name}.__class__, *args, **kwargs)''', local)\n",
    "    return local['_cls_func']\n",
    "\n",
    "class mycls:\n",
    "    def __init__(self):\n",
    "        pass\n",
    "    \n",
    "    @cls\n",
    "    def func(self):\n",
    "        print(self)\n",
    "\n",
    "mycls().func()\n"
   ]
  },
  {
   "cell_type": "code",
   "execution_count": null,
   "metadata": {},
   "outputs": [],
   "source": [
    "def fibonacci(n):\n",
    "    return fibonacci(n-1)+fibonacci(n-2) if n > 2 else 1\n",
    "\n",
    "print(fibonacci(40))"
   ]
  },
  {
   "cell_type": "code",
   "execution_count": null,
   "metadata": {},
   "outputs": [],
   "source": [
    "import functools\n",
    "@functools.cache\n",
    "def fibonacci_cache(n):\n",
    "    return fibonacci_cache(n-1)+fibonacci_cache(n-2) if n > 2 else 1\n",
    "\n",
    "print(fibonacci_cache(40))\n",
    "print(fibonacci_cache(1000))"
   ]
  },
  {
   "cell_type": "code",
   "execution_count": null,
   "metadata": {},
   "outputs": [],
   "source": [
    "import functools\n",
    "@functools.cache\n",
    "def fibonacci_cache(n):\n",
    "    return fibonacci_cache(n-1)+fibonacci_cache(n-2) if n > 2 else 1\n",
    "\n",
    "print(fibonacci_cache(1000))"
   ]
  },
  {
   "cell_type": "code",
   "execution_count": null,
   "metadata": {},
   "outputs": [],
   "source": [
    "# A simple fraction class that implements common operations between fractions, or between fractions and integers\n",
    "# Note: Pure dazzling skills, do not learn such coding style. Just make sure you understand.\n",
    "import functools\n",
    "\n",
    "\n",
    "def gcd(x, y):\n",
    "    \"\"\"Calculate the greatest common divisor by recursion, and the sign of result is the same as y.\"\"\"\n",
    "    return gcd(y, x % y) if x % y else y\n",
    "\n",
    "\n",
    "def define(clsA, clss, name, ret):\n",
    "    \"\"\"Add a method to the class clsA, which performs a type check and then directly calculates the result based on the anonymous function ret.\"\"\"\n",
    "    def _func(self, *other):\n",
    "        other = list(other)\n",
    "        for i, cls in enumerate(clss):\n",
    "            if not isinstance(other[i], cls): other[i] = cls(other[i])\n",
    "        return ret(self, *other)\n",
    "    exec(f'clsA.{name}=_func')\n",
    "\n",
    "\n",
    "class frac:\n",
    "    def __init__(self, nume, deno=1):\n",
    "        \"\"\"Create a new score object, ensuring that it is simple and has a positive denominator.\"\"\"\n",
    "        if not (isinstance(nume, int) and isinstance(deno, int)): raise TypeError \n",
    "        d = gcd(nume, deno)\n",
    "        self.nume, self.deno = nume // d, deno // d\n",
    "\n",
    "\n",
    "\"\"\"The following implementation of addition, subtraction, multiplication, and division can only perform operations between fractions and between fractions and integers.\"\"\"\n",
    "define(frac, [frac], '__add__'     , (lambda a, b: frac(a.nume * b.deno + a.deno * b.nume, a.deno * b.deno)))\n",
    "define(frac, [frac], '__sub__'     , (lambda a, b: frac(a.nume * b.deno - a.deno * b.nume, a.deno * b.deno)))\n",
    "define(frac, [frac], '__mul__'     , (lambda a, b: frac(a.nume * b.nume                  , a.deno * b.deno)))\n",
    "define(frac, [frac], '__truediv__' , (lambda a, b: frac(a.nume * b.deno                  , a.deno * b.nume)))\n",
    "define(frac, [frac], '__radd__'    , (lambda a, b: frac(a.deno * b.nume + a.nume * b.deno, a.deno * b.deno)))\n",
    "define(frac, [frac], '__rsub__'    , (lambda a, b: frac(a.deno * b.nume - a.nume * b.deno, a.deno * b.deno)))\n",
    "define(frac, [frac], '__rmul__'    , (lambda a, b: frac(a.nume * b.nume                  , a.deno * b.deno)))\n",
    "define(frac, [frac], '__rtruediv__', (lambda a, b: frac(a.deno * b.nume                  , a.nume * b.deno)))\n",
    "\n",
    "\"\"\"The following implementation of power can only perform operations between fractions and integers.\"\"\"\n",
    "define(frac, [int ], '__pow__'     , (lambda a, b: frac(a.nume ** b                      , a.deno ** b    )))\n",
    "\n",
    "\"\"\"The following implements positive, negative, and absolute values.\"\"\"\n",
    "define(frac, [    ], '__pos__'     , (lambda a   : frac(a.nume                           , a.deno         )))\n",
    "define(frac, [    ], '__neg__'     , (lambda a   : frac(a.nume.__neg__()                 , a.deno         )))\n",
    "define(frac, [    ], '__abs__'     , (lambda a   : frac(a.nume.__abs__()                 , a.deno         )))\n",
    "\n",
    "\"\"\"The following implements comparison methods\"\"\"\n",
    "define(frac, [frac], '__gt__'      ,  lambda a, b:      a.nume * b.deno > a.deno * b.nume                   )\n",
    "frac = functools.total_ordering(frac)\n",
    "\n",
    "\"\"\"The following implements rounding methods\"\"\"\n",
    "define(frac, [    ], '__ceil__'    ,  lambda a   :      (a.nume - 1) // a.deno + 1                          )\n",
    "define(frac, [    ], '__floor__'   ,  lambda a   :      a.nume // a.deno                                    )\n",
    "\n",
    "\"\"\"The following implements type conversion methods\"\"\"\n",
    "define(frac, [    ], '__int__'     ,  lambda a   :      a.nume // a.deno                                    )\n",
    "define(frac, [    ], '__float__'   ,  lambda a   :      a.nume / a.deno                                     )\n",
    "define(frac, [    ], '__str__'     ,  lambda a   :      f'{a.nume}/{a.deno}'                                )\n",
    "\n",
    "\n",
    "\"\"\"Test cases\"\"\"\n",
    "a = frac(33,17)\n",
    "b = frac(21,8)\n",
    "print('a + b', 'a - b', 'a * b', 'a / b', sep='\\t')\n",
    "print(a + b, a - b, a * b, a / b, sep='\\t')\n",
    "print('5 + b', '5 - b', '5 * b', '5 / b', 'a ** 2', sep='\\t')\n",
    "print(5 + b, 5 - b, 5 * b, 5 / b, a ** 2, sep = '\\t')\n",
    "print('a + 5', 'a - 5', 'a * 5', 'a / 5', 'b ** 3', sep='\\t')\n",
    "print(5 + b, 5 - b, 5 * b, 5 / b, b ** 3, sep = '\\t')\n",
    "print()\n",
    "print('+b', '-b', 'abs(b)', sep='\\t')\n",
    "print(+b, -b, abs(b), sep='\\t')\n",
    "print()\n",
    "print('a > b', 'a < b', 'a == b', 'a != b', 'a >= b', 'a <= b', sep='\\t')\n",
    "print(a > b, a < b, a == b, a != b, a >= b, a <= b, sep = '\\t')\n",
    "print('a > 1', 'a < 1', 'a == 1', 'a != 1', 'a >= 1', 'a <= 1', sep='\\t')\n",
    "print(a > b, a < b, a == b, a != b, a >= b, a <= b, sep = '\\t')\n",
    "print('2 > b', '2 < b', '2 == b', '2 != b', '2 >= b', '2 <= b', sep='\\t')\n",
    "print()\n",
    "print('ceil(a)', 'floor(b)', sep='\\t')\n",
    "print(a.__ceil__(), b.__floor__(), sep='\\t')\n",
    "print()\n",
    "print('int(a)', 'float(b)', 'complex(b)', sep='\\t')\n",
    "print(int(a), float(b), complex(b), sep='   \\t')"
   ]
  }
 ],
 "metadata": {
  "kernelspec": {
   "display_name": "Python 3",
   "language": "python",
   "name": "python3"
  },
  "language_info": {
   "codemirror_mode": {
    "name": "ipython",
    "version": 3
   },
   "file_extension": ".py",
   "mimetype": "text/x-python",
   "name": "python",
   "nbconvert_exporter": "python",
   "pygments_lexer": "ipython3",
   "version": "3.9.13"
  },
  "orig_nbformat": 4,
  "vscode": {
   "interpreter": {
    "hash": "ed9cbe6b832d7302034a490386741861c08076763132f2375c3230054ad11dc1"
   }
  }
 },
 "nbformat": 4,
 "nbformat_minor": 2
}
