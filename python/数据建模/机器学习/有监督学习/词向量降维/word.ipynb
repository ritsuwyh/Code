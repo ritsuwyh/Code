{
 "cells": [
  {
   "cell_type": "code",
   "execution_count": 9,
   "metadata": {},
   "outputs": [
    {
     "name": "stdout",
     "output_type": "stream",
     "text": [
      "[[-6.2065e-04  8.5125e-01  2.6492e-01 ...  4.1076e-01 -6.9626e-01\n",
      "   7.1331e-01]\n",
      " [-3.8060e-01  1.0751e+00  2.5990e-01 ... -6.3190e-01 -6.8910e-01\n",
      "   1.2523e+00]\n",
      " [ 5.9750e-01  4.3610e-01  3.7440e-01 ...  6.4470e-01 -4.6200e-01\n",
      "   2.4480e-01]\n",
      " ...\n",
      " [-3.3900e-02 -2.8830e-01  2.1630e-01 ...  2.6180e-01  1.6810e-01\n",
      "  -2.6780e-01]\n",
      " [ 1.3956e+00 -4.5620e-01  8.0600e-01 ... -2.4130e-01  1.2290e-01\n",
      "   3.0470e-01]\n",
      " [-6.6680e-01 -3.7220e-01  9.1730e-01 ...  1.0887e+00  6.7110e-01\n",
      "   7.2020e-01]]\n",
      "[[ 0.0000e+00 -6.2065e-04  8.5125e-01 ...  4.1076e-01 -6.9626e-01\n",
      "   7.1331e-01]\n",
      " [ 0.0000e+00 -3.8060e-01  1.0751e+00 ... -6.3190e-01 -6.8910e-01\n",
      "   1.2523e+00]\n",
      " [ 0.0000e+00  5.9750e-01  4.3610e-01 ...  6.4470e-01 -4.6200e-01\n",
      "   2.4480e-01]\n",
      " ...\n",
      " [ 1.0000e+00 -3.3900e-02 -2.8830e-01 ...  2.6180e-01  1.6810e-01\n",
      "  -2.6780e-01]\n",
      " [ 1.0000e+00  1.3956e+00 -4.5620e-01 ... -2.4130e-01  1.2290e-01\n",
      "   3.0470e-01]\n",
      " [ 1.0000e+00 -6.6680e-01 -3.7220e-01 ...  1.0887e+00  6.7110e-01\n",
      "   7.2020e-01]]\n",
      "[0. 0. 0. 0. 0. 0. 0. 0. 0. 0. 0. 0. 0. 0. 0. 0. 0. 0. 0. 0. 1. 1. 1. 1.\n",
      " 1. 1. 1. 1. 1. 1. 1. 1. 1. 1. 1. 1. 1. 1. 1. 1.]\n"
     ]
    }
   ],
   "source": [
    "import pandas as pd\n",
    "import numpy as np\n",
    "from sklearn.model_selection import train_test_split\n",
    "from sklearn.neighbors import KNeighborsClassifier\n",
    "from sklearn.model_selection import cross_val_score\n",
    "import matplotlib.pyplot as plt\n",
    "#! 首先通过更改所有匹配项来把 country和sports改为 0,1 的数据\n",
    "data=np.loadtxt('word_data.txt')\n",
    "x=np.delete(data,[0],axis=1)#! axis=1 是删除列\n",
    "print(x)\n",
    "print(data)\n",
    "y=data[:,0].copy()\n",
    "print(y)\n"
   ]
  },
  {
   "cell_type": "code",
   "execution_count": null,
   "metadata": {},
   "outputs": [],
   "source": [
    "\n",
    "k_score=[]\n",
    "#! 一共有40条数据 差不多到k取三十之后就没用了 这个范围是要自己看数据量决定的\n",
    "for k in range(1,31):\n",
    "    knn=KNeighborsClassifier(n_neighbors=k)\n",
    "    scores=cross_val_score(knn,x,y,cv=5,scoring='accuracy')\n",
    "    print(scores)\n",
    "    \n",
    "    k_score.append(np.mean(scores))\n",
    "    \n",
    "print(k_score)"
   ]
  },
  {
   "cell_type": "code",
   "execution_count": 17,
   "metadata": {},
   "outputs": [
    {
     "data": {
      "image/png": "[encoded data removed]",
      "text/plain": [
       "<Figure size 432x288 with 1 Axes>"
      ]
     },
     "metadata": {
      "needs_background": "light"
     },
     "output_type": "display_data"
    }
   ],
   "source": [
    "plt.plot(range(1,31),k_score) #x轴为k值 y轴为k值 得分数\n",
    "plt.xlabel('Value of K in Knn')\n",
    "plt.ylabel('Score')\n",
    "plt.show()"
   ]
  },
  {
   "cell_type": "code",
   "execution_count": 18,
   "metadata": {},
   "outputs": [
    {
     "name": "stdout",
     "output_type": "stream",
     "text": [
      "模型分类结果： [0. 0. 0. 0. 0. 0. 0. 0. 0. 0. 0. 0. 0. 0. 0. 0. 0. 0. 0. 0. 1. 1. 1. 1.\n",
      " 1. 1. 1. 1. 1. 1. 1. 1. 1. 1. 1. 1. 1. 1. 1. 1.]\n",
      "真实的结果： [0. 0. 0. 0. 0. 0. 0. 0. 0. 0. 0. 0. 0. 0. 0. 0. 0. 0. 0. 0. 1. 1. 1. 1.\n",
      " 1. 1. 1. 1. 1. 1. 1. 1. 1. 1. 1. 1. 1. 1. 1. 1.]\n"
     ]
    }
   ],
   "source": [
    "#! 根据图找到合适的k\n",
    "k=10\n",
    "knn = KNeighborsClassifier(n_neighbors=k)\n",
    "#训练模型:特征数据必须是二维的\n",
    "knn.fit(x,y)\n",
    "\n",
    "knn.predict(x)\n",
    "print('模型分类结果：',knn.predict(x))\n",
    "print('真实的结果：',y)"
   ]
  },
  {
   "cell_type": "code",
   "execution_count": 24,
   "metadata": {},
   "outputs": [
    {
     "name": "stdout",
     "output_type": "stream",
     "text": [
      "1 1.0\n",
      "2 1.0\n",
      "3 1.0\n",
      "4 1.0\n",
      "5 1.0\n",
      "6 1.0\n",
      "7 1.0\n",
      "8 1.0\n",
      "9 1.0\n",
      "10 1.0\n",
      "11 1.0\n",
      "12 1.0\n",
      "13 1.0\n",
      "14 1.0\n",
      "15 1.0\n",
      "16 1.0\n",
      "17 1.0\n",
      "18 1.0\n",
      "19 1.0\n",
      "20 1.0\n",
      "21 1.0\n",
      "22 1.0\n",
      "23 1.0\n",
      "24 1.0\n",
      "25 1.0\n",
      "26 1.0\n",
      "27 1.0\n",
      "28 1.0\n",
      "29 1.0\n",
      "30 1.0\n",
      "31 1.0\n",
      "32 1.0\n",
      "33 1.0\n",
      "34 1.0\n",
      "35 1.0\n",
      "36 1.0\n",
      "37 1.0\n",
      "38 1.0\n",
      "39 1.0\n",
      "40 1.0\n",
      "===============\n",
      "40 1.0\n"
     ]
    }
   ],
   "source": [
    "\n",
    "#! 降维 想找到降到哪合适\n",
    "from sklearn.decomposition import PCA\n",
    "import numpy as np\n",
    "\n",
    "score=0\n",
    "best_n=0\n",
    "for n in range(1,41):#n_components must be between 0 and min(n_samples, n_features)=40 with svd_solver='full'\n",
    "    \n",
    "    pca=PCA(n_components=n)\n",
    "    pca.fit(x)\n",
    "    #! 降维完成\n",
    "\n",
    "#! 利用之前找到比较合适的knn器\n",
    "    X=pca.transform(x)\n",
    "    knn.fit(X,y)\n",
    "    if score<=knn.score(X,y):\n",
    "        best_n=n\n",
    "        score=knn.score(X,y)\n",
    "        print(best_n,score)\n",
    "        \n",
    "print('===============')   \n",
    "print(best_n,score)"
   ]
  }
 ],
 "metadata": {
  "interpreter": {
   "hash": "5179d32cf6ec497baf3f8a3ef987cc77c5d2dc691fdde20a56316522f61a7323"
  },
  "kernelspec": {
   "display_name": "Python 3.9.7 ('base')",
   "language": "python",
   "name": "python3"
  },
  "language_info": {
   "codemirror_mode": {
    "name": "ipython",
    "version": 3
   },
   "file_extension": ".py",
   "mimetype": "text/x-python",
   "name": "python",
   "nbconvert_exporter": "python",
   "pygments_lexer": "ipython3",
   "version": "3.9.7"
  },
  "orig_nbformat": 4
 },
 "nbformat": 4,
 "nbformat_minor": 2
}
